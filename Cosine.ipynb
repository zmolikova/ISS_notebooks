{
 "cells": [
  {
   "cell_type": "code",
   "execution_count": 1,
   "metadata": {},
   "outputs": [],
   "source": [
    "%matplotlib notebook"
   ]
  },
  {
   "cell_type": "code",
   "execution_count": 2,
   "metadata": {},
   "outputs": [],
   "source": [
    "import numpy as np\n",
    "import matplotlib.pyplot as plt\n",
    "from numpy import pi as pi\n",
    "\n",
    "from IPython.display import display\n",
    "from ipywidgets import interact"
   ]
  },
  {
   "cell_type": "code",
   "execution_count": 3,
   "metadata": {},
   "outputs": [],
   "source": [
    "def get_disc_cos(A, f, phi, N):\n",
    "    \"\"\"Create N samples of discrete cosine function.\n",
    "\n",
    "    A: amplitude\n",
    "    f: frequency\n",
    "    phi: initial phase\n",
    "    N: number of samples to compute\n",
    "    \"\"\"\n",
    "    n = np.arange(N)\n",
    "    cos_n = A * np.cos(2 * np.pi * f * n + phi)\n",
    "    return n, cos_n\n",
    "\n",
    "def get_cont_cos(A, f, phi, N, n_points = 1000):\n",
    "    \"\"\"Create a continuous cosine function \n",
    "    corresponding to a discrete cosine of N samples\n",
    "    (just to make the visualisation of the discrete\n",
    "    cosine nicer)\n",
    "\n",
    "    A: amplitude\n",
    "    f: frequency\n",
    "    phi: initial phase\n",
    "    N: number of samples of the corresponding discrete cosine\n",
    "    n_points: number of points for interpolation \n",
    "              of the continuous function\n",
    "    \"\"\"\n",
    "    t = np.linspace(0, N, n_points)\n",
    "    cos_t = A * np.cos(2 * np.pi * f * t + phi)\n",
    "    return t, cos_t\n",
    "    \n"
   ]
  },
  {
   "cell_type": "code",
   "execution_count": 4,
   "metadata": {},
   "outputs": [
    {
     "data": {
      "application/javascript": [
       "/* Put everything inside the global mpl namespace */\n",
       "window.mpl = {};\n",
       "\n",
       "\n",
       "mpl.get_websocket_type = function() {\n",
       "    if (typeof(WebSocket) !== 'undefined') {\n",
       "        return WebSocket;\n",
       "    } else if (typeof(MozWebSocket) !== 'undefined') {\n",
       "        return MozWebSocket;\n",
       "    } else {\n",
       "        alert('Your browser does not have WebSocket support.' +\n",
       "              'Please try Chrome, Safari or Firefox ≥ 6. ' +\n",
       "              'Firefox 4 and 5 are also supported but you ' +\n",
       "              'have to enable WebSockets in about:config.');\n",
       "    };\n",
       "}\n",
       "\n",
       "mpl.figure = function(figure_id, websocket, ondownload, parent_element) {\n",
       "    this.id = figure_id;\n",
       "\n",
       "    this.ws = websocket;\n",
       "\n",
       "    this.supports_binary = (this.ws.binaryType != undefined);\n",
       "\n",
       "    if (!this.supports_binary) {\n",
       "        var warnings = document.getElementById(\"mpl-warnings\");\n",
       "        if (warnings) {\n",
       "            warnings.style.display = 'block';\n",
       "            warnings.textContent = (\n",
       "                \"This browser does not support binary websocket messages. \" +\n",
       "                    \"Performance may be slow.\");\n",
       "        }\n",
       "    }\n",
       "\n",
       "    this.imageObj = new Image();\n",
       "\n",
       "    this.context = undefined;\n",
       "    this.message = undefined;\n",
       "    this.canvas = undefined;\n",
       "    this.rubberband_canvas = undefined;\n",
       "    this.rubberband_context = undefined;\n",
       "    this.format_dropdown = undefined;\n",
       "\n",
       "    this.image_mode = 'full';\n",
       "\n",
       "    this.root = $('<div/>');\n",
       "    this._root_extra_style(this.root)\n",
       "    this.root.attr('style', 'display: inline-block');\n",
       "\n",
       "    $(parent_element).append(this.root);\n",
       "\n",
       "    this._init_header(this);\n",
       "    this._init_canvas(this);\n",
       "    this._init_toolbar(this);\n",
       "\n",
       "    var fig = this;\n",
       "\n",
       "    this.waiting = false;\n",
       "\n",
       "    this.ws.onopen =  function () {\n",
       "            fig.send_message(\"supports_binary\", {value: fig.supports_binary});\n",
       "            fig.send_message(\"send_image_mode\", {});\n",
       "            if (mpl.ratio != 1) {\n",
       "                fig.send_message(\"set_dpi_ratio\", {'dpi_ratio': mpl.ratio});\n",
       "            }\n",
       "            fig.send_message(\"refresh\", {});\n",
       "        }\n",
       "\n",
       "    this.imageObj.onload = function() {\n",
       "            if (fig.image_mode == 'full') {\n",
       "                // Full images could contain transparency (where diff images\n",
       "                // almost always do), so we need to clear the canvas so that\n",
       "                // there is no ghosting.\n",
       "                fig.context.clearRect(0, 0, fig.canvas.width, fig.canvas.height);\n",
       "            }\n",
       "            fig.context.drawImage(fig.imageObj, 0, 0);\n",
       "        };\n",
       "\n",
       "    this.imageObj.onunload = function() {\n",
       "        fig.ws.close();\n",
       "    }\n",
       "\n",
       "    this.ws.onmessage = this._make_on_message_function(this);\n",
       "\n",
       "    this.ondownload = ondownload;\n",
       "}\n",
       "\n",
       "mpl.figure.prototype._init_header = function() {\n",
       "    var titlebar = $(\n",
       "        '<div class=\"ui-dialog-titlebar ui-widget-header ui-corner-all ' +\n",
       "        'ui-helper-clearfix\"/>');\n",
       "    var titletext = $(\n",
       "        '<div class=\"ui-dialog-title\" style=\"width: 100%; ' +\n",
       "        'text-align: center; padding: 3px;\"/>');\n",
       "    titlebar.append(titletext)\n",
       "    this.root.append(titlebar);\n",
       "    this.header = titletext[0];\n",
       "}\n",
       "\n",
       "\n",
       "\n",
       "mpl.figure.prototype._canvas_extra_style = function(canvas_div) {\n",
       "\n",
       "}\n",
       "\n",
       "\n",
       "mpl.figure.prototype._root_extra_style = function(canvas_div) {\n",
       "\n",
       "}\n",
       "\n",
       "mpl.figure.prototype._init_canvas = function() {\n",
       "    var fig = this;\n",
       "\n",
       "    var canvas_div = $('<div/>');\n",
       "\n",
       "    canvas_div.attr('style', 'position: relative; clear: both; outline: 0');\n",
       "\n",
       "    function canvas_keyboard_event(event) {\n",
       "        return fig.key_event(event, event['data']);\n",
       "    }\n",
       "\n",
       "    canvas_div.keydown('key_press', canvas_keyboard_event);\n",
       "    canvas_div.keyup('key_release', canvas_keyboard_event);\n",
       "    this.canvas_div = canvas_div\n",
       "    this._canvas_extra_style(canvas_div)\n",
       "    this.root.append(canvas_div);\n",
       "\n",
       "    var canvas = $('<canvas/>');\n",
       "    canvas.addClass('mpl-canvas');\n",
       "    canvas.attr('style', \"left: 0; top: 0; z-index: 0; outline: 0\")\n",
       "\n",
       "    this.canvas = canvas[0];\n",
       "    this.context = canvas[0].getContext(\"2d\");\n",
       "\n",
       "    var backingStore = this.context.backingStorePixelRatio ||\n",
       "\tthis.context.webkitBackingStorePixelRatio ||\n",
       "\tthis.context.mozBackingStorePixelRatio ||\n",
       "\tthis.context.msBackingStorePixelRatio ||\n",
       "\tthis.context.oBackingStorePixelRatio ||\n",
       "\tthis.context.backingStorePixelRatio || 1;\n",
       "\n",
       "    mpl.ratio = (window.devicePixelRatio || 1) / backingStore;\n",
       "\n",
       "    var rubberband = $('<canvas/>');\n",
       "    rubberband.attr('style', \"position: absolute; left: 0; top: 0; z-index: 1;\")\n",
       "\n",
       "    var pass_mouse_events = true;\n",
       "\n",
       "    canvas_div.resizable({\n",
       "        start: function(event, ui) {\n",
       "            pass_mouse_events = false;\n",
       "        },\n",
       "        resize: function(event, ui) {\n",
       "            fig.request_resize(ui.size.width, ui.size.height);\n",
       "        },\n",
       "        stop: function(event, ui) {\n",
       "            pass_mouse_events = true;\n",
       "            fig.request_resize(ui.size.width, ui.size.height);\n",
       "        },\n",
       "    });\n",
       "\n",
       "    function mouse_event_fn(event) {\n",
       "        if (pass_mouse_events)\n",
       "            return fig.mouse_event(event, event['data']);\n",
       "    }\n",
       "\n",
       "    rubberband.mousedown('button_press', mouse_event_fn);\n",
       "    rubberband.mouseup('button_release', mouse_event_fn);\n",
       "    // Throttle sequential mouse events to 1 every 20ms.\n",
       "    rubberband.mousemove('motion_notify', mouse_event_fn);\n",
       "\n",
       "    rubberband.mouseenter('figure_enter', mouse_event_fn);\n",
       "    rubberband.mouseleave('figure_leave', mouse_event_fn);\n",
       "\n",
       "    canvas_div.on(\"wheel\", function (event) {\n",
       "        event = event.originalEvent;\n",
       "        event['data'] = 'scroll'\n",
       "        if (event.deltaY < 0) {\n",
       "            event.step = 1;\n",
       "        } else {\n",
       "            event.step = -1;\n",
       "        }\n",
       "        mouse_event_fn(event);\n",
       "    });\n",
       "\n",
       "    canvas_div.append(canvas);\n",
       "    canvas_div.append(rubberband);\n",
       "\n",
       "    this.rubberband = rubberband;\n",
       "    this.rubberband_canvas = rubberband[0];\n",
       "    this.rubberband_context = rubberband[0].getContext(\"2d\");\n",
       "    this.rubberband_context.strokeStyle = \"#000000\";\n",
       "\n",
       "    this._resize_canvas = function(width, height) {\n",
       "        // Keep the size of the canvas, canvas container, and rubber band\n",
       "        // canvas in synch.\n",
       "        canvas_div.css('width', width)\n",
       "        canvas_div.css('height', height)\n",
       "\n",
       "        canvas.attr('width', width * mpl.ratio);\n",
       "        canvas.attr('height', height * mpl.ratio);\n",
       "        canvas.attr('style', 'width: ' + width + 'px; height: ' + height + 'px;');\n",
       "\n",
       "        rubberband.attr('width', width);\n",
       "        rubberband.attr('height', height);\n",
       "    }\n",
       "\n",
       "    // Set the figure to an initial 600x600px, this will subsequently be updated\n",
       "    // upon first draw.\n",
       "    this._resize_canvas(600, 600);\n",
       "\n",
       "    // Disable right mouse context menu.\n",
       "    $(this.rubberband_canvas).bind(\"contextmenu\",function(e){\n",
       "        return false;\n",
       "    });\n",
       "\n",
       "    function set_focus () {\n",
       "        canvas.focus();\n",
       "        canvas_div.focus();\n",
       "    }\n",
       "\n",
       "    window.setTimeout(set_focus, 100);\n",
       "}\n",
       "\n",
       "mpl.figure.prototype._init_toolbar = function() {\n",
       "    var fig = this;\n",
       "\n",
       "    var nav_element = $('<div/>')\n",
       "    nav_element.attr('style', 'width: 100%');\n",
       "    this.root.append(nav_element);\n",
       "\n",
       "    // Define a callback function for later on.\n",
       "    function toolbar_event(event) {\n",
       "        return fig.toolbar_button_onclick(event['data']);\n",
       "    }\n",
       "    function toolbar_mouse_event(event) {\n",
       "        return fig.toolbar_button_onmouseover(event['data']);\n",
       "    }\n",
       "\n",
       "    for(var toolbar_ind in mpl.toolbar_items) {\n",
       "        var name = mpl.toolbar_items[toolbar_ind][0];\n",
       "        var tooltip = mpl.toolbar_items[toolbar_ind][1];\n",
       "        var image = mpl.toolbar_items[toolbar_ind][2];\n",
       "        var method_name = mpl.toolbar_items[toolbar_ind][3];\n",
       "\n",
       "        if (!name) {\n",
       "            // put a spacer in here.\n",
       "            continue;\n",
       "        }\n",
       "        var button = $('<button/>');\n",
       "        button.addClass('ui-button ui-widget ui-state-default ui-corner-all ' +\n",
       "                        'ui-button-icon-only');\n",
       "        button.attr('role', 'button');\n",
       "        button.attr('aria-disabled', 'false');\n",
       "        button.click(method_name, toolbar_event);\n",
       "        button.mouseover(tooltip, toolbar_mouse_event);\n",
       "\n",
       "        var icon_img = $('<span/>');\n",
       "        icon_img.addClass('ui-button-icon-primary ui-icon');\n",
       "        icon_img.addClass(image);\n",
       "        icon_img.addClass('ui-corner-all');\n",
       "\n",
       "        var tooltip_span = $('<span/>');\n",
       "        tooltip_span.addClass('ui-button-text');\n",
       "        tooltip_span.html(tooltip);\n",
       "\n",
       "        button.append(icon_img);\n",
       "        button.append(tooltip_span);\n",
       "\n",
       "        nav_element.append(button);\n",
       "    }\n",
       "\n",
       "    var fmt_picker_span = $('<span/>');\n",
       "\n",
       "    var fmt_picker = $('<select/>');\n",
       "    fmt_picker.addClass('mpl-toolbar-option ui-widget ui-widget-content');\n",
       "    fmt_picker_span.append(fmt_picker);\n",
       "    nav_element.append(fmt_picker_span);\n",
       "    this.format_dropdown = fmt_picker[0];\n",
       "\n",
       "    for (var ind in mpl.extensions) {\n",
       "        var fmt = mpl.extensions[ind];\n",
       "        var option = $(\n",
       "            '<option/>', {selected: fmt === mpl.default_extension}).html(fmt);\n",
       "        fmt_picker.append(option)\n",
       "    }\n",
       "\n",
       "    // Add hover states to the ui-buttons\n",
       "    $( \".ui-button\" ).hover(\n",
       "        function() { $(this).addClass(\"ui-state-hover\");},\n",
       "        function() { $(this).removeClass(\"ui-state-hover\");}\n",
       "    );\n",
       "\n",
       "    var status_bar = $('<span class=\"mpl-message\"/>');\n",
       "    nav_element.append(status_bar);\n",
       "    this.message = status_bar[0];\n",
       "}\n",
       "\n",
       "mpl.figure.prototype.request_resize = function(x_pixels, y_pixels) {\n",
       "    // Request matplotlib to resize the figure. Matplotlib will then trigger a resize in the client,\n",
       "    // which will in turn request a refresh of the image.\n",
       "    this.send_message('resize', {'width': x_pixels, 'height': y_pixels});\n",
       "}\n",
       "\n",
       "mpl.figure.prototype.send_message = function(type, properties) {\n",
       "    properties['type'] = type;\n",
       "    properties['figure_id'] = this.id;\n",
       "    this.ws.send(JSON.stringify(properties));\n",
       "}\n",
       "\n",
       "mpl.figure.prototype.send_draw_message = function() {\n",
       "    if (!this.waiting) {\n",
       "        this.waiting = true;\n",
       "        this.ws.send(JSON.stringify({type: \"draw\", figure_id: this.id}));\n",
       "    }\n",
       "}\n",
       "\n",
       "\n",
       "mpl.figure.prototype.handle_save = function(fig, msg) {\n",
       "    var format_dropdown = fig.format_dropdown;\n",
       "    var format = format_dropdown.options[format_dropdown.selectedIndex].value;\n",
       "    fig.ondownload(fig, format);\n",
       "}\n",
       "\n",
       "\n",
       "mpl.figure.prototype.handle_resize = function(fig, msg) {\n",
       "    var size = msg['size'];\n",
       "    if (size[0] != fig.canvas.width || size[1] != fig.canvas.height) {\n",
       "        fig._resize_canvas(size[0], size[1]);\n",
       "        fig.send_message(\"refresh\", {});\n",
       "    };\n",
       "}\n",
       "\n",
       "mpl.figure.prototype.handle_rubberband = function(fig, msg) {\n",
       "    var x0 = msg['x0'] / mpl.ratio;\n",
       "    var y0 = (fig.canvas.height - msg['y0']) / mpl.ratio;\n",
       "    var x1 = msg['x1'] / mpl.ratio;\n",
       "    var y1 = (fig.canvas.height - msg['y1']) / mpl.ratio;\n",
       "    x0 = Math.floor(x0) + 0.5;\n",
       "    y0 = Math.floor(y0) + 0.5;\n",
       "    x1 = Math.floor(x1) + 0.5;\n",
       "    y1 = Math.floor(y1) + 0.5;\n",
       "    var min_x = Math.min(x0, x1);\n",
       "    var min_y = Math.min(y0, y1);\n",
       "    var width = Math.abs(x1 - x0);\n",
       "    var height = Math.abs(y1 - y0);\n",
       "\n",
       "    fig.rubberband_context.clearRect(\n",
       "        0, 0, fig.canvas.width, fig.canvas.height);\n",
       "\n",
       "    fig.rubberband_context.strokeRect(min_x, min_y, width, height);\n",
       "}\n",
       "\n",
       "mpl.figure.prototype.handle_figure_label = function(fig, msg) {\n",
       "    // Updates the figure title.\n",
       "    fig.header.textContent = msg['label'];\n",
       "}\n",
       "\n",
       "mpl.figure.prototype.handle_cursor = function(fig, msg) {\n",
       "    var cursor = msg['cursor'];\n",
       "    switch(cursor)\n",
       "    {\n",
       "    case 0:\n",
       "        cursor = 'pointer';\n",
       "        break;\n",
       "    case 1:\n",
       "        cursor = 'default';\n",
       "        break;\n",
       "    case 2:\n",
       "        cursor = 'crosshair';\n",
       "        break;\n",
       "    case 3:\n",
       "        cursor = 'move';\n",
       "        break;\n",
       "    }\n",
       "    fig.rubberband_canvas.style.cursor = cursor;\n",
       "}\n",
       "\n",
       "mpl.figure.prototype.handle_message = function(fig, msg) {\n",
       "    fig.message.textContent = msg['message'];\n",
       "}\n",
       "\n",
       "mpl.figure.prototype.handle_draw = function(fig, msg) {\n",
       "    // Request the server to send over a new figure.\n",
       "    fig.send_draw_message();\n",
       "}\n",
       "\n",
       "mpl.figure.prototype.handle_image_mode = function(fig, msg) {\n",
       "    fig.image_mode = msg['mode'];\n",
       "}\n",
       "\n",
       "mpl.figure.prototype.updated_canvas_event = function() {\n",
       "    // Called whenever the canvas gets updated.\n",
       "    this.send_message(\"ack\", {});\n",
       "}\n",
       "\n",
       "// A function to construct a web socket function for onmessage handling.\n",
       "// Called in the figure constructor.\n",
       "mpl.figure.prototype._make_on_message_function = function(fig) {\n",
       "    return function socket_on_message(evt) {\n",
       "        if (evt.data instanceof Blob) {\n",
       "            /* FIXME: We get \"Resource interpreted as Image but\n",
       "             * transferred with MIME type text/plain:\" errors on\n",
       "             * Chrome.  But how to set the MIME type?  It doesn't seem\n",
       "             * to be part of the websocket stream */\n",
       "            evt.data.type = \"image/png\";\n",
       "\n",
       "            /* Free the memory for the previous frames */\n",
       "            if (fig.imageObj.src) {\n",
       "                (window.URL || window.webkitURL).revokeObjectURL(\n",
       "                    fig.imageObj.src);\n",
       "            }\n",
       "\n",
       "            fig.imageObj.src = (window.URL || window.webkitURL).createObjectURL(\n",
       "                evt.data);\n",
       "            fig.updated_canvas_event();\n",
       "            fig.waiting = false;\n",
       "            return;\n",
       "        }\n",
       "        else if (typeof evt.data === 'string' && evt.data.slice(0, 21) == \"data:image/png;base64\") {\n",
       "            fig.imageObj.src = evt.data;\n",
       "            fig.updated_canvas_event();\n",
       "            fig.waiting = false;\n",
       "            return;\n",
       "        }\n",
       "\n",
       "        var msg = JSON.parse(evt.data);\n",
       "        var msg_type = msg['type'];\n",
       "\n",
       "        // Call the  \"handle_{type}\" callback, which takes\n",
       "        // the figure and JSON message as its only arguments.\n",
       "        try {\n",
       "            var callback = fig[\"handle_\" + msg_type];\n",
       "        } catch (e) {\n",
       "            console.log(\"No handler for the '\" + msg_type + \"' message type: \", msg);\n",
       "            return;\n",
       "        }\n",
       "\n",
       "        if (callback) {\n",
       "            try {\n",
       "                // console.log(\"Handling '\" + msg_type + \"' message: \", msg);\n",
       "                callback(fig, msg);\n",
       "            } catch (e) {\n",
       "                console.log(\"Exception inside the 'handler_\" + msg_type + \"' callback:\", e, e.stack, msg);\n",
       "            }\n",
       "        }\n",
       "    };\n",
       "}\n",
       "\n",
       "// from http://stackoverflow.com/questions/1114465/getting-mouse-location-in-canvas\n",
       "mpl.findpos = function(e) {\n",
       "    //this section is from http://www.quirksmode.org/js/events_properties.html\n",
       "    var targ;\n",
       "    if (!e)\n",
       "        e = window.event;\n",
       "    if (e.target)\n",
       "        targ = e.target;\n",
       "    else if (e.srcElement)\n",
       "        targ = e.srcElement;\n",
       "    if (targ.nodeType == 3) // defeat Safari bug\n",
       "        targ = targ.parentNode;\n",
       "\n",
       "    // jQuery normalizes the pageX and pageY\n",
       "    // pageX,Y are the mouse positions relative to the document\n",
       "    // offset() returns the position of the element relative to the document\n",
       "    var x = e.pageX - $(targ).offset().left;\n",
       "    var y = e.pageY - $(targ).offset().top;\n",
       "\n",
       "    return {\"x\": x, \"y\": y};\n",
       "};\n",
       "\n",
       "/*\n",
       " * return a copy of an object with only non-object keys\n",
       " * we need this to avoid circular references\n",
       " * http://stackoverflow.com/a/24161582/3208463\n",
       " */\n",
       "function simpleKeys (original) {\n",
       "  return Object.keys(original).reduce(function (obj, key) {\n",
       "    if (typeof original[key] !== 'object')\n",
       "        obj[key] = original[key]\n",
       "    return obj;\n",
       "  }, {});\n",
       "}\n",
       "\n",
       "mpl.figure.prototype.mouse_event = function(event, name) {\n",
       "    var canvas_pos = mpl.findpos(event)\n",
       "\n",
       "    if (name === 'button_press')\n",
       "    {\n",
       "        this.canvas.focus();\n",
       "        this.canvas_div.focus();\n",
       "    }\n",
       "\n",
       "    var x = canvas_pos.x * mpl.ratio;\n",
       "    var y = canvas_pos.y * mpl.ratio;\n",
       "\n",
       "    this.send_message(name, {x: x, y: y, button: event.button,\n",
       "                             step: event.step,\n",
       "                             guiEvent: simpleKeys(event)});\n",
       "\n",
       "    /* This prevents the web browser from automatically changing to\n",
       "     * the text insertion cursor when the button is pressed.  We want\n",
       "     * to control all of the cursor setting manually through the\n",
       "     * 'cursor' event from matplotlib */\n",
       "    event.preventDefault();\n",
       "    return false;\n",
       "}\n",
       "\n",
       "mpl.figure.prototype._key_event_extra = function(event, name) {\n",
       "    // Handle any extra behaviour associated with a key event\n",
       "}\n",
       "\n",
       "mpl.figure.prototype.key_event = function(event, name) {\n",
       "\n",
       "    // Prevent repeat events\n",
       "    if (name == 'key_press')\n",
       "    {\n",
       "        if (event.which === this._key)\n",
       "            return;\n",
       "        else\n",
       "            this._key = event.which;\n",
       "    }\n",
       "    if (name == 'key_release')\n",
       "        this._key = null;\n",
       "\n",
       "    var value = '';\n",
       "    if (event.ctrlKey && event.which != 17)\n",
       "        value += \"ctrl+\";\n",
       "    if (event.altKey && event.which != 18)\n",
       "        value += \"alt+\";\n",
       "    if (event.shiftKey && event.which != 16)\n",
       "        value += \"shift+\";\n",
       "\n",
       "    value += 'k';\n",
       "    value += event.which.toString();\n",
       "\n",
       "    this._key_event_extra(event, name);\n",
       "\n",
       "    this.send_message(name, {key: value,\n",
       "                             guiEvent: simpleKeys(event)});\n",
       "    return false;\n",
       "}\n",
       "\n",
       "mpl.figure.prototype.toolbar_button_onclick = function(name) {\n",
       "    if (name == 'download') {\n",
       "        this.handle_save(this, null);\n",
       "    } else {\n",
       "        this.send_message(\"toolbar_button\", {name: name});\n",
       "    }\n",
       "};\n",
       "\n",
       "mpl.figure.prototype.toolbar_button_onmouseover = function(tooltip) {\n",
       "    this.message.textContent = tooltip;\n",
       "};\n",
       "mpl.toolbar_items = [[\"Home\", \"Reset original view\", \"fa fa-home icon-home\", \"home\"], [\"Back\", \"Back to  previous view\", \"fa fa-arrow-left icon-arrow-left\", \"back\"], [\"Forward\", \"Forward to next view\", \"fa fa-arrow-right icon-arrow-right\", \"forward\"], [\"\", \"\", \"\", \"\"], [\"Pan\", \"Pan axes with left mouse, zoom with right\", \"fa fa-arrows icon-move\", \"pan\"], [\"Zoom\", \"Zoom to rectangle\", \"fa fa-square-o icon-check-empty\", \"zoom\"], [\"\", \"\", \"\", \"\"], [\"Download\", \"Download plot\", \"fa fa-floppy-o icon-save\", \"download\"]];\n",
       "\n",
       "mpl.extensions = [\"eps\", \"jpeg\", \"pdf\", \"png\", \"ps\", \"raw\", \"svg\", \"tif\"];\n",
       "\n",
       "mpl.default_extension = \"png\";var comm_websocket_adapter = function(comm) {\n",
       "    // Create a \"websocket\"-like object which calls the given IPython comm\n",
       "    // object with the appropriate methods. Currently this is a non binary\n",
       "    // socket, so there is still some room for performance tuning.\n",
       "    var ws = {};\n",
       "\n",
       "    ws.close = function() {\n",
       "        comm.close()\n",
       "    };\n",
       "    ws.send = function(m) {\n",
       "        //console.log('sending', m);\n",
       "        comm.send(m);\n",
       "    };\n",
       "    // Register the callback with on_msg.\n",
       "    comm.on_msg(function(msg) {\n",
       "        //console.log('receiving', msg['content']['data'], msg);\n",
       "        // Pass the mpl event to the overriden (by mpl) onmessage function.\n",
       "        ws.onmessage(msg['content']['data'])\n",
       "    });\n",
       "    return ws;\n",
       "}\n",
       "\n",
       "mpl.mpl_figure_comm = function(comm, msg) {\n",
       "    // This is the function which gets called when the mpl process\n",
       "    // starts-up an IPython Comm through the \"matplotlib\" channel.\n",
       "\n",
       "    var id = msg.content.data.id;\n",
       "    // Get hold of the div created by the display call when the Comm\n",
       "    // socket was opened in Python.\n",
       "    var element = $(\"#\" + id);\n",
       "    var ws_proxy = comm_websocket_adapter(comm)\n",
       "\n",
       "    function ondownload(figure, format) {\n",
       "        window.open(figure.imageObj.src);\n",
       "    }\n",
       "\n",
       "    var fig = new mpl.figure(id, ws_proxy,\n",
       "                           ondownload,\n",
       "                           element.get(0));\n",
       "\n",
       "    // Call onopen now - mpl needs it, as it is assuming we've passed it a real\n",
       "    // web socket which is closed, not our websocket->open comm proxy.\n",
       "    ws_proxy.onopen();\n",
       "\n",
       "    fig.parent_element = element.get(0);\n",
       "    fig.cell_info = mpl.find_output_cell(\"<div id='\" + id + \"'></div>\");\n",
       "    if (!fig.cell_info) {\n",
       "        console.error(\"Failed to find cell for figure\", id, fig);\n",
       "        return;\n",
       "    }\n",
       "\n",
       "    var output_index = fig.cell_info[2]\n",
       "    var cell = fig.cell_info[0];\n",
       "\n",
       "};\n",
       "\n",
       "mpl.figure.prototype.handle_close = function(fig, msg) {\n",
       "    var width = fig.canvas.width/mpl.ratio\n",
       "    fig.root.unbind('remove')\n",
       "\n",
       "    // Update the output cell to use the data from the current canvas.\n",
       "    fig.push_to_output();\n",
       "    var dataURL = fig.canvas.toDataURL();\n",
       "    // Re-enable the keyboard manager in IPython - without this line, in FF,\n",
       "    // the notebook keyboard shortcuts fail.\n",
       "    IPython.keyboard_manager.enable()\n",
       "    $(fig.parent_element).html('<img src=\"' + dataURL + '\" width=\"' + width + '\">');\n",
       "    fig.close_ws(fig, msg);\n",
       "}\n",
       "\n",
       "mpl.figure.prototype.close_ws = function(fig, msg){\n",
       "    fig.send_message('closing', msg);\n",
       "    // fig.ws.close()\n",
       "}\n",
       "\n",
       "mpl.figure.prototype.push_to_output = function(remove_interactive) {\n",
       "    // Turn the data on the canvas into data in the output cell.\n",
       "    var width = this.canvas.width/mpl.ratio\n",
       "    var dataURL = this.canvas.toDataURL();\n",
       "    this.cell_info[1]['text/html'] = '<img src=\"' + dataURL + '\" width=\"' + width + '\">';\n",
       "}\n",
       "\n",
       "mpl.figure.prototype.updated_canvas_event = function() {\n",
       "    // Tell IPython that the notebook contents must change.\n",
       "    IPython.notebook.set_dirty(true);\n",
       "    this.send_message(\"ack\", {});\n",
       "    var fig = this;\n",
       "    // Wait a second, then push the new image to the DOM so\n",
       "    // that it is saved nicely (might be nice to debounce this).\n",
       "    setTimeout(function () { fig.push_to_output() }, 1000);\n",
       "}\n",
       "\n",
       "mpl.figure.prototype._init_toolbar = function() {\n",
       "    var fig = this;\n",
       "\n",
       "    var nav_element = $('<div/>')\n",
       "    nav_element.attr('style', 'width: 100%');\n",
       "    this.root.append(nav_element);\n",
       "\n",
       "    // Define a callback function for later on.\n",
       "    function toolbar_event(event) {\n",
       "        return fig.toolbar_button_onclick(event['data']);\n",
       "    }\n",
       "    function toolbar_mouse_event(event) {\n",
       "        return fig.toolbar_button_onmouseover(event['data']);\n",
       "    }\n",
       "\n",
       "    for(var toolbar_ind in mpl.toolbar_items){\n",
       "        var name = mpl.toolbar_items[toolbar_ind][0];\n",
       "        var tooltip = mpl.toolbar_items[toolbar_ind][1];\n",
       "        var image = mpl.toolbar_items[toolbar_ind][2];\n",
       "        var method_name = mpl.toolbar_items[toolbar_ind][3];\n",
       "\n",
       "        if (!name) { continue; };\n",
       "\n",
       "        var button = $('<button class=\"btn btn-default\" href=\"#\" title=\"' + name + '\"><i class=\"fa ' + image + ' fa-lg\"></i></button>');\n",
       "        button.click(method_name, toolbar_event);\n",
       "        button.mouseover(tooltip, toolbar_mouse_event);\n",
       "        nav_element.append(button);\n",
       "    }\n",
       "\n",
       "    // Add the status bar.\n",
       "    var status_bar = $('<span class=\"mpl-message\" style=\"text-align:right; float: right;\"/>');\n",
       "    nav_element.append(status_bar);\n",
       "    this.message = status_bar[0];\n",
       "\n",
       "    // Add the close button to the window.\n",
       "    var buttongrp = $('<div class=\"btn-group inline pull-right\"></div>');\n",
       "    var button = $('<button class=\"btn btn-mini btn-primary\" href=\"#\" title=\"Stop Interaction\"><i class=\"fa fa-power-off icon-remove icon-large\"></i></button>');\n",
       "    button.click(function (evt) { fig.handle_close(fig, {}); } );\n",
       "    button.mouseover('Stop Interaction', toolbar_mouse_event);\n",
       "    buttongrp.append(button);\n",
       "    var titlebar = this.root.find($('.ui-dialog-titlebar'));\n",
       "    titlebar.prepend(buttongrp);\n",
       "}\n",
       "\n",
       "mpl.figure.prototype._root_extra_style = function(el){\n",
       "    var fig = this\n",
       "    el.on(\"remove\", function(){\n",
       "\tfig.close_ws(fig, {});\n",
       "    });\n",
       "}\n",
       "\n",
       "mpl.figure.prototype._canvas_extra_style = function(el){\n",
       "    // this is important to make the div 'focusable\n",
       "    el.attr('tabindex', 0)\n",
       "    // reach out to IPython and tell the keyboard manager to turn it's self\n",
       "    // off when our div gets focus\n",
       "\n",
       "    // location in version 3\n",
       "    if (IPython.notebook.keyboard_manager) {\n",
       "        IPython.notebook.keyboard_manager.register_events(el);\n",
       "    }\n",
       "    else {\n",
       "        // location in version 2\n",
       "        IPython.keyboard_manager.register_events(el);\n",
       "    }\n",
       "\n",
       "}\n",
       "\n",
       "mpl.figure.prototype._key_event_extra = function(event, name) {\n",
       "    var manager = IPython.notebook.keyboard_manager;\n",
       "    if (!manager)\n",
       "        manager = IPython.keyboard_manager;\n",
       "\n",
       "    // Check for shift+enter\n",
       "    if (event.shiftKey && event.which == 13) {\n",
       "        this.canvas_div.blur();\n",
       "        event.shiftKey = false;\n",
       "        // Send a \"J\" for go to next cell\n",
       "        event.which = 74;\n",
       "        event.keyCode = 74;\n",
       "        manager.command_mode();\n",
       "        manager.handle_keydown(event);\n",
       "    }\n",
       "}\n",
       "\n",
       "mpl.figure.prototype.handle_save = function(fig, msg) {\n",
       "    fig.ondownload(fig, null);\n",
       "}\n",
       "\n",
       "\n",
       "mpl.find_output_cell = function(html_output) {\n",
       "    // Return the cell and output element which can be found *uniquely* in the notebook.\n",
       "    // Note - this is a bit hacky, but it is done because the \"notebook_saving.Notebook\"\n",
       "    // IPython event is triggered only after the cells have been serialised, which for\n",
       "    // our purposes (turning an active figure into a static one), is too late.\n",
       "    var cells = IPython.notebook.get_cells();\n",
       "    var ncells = cells.length;\n",
       "    for (var i=0; i<ncells; i++) {\n",
       "        var cell = cells[i];\n",
       "        if (cell.cell_type === 'code'){\n",
       "            for (var j=0; j<cell.output_area.outputs.length; j++) {\n",
       "                var data = cell.output_area.outputs[j];\n",
       "                if (data.data) {\n",
       "                    // IPython >= 3 moved mimebundle to data attribute of output\n",
       "                    data = data.data;\n",
       "                }\n",
       "                if (data['text/html'] == html_output) {\n",
       "                    return [cell, data, j];\n",
       "                }\n",
       "            }\n",
       "        }\n",
       "    }\n",
       "}\n",
       "\n",
       "// Register the function which deals with the matplotlib target/channel.\n",
       "// The kernel may be null if the page has been refreshed.\n",
       "if (IPython.notebook.kernel != null) {\n",
       "    IPython.notebook.kernel.comm_manager.register_target('matplotlib', mpl.mpl_figure_comm);\n",
       "}\n"
      ],
      "text/plain": [
       "<IPython.core.display.Javascript object>"
      ]
     },
     "metadata": {},
     "output_type": "display_data"
    },
    {
     "data": {
      "text/html": [
       "<img src=\"data:image/png;base64,iVBORw0KGgoAAAANSUhEUgAAAoAAAAHgCAYAAAA10dzkAAAgAElEQVR4nOzdeXgc1Zkv/jfzm0zuPDM3v/vMnbn3d28mKbOY1QQSAoEkkEDIQBKWQCCQIRASkpBAFggTyvu+YGOz2MYLBrxgg40xNvbRYluWvMq2LK/yLtmSLcuybMnaJUvq7vf3x+lqtWUt1V3LOdX9/TxPPSFWL8dWS/WtOue8LxEAAAAAAAAAAAAAAAAAAAAAAAAAAAAAAAAAAAAAAAAAAAAAAAAAAAAAAAAAAAAAAAAAAAAAAAAAAAAAAAAAAAAAAAAAAAAAAAAAAAAAAAAAAAAAAAAAAAAAAAAAAAAAAAAAAAAAAAAAAAAAAAAAAAAAAAAAAAAAAAAAAAAAAAAAAAAAAAAAAAAAAAAAAAAAAAAAAAAAAAAAAAAAAAAAAAAAAAAAAAAAAAAAAAAAAAAAAAAAAAAAAAAAAAAAAAAAAAAAAAAAAAAAAAAAAAAAAAAAAAAAAAAAAAAAAAAAAAAAAAAAAAAAAAAAAAAAAAAAAAAAAAAAAAAAAAAAAAAAAAAAAAAAAAAAAHTrD0S0j4gaosdWIvqh0hEBAAAAgKceIKIfEVF/IrqKiMYRUTsRXa9yUAAAAADgr/NE9KzqQQAAAACA9/4fInqCiNqI6DrFYwEAAAAAD91ARE1EFCKiOpJTwj35AhF9scvRr5s/w4EDBw4cOHDofXyJiD5HkLb+gYiuJKKbiWgCEZ2jnu8AjiQixoEDBw4cOHCkxPElAojKIaLZPXyt6x3ALxERl5eXc319PQ4cOHDgwIEjAEd5ebkVAL/oS7KAQMglonk2H/tFIuL6+noGAACAYKivr0cATHMTiOhOkuv4boj+/wgR/cDm8xEAAQAAAgYBEN4jojKSO3/Pkpz+tRv+iBAAAQAAAgcBEJxCAAQAAAgYBEBwCgEQAAAgYBAAwSkEQAAAgIBBAASnEAABAAACBgEQnEIABAAACBgEQHAKARAAACBgEADBKQRAAACAgEEABKcQAAEAAAIGARCcQgAEAAAIGARAcAoBEAAAIGAQAMEpBEAAAICAQQAEpxAAAQAAAgYBEJxCAAQAAAgYBEBwCgEQAAAgYBAAwSkEQAAAgIBBAASnEAABAAACBgEQnEIABAAACBgEQHAKARAAACBgEADBKQRAAACAgEEABKcQAAEAAAIGARCcQgAEAAAIGARAcAoBEAAAIGAQAMEpBEAAAICAQQAEpxAAAQAAAgYBEJxCAAQAAAgYBEBwCgEQAAAgYBAAwSkEQAAAgIBBAASnEAABAAACBgEQnEIABAAACBgEQHAKARAAACBgEADBKQRAAACAgEEABKcQAAEAAAIGARCcQgAEAAAIGARAcAoBEAAAIGAQAMEpBEAAAICAQQAEpxAAAQAAAgYBEJxCAAQAAAgYBEBwCgEQAAAgYBAAwSkEQAAAgIBBAASnEAABAAACBgEQnEIABAAACBgEQHAKARAAACBgEADBKQRAAACAgEEABKcQAAEAAAIGARCcQgAEAAAIGARAcAoBEAAAIGAQAMEpBEAAAICAQQAEpxAAAQAAAgYBEJxCAAQAAAgYBEBwCgEQAAAgYBAAwSkEQAAAgIBBAASnEAABIGWEwhHOL6nmFbtPcX5JNYfCEdVDAvAEAiAMIqIdRNRIRGeJaAURXZ3A8xEAASAlZBWd5tvG57Bhithx2/gczio6rXpoAK5DAIRsInqGiK4nohuJKIOIThDRP9l8PgIgAAReVtFp7hcX/KyjX/RACIRUgwAIXf0byQ/EnTYfjwAIAIEWCkcuufPXNQTeNj4H08GQUhAAoasrSX4gBvTw9S+Q/LBYx5fIwwDY2h7iRdtO8DPvb+d739jAP39nK89aX8L1re2evB+khsq6Vp6y5gg/NjOf731jAz+3oJBX7qnACRy6lV9S3WP4iz/yS6pVDxU0EwpHeOWeCn5uQSHf9+ZGfmxWPk9Zc4Qr61pVD61PCIAQ7++ISBDR5l4eM5LkB+aiw4sAuOvEef7upNxufxF/bfQazjl4xvX3hOBbtO0EXzssq9vPzYPTNnFZdZPqIYJmlhaetBUAV+w+pXqooJET1c38wLRN3X5Wrh2WxQu3lakeYq8QACHeTCIqI6J/7+UxvtwBzD1cxVcNyWTDFHzruLU8I6+E8w5X8YL8Ur57cl7sh+yj7SdcfV8ItknZh2KfjZ+8vZmX7DjJuYerePLqwzxgeHbs4mF/RZ3qoYImGi908A9eX28rAK47VKV6uKCJg6fr+aZRq9kwBQ8Yns2vZR/m3MNVvGTHSf7J25tjn5kJmYc4EtFz5gEBECzTiaiciC5L8HmurwHcX1EXu4PzzPvbL5nubesI88Bl++TanIFYnA3S+5uPx37pTs8t5nCX6d7Kula+f6q8Wr95zFouP9+saKSgi45QmH/x7rbYOr++AuCTc7ZiGQFwRW0L3zxmDRum4PunbrpkujccjvD03OLY52b2hhJFI+0dAiB8jmT4qyCi/kk839UAWNvcxrdHF2M/OWcbt4fC3T4uEonwkOUyBF43LIuPnW105f0hmLYdq+Z+AzvDX0/qWtr5vjc3smEKfmTGFu7o4fMF6eH1NUdi03Uz15f0uAvYMAX3HyxnJN5ce1T1sEGh9lCYH5mxhQ1T8H1vbuS6lp7Xo8/ZeIwNU/DlgzK4sKzGx1HagwAIM4iojoi+S0T/X9zxjzaf72oAfPnjPWyYgr/3Wh7XNfe+0aMjFObHZ+ezYQp+bGb+JXd8ID00Xejg70xcx4Yp+K9L9vQ53XKypjk2HTxlzRGfRgm6KSyr4cuiFw2f7algZlkK5tZxa7utA7hsZ3ls1kHHkzn4Y8rqw7Fp3xPVfc8ivLh4Nxum4G+/uk67zYsIgHDJho7o8YzN57sWADccORv3C/a8reecrGmOTRcvyC91PAYInhGf7WfDFPytCeu4weYv2M/2VLBhCr5ycAYfP4dNIemmIxTme6bIdX8vLt590dcaWttj4S/3UNVFU74vLdkdu/ODu8fp5/i5Jr5ycAYbpuCV0YuGvjS0tscuUMeKAx6PMDEIgOCUKwGwIxSObe4Y8dn+hJ47N7r266sjV/d6Ox5Sz7GzjXzFIPkLeePRs7afF4lE+On3trNhCn52XoGHIwQdLdhaxoYp+MZRqy+ZaWhu64gFwOa2jou+Vt14gb86Ui78n7el1McRgw6eeV/+znj6ve0JbezIO1wVu+DUabkSAiA45UoAXFIgyzDcNGp1wrfJQ+FI7Gp+UvYhR+OAYHluQSEbpuBfzU08xBVXdYbHLcXnPBgd6KihtZ2/Nlou4J/fzaxBbwGQuTM8fm30Gm66cOnXITVtKT7nKMT9am4BG6bg38zf4cHokoMACE45DoAXOkKxjR9zNh5L6jVW769kwxR89dBMrmrQvwAnOLevvI4NU/BlAwUfOdOQ1GsMW1HEhin48dn5Lo8OdPV2ntydedfkvG6ncfsKgB2hcKw+6cz1eu7uBPf9bJZcbz5sRVFSzy+uaoytOT1QoUfnLARAcMpxAFxccIINU/A3x+Vwa3soqdeIRCKx2ksTs3AXMB08v3Bnt2u4ElFR2xJb01NQioX9qa6lLcRfj979W7azvNvH9BUAmZmXFpbH7gL29BhIHVuPVcd2gp+ua0n6dV5YJH9nPb9op4ujSx4CIDjlKABGIp3Tt+9sSO7unyU7ehfwhhHZmJpJcaXnmmJX04cqnV1NWzUlf/n+dpdGB7qat6U0tiOzpxJTdgJgRyjMd0bvAmLzWer7ZXTt3+BP9zl6nYOn62MbHXVYC4gACE45CoC50cWx1w/PdrxFPhSO8PdekxtJ5m4+7ui1QG9Dlxe5FtrKqptiNQRLsSM4ZYXjfj/0FtrsBEDmzjB59+Q8bTs9gHPHzzXFQpsbbSSttYCJbnb0AgIgOOUoAFo7Mcescmd7vLVA+3uv4Zdyqmq60MHXR+v4bXZp84a1u2+0S59D0M/Go2dj9dt6myGwGwAb4z6HiexAh2AZtfJA0hvNurP+SOfnUPXyAQRAcCrpAFh+vjl258WNKytmGQ6ui9YF3Hqs2pXXBL18uP2E6yE/91BVbPlAS1ty61BBb7+dv8PWnRe7AZC5swYlSgmlpua2Dh4wQob8vMPu9IEOhyOxTUSLtqntZY8ACE4lHQCtNkw/f2erqx9qa03XXz7a5errgh6sfr5u9tcMhyN8x0T5S/mTwu43B0BwVda1xtaMHu1jx3giAbC4qjHW6gvVB1KP1f3ljom5rnaaslrE/XjqRtdeMxkIgOBUUgEwFI7ESr98ZrOiul17TtbKHVtDMrm2uc3V1wa1DlTUx3bj1TS5+72dmnPUkwsSUG/2hhI2TME/nbGlz8cmEgCZOVZ9wOkmNtDPk3O2edL/uaapLVaDtK8LEi8hAIJTSQXAzdGimjeOWs0XOtydcotEInzfmxu1uMUO7hqfeZANU/BzCwpdf+3y882xxd6napMv9QD6sX4fLNxW1udjEw2AC7fJdcf/8foGrDtOIZV1rbElSnZ6/ibq2XkFypsXIACCU0kFQPOTvWyYggc53Fbfk1nr5RX/E7NxNydVhMMR/tYE2VMzc99pT97j8dmy2Ov03GJPXh/8d7iyIdbBwc6MQKIBsK6lna8aksmGKXhfeZ0bQwYNzIyeQx6d2fdd42Ss2lsR62Hu5vRyIhAAwamEA2BbRzjWTzO/xJuNGvF3c6rqsTYnFRSU1sR2zyVbMLwvH++QLQnvmbLek9cH/72adSihFlyJBkDmzqLkEzJRhD4VRCIR/sHrsj7th9u9mUVqbQ/xgOgu8m2KNiwiAIJTCQfAdYfOsGEKvmXsWg55eOXzyIwtbJiC39uEmoCpYMhyubnnr0v2ePYedS3tsc4gxVXqC7WCM+G4tcYZNu8aJxMAxd7Tsc0CmAYOvkOV9bF15HUtzurT9uZvS/ewYQoeuGyvZ+/RGwRAcCrhAPji4t1smIJHrvS2EObczcfZMAX/5O3Nnr4PeK89FOabRsm7xhuOeFtzzaoJOG2duwu/wX+FZedjhebt3jVOJgA2t3Xw1UPlNHDRKUwDB90ba49Ey/vYu2ucLGst/E2jVnfbl9prCIDgVEIBsLU9FKvTt/PEeU8/3FUNnaUfTta4v4gX/GP9ovz66DWe/6JcUiCngX/4ptoSDeCctWnoTx/aLwmVTABkZv79B4VsmIJfRS/ywLv3jQ1smII/3nHS0/fpCIX5xuiFrYq6tQiA4FRCATDnoJz+vX18ji9TJdaifkwDB5tVcPdvS72b/rWcb2rjy6MlGtAaLrgikc7Wb6v22i81lWwAXLlHLuq/cxKmgYOsrLopVtvxvMulprrz1yV7fJkR6w4CIDiVUAC0ijQPW1Hk8UdbsgpuorZbcEUinbt/1xw448t7WvW/ZuS5V2wa/FVc1RCrGdmQQJ/xZANg04WO2G7g/RWYBg4qq2bkf87x55yRvb8ythvY7wsHBEBwynYADIcjfMvYtWyYgtd7vI7LYl3NXTEow9PFvOCd/RV1bJiCrx6a6Vubtg+iPaUfmo71o0E1PbeYDVPwM+9vT+h5yQZAZubfRNvNTc3B+tGgejha2Ht+fqkv79fSFlK2fhQBUB+fJ6IvE9HVRPQviseSCNsBcG+57NBx3bAs14s/9+b7U9Z70nEE/GEtyLZbxsMNlXWtsTJC1Y0XfHtfcM+D0zYlVcbDSQC0+lRj41kwVTW0xr73lXX+lQ+z+lRPWX3Yt/dkRgBU7b8T0R+IaAMRtRJRmIgi0f89QURziOgWZaOzx3YAnLL6MBum4N9/4H4Xh95MyDyU8EJw0MePp8ouDksKvF2Q3ZXVPeLTXegNHDRn6jsDfKI9ep0EQFw4BJtVB/SBaZt8fd9PCmXP4ft83niGAKjOX4mohogKiGgYEd1LRDcQ0ZVEdCsR/ZqI5hJRLRFlE1F/NcPsk+0A+MPoCfWTQn9PqDuiBYRvGJHN7Qq22kPyTte1xE6o53w+oU7KxoVDUC2JnsgfTGIK30kAZFb3ew6ce37RTiV34s41Xoh95vxsXIAAqM5HRHS9jcd9gYh+TzIQ6shWALRO5JcNFFzjw86qeKFwhL82eo2nnUfAG1ZJFhVr8awLh6+OXO1pwXJwX+xEvuZIws91GgBfy5YzHc8v2pnwc0GdjlCYbxghO3MUltX4/v73T5VLFpb6eOGAAAhO2QqAKk/kzMx/+WiX8sbbkDgnJ3KnOkKdLQtVnBAgOaFwxNH3zWkAtIpPD8CMQ6AUlqm94LMuHP7o44wDAiA4ZSsA/vHDXUpurVusNRZ+r+2A5Dk9kbvB+tziwiE4dp44H1vykUzRcKcBMH7GQVWPV0jc5Oga9RcU3bm1ZhxuHOVfAEUAVO+PRLSAiJ6I/v+niOggER0movFE9PeKxmVXnwEwHI7E2ngVlKo5kccvCvejuCc4t+tE550UFW2SmJmX7ZQXDt99LZdX7D7F+SXVmA7W3Otr5K7x5xcmdyJ3GgCZmf+k+IIX7AuFI5xfUs3feVXWGl1ckNiucbd0hMI8IDoFvcvjLlkWBEC1hhJRAxF9QkSVRGQSUTURDSGiQUR0lohGKRudPX0GwH3ldbF+nCqnRP7j9Q0JdwUAdd7KOcqGKfi5Bf7uGo+3OFrWI/64bXwOZxWdVjYm6N1D0zc7OpG7EQAXF8jPzcMoB6O1rKLTfNv4nIt+vm8Zu1bZz/cfFsp2gm+s9WfJCwKgWiVE9Ej0v28kohARPRn39YeJqNjvQSWozwD4dp4syOp1Y+2+jFl1gA1T8CtL9yodB9jz0xlb2DAFL9qm5oo8q+g09+sS/gxTcL/ogRCon9rmNu4X7f99uq4lqddwIwCWn2+OtRNLpAsJ+EfHn++Pohecj8zY4sv7IQCq1UJEX4n7/+108c5gg4iafR1R4voMgE/M3uprZfWerD9ylg3Tvz7EkLz61vZYP96TNc2+v38oHLnkzkDXk8Rt43MwHayZrCLZVuvuyXlJv4YbAZCZ+buTctkwBa/1qX0h2Kfrz/fJGnnhcMWgDG66kPxnzy4EQLWOE9F90f/uT7IA9GNxX/8REZX6PagE9RoAm9s6+MrB8kR+/FyT5x/o3rS0hbh/tFdnydlGpWOB3q07dIYNU/Cdk3KVvH9+SXWPJ4f4A2WF9DLis/1smIKHLN+X9Gu4FQAHfyr7no/4bH/SrwHe0Pnn2+p77ke7VARAtcaQXOc3h2QYnECyA8jvieg5IjpJRK8rG509vQbAjUf1uutm3Y38YGuZ6qFAL8ZlHGTDFGx+oma6fsXuU7ZOECt2n1IyPujevW/Idb5ib/LTd24FwMx9p9kwBd8zZX3SrwHe0Pnn++WP97BhCp6Q6X3lAQRAtf6OiAYT0SqSmz4+R3I38EmSm0HmEtE/KRudPb0GQKu20UuLd3v+YbbD6ivrZ60lSNwD0T6uy3epCVg63yGA7lXHdVNw0jXGrQAYvx7xjI/dHaBvOv98WyXLkulikygEQHCq1wD46Mwtjnbkuc36wb9l7Fot7kjCpepb2/kyhwv5nbLWCHW3SBxrAPVk3XH7wevO7ri5FQCZO7s74E6xXnT++a6obfFtAxECIDjVYwBsbQ9x/8FyzV2p4vV/lvgxqV6TCN2z1v99V9H6P4uOuwShZ8NWFLFhCh6+osjR67gZAEdHKw8M/jT5NYngDZ1/vu+MbiDKPVTl6fsgAOrty0T0vupB9KHHALil5BwbpuBbx+l1t+2xWflsmII/3K7HXUm4mOr1f/Gyik7zrePWXnSCUFknDHp2z5T1bLhw4nYzAGbvr3TlriR444OtZZcEQB3qfL6ydC8bpuBxGQc9fR8EQL3dSHJnsM56DIBWRf4/abbebkq05c9fPtJrXCCpXv/XVUNr+0UniE8KT6oeEnRxLm79X43DTj9uBsCapjbXxgXuW7Lj5EU/27mHqrRY1rF8l9ykcv9Ub1uXIgCq9WAfx4sU4AD4+Gx5p23hNr123G4uPhe70tPpziTosf6vq/hAYJiCBy7DdJ5uVu2tYMMUfO8bGxy/lpsBkLnzzmT2/krHrwXu+uuSPRf9bLvx/XaD1br0soGC61q8WweIAKhWhGTAi/RyBDIAtrZ31twrrtKr5l5LWyhWm/BEtf9FhqFnuYeq2DDV1f/rTtcA6KTIMHhj6HK5/s+NmntuB0CrHuDoVQccvxa4y1prp1sAZGa+67U8NkzB6w55V0gcAVCtCiJ6qJev30QBDYDbjsndtjeP0Wv9n+WRaJuxJTswnaeT8dH1fzq16+saAA1TcLWDMiPgPqv+X8Y+52u33A6AVs25B6Z5O50HialqaL3k51qnAPhf0XqAE7O8qweIAKjWSiIa3cvXbyR5F1Bn3QbAt3KOsmEKfn7RTs8+vE5Myj7Ehin4pSV61CcEyQrmSwvLVQ8lJj4QfH9KXnSjAabzdFHf2h6rt1flQr09twPg6bqW2HReow/tvcCeWNmg6BS9bgFwcYHsC/zYrHzP3gMBUK07qLMVXHf+iYi+69NYktVtAHzqve1smILnbSn17MPrhNUXWHWpEeh0oUO/skHMFwcC8xN5VT5qJabzdGH9LH9n4jpXXs/tAMjM/J2J/rX3AntGrTxw0c+0bgGwuKqRDVPwVUMyua0j7Ml7IACCU5cEwHA4wgNGZLNhCi46VefJB9epupbOnZ1OugaAewrLatgwBX999Bqtlg3EB4IlO074sjsP7LN29b/oUrchLwKgtdlgUrb37b3Angej1Qasn2ndAmAkEuGbRq1mwxS868R5T94DARCcuiQAHjnTwIYp+JqhWdwR8ubKxQ0/eF3e+l+N3XlamL2hhA1T8G/m71A9lIvEB4JjZxsxnaeZn7/jbn9vLwKgH9N5YF9zWwdfMUhuBDwaPV/pFgCZmZ+dV8CGKfidDcc8eX0EQL3lENFx1YPowyUB8KPt8pfd47P1/mU3cJkstjk+09tim2DP7xbsYMMUPGt9ieqhXKRrIPj2q3I6b+NRTOep1hEK87XDstgwBR+q7L4dZaK8CIDFVTJkXD00k9s1vihOF1aTgtvG53DThXZtA+CMPHlR/LsF3lwUIwDq7QUiGqF6EH24JAD+ban3u5fc8HG0COijM7eoHkrai0QifPMY2XFjR2mN6uFcpGsg+NOHu9gwBU/NOap6aGmv6FQdG6bgASOyOexSAV8vAmA4HOEbosti9pXruSwmnUyNblJ8YdFOT77fbikorYlW0/BmWQwCIDh1SQC8e7LcKZlz0Lv6RW6wpvP6e7jIFuwpq26S34vBmdzaHlI9nIt0PUG8v/k4G6bgX80tUD20tDc3+r14+r3trr2mV4Hgac03xqUTa5Pi3M3HtQ6A8b3rvdgYhwAITl0UAGubg9P6KH6R7e6TtaqHk9aW7SxnwxT88NubVQ/lEl1PELtP1rJhCr5p1GqtNqukoxcW7XT9bqxXgeCNtbI1JlpQqhUKR3jA8M5NijoHQGbmh9/e7FlpLARAvX2ZiN5XPYg+XBQAcw/LTg7fey3P9Q+rF6xFtu9uOq56KGnN6pYwVuhXXqXrCaKtIxzrcnNco3I16ei28TlsmIK3lJxz7TW9CgQbouVq7piI0lMqHa6U6zGvHSY3KeoeAMdFi+MPXOZ+cXwEQL3dSAHrBDI5WpLhr0v2uP5h9cL03GI2TMHPL9SzYHW6sDo5ZBU57+Tgtu5OENZV+bKd+hSsTjdWgeXLB2W4euL2KhDEF6xG6Sl1rB3ZP4vuyNY9AGYVVbJhutPnuisEQLUe7ON4kQIWAP9zjizJsHCbOyUZvLY12rLu1nF6tqxLBw0ud3JwW3cniDGrZBHZocuLFI8ufVmdHH745kZXX9fLQIDSU+p1rf6gewA8U98aKz3V5HLpKQRAtSIkA16klyMwATAUjvB10ZIMB0+7U5LBay1tIb48Wg/qVG2L6uGkJaskw7cmuNPJwW3dnSDEXhk+fjzV3fAB9o3PtKbG9rn6ul4GgleWyvAxIVPvCgmp7L43N14026B7AGRm/uY4udRh27FqV18XAVCtCiJ6qJev30TeB8A7iWgVEZ0m+UH4SYLPjwXAAxX1bJiCrx+ezSGXSjL44cdT5S8EsVe/6cd0YNW60nUavrsTREVt5/RjS5teu5bTxeOz89kwBS8pOOnq63oZCFAQWq3mtg6+LDrbUFnXGvsz3QPgcwsKPamRigCo1koiGt3L128keRfQSz8korFE9DA5DIAfbC1jwxT85Jxtrn5IvWZtQBifgYLQKli/3GZv0KsAtKW7E0QkEuFbx8m6hduP61W3MB3EzzYcrmxw9bW9DARW14mrh2Zq3SUpVW2LW/JjCUIAtC6S/7Cw0NXXRQBU6w4iuq+Xr/8TEX3Xp7EQOQyAVr/LKasPu/oh9dqSgpMXLQoGf1k7Od2e3nBLTycIr67KoW/WTs7rhmW5PtvgZSAIQp/0VDZr/aWdNYIQAPNLqj1ZJoMACPEcBUBrgfPaA3oXgO7Ky5MJ9M7LBc5u6ekEYZ1Mnlvg7lU59M26aPOi3aTXgeDJOdsCtVEulfxhobxom5HXedEWhADYeKGjc6Ncg3sb5RAAIZ6dAPgFkh8W6/gSEfHpszWxtRVufkD9EApHYv1Ej5xxdzoJerd6v3clDtzS0wli+3HZpumWsdhB7rdB1rIND/p4ex0IXs06xIYp2PzE/bpu0Lvbu6kbGYQAyMz8H6/LUllrXLzBggAI8ewEwJHRx110rNtbyoYpm2sH0WOz5ILyj3e4u6AcejcpW54MX1mq78mwpxMEdpCr88PoTs7Mfe5v3PI6EGQVyR3k97lcvgZ6VxWdbeg3UHBj3GxDUALg35bKJVavZbu3xAoBEOIlfQdwapb8cP52/o6+P3UaGitkXbchy90tKQG9s6bDFm07oXooPertBPHDLiUlwHvxwft0nfvB2+tAgB3kalizDf/x+sWzDUEJgAu3ub/JEgEQ4iW9BiNIIBgAACAASURBVPB378oT4fTcYtc+nH5atbeCDVPwA9M2qR5K2ohfEL+/Qt8F8b2dIKyishOzUNfNLztKvZ169zoQRCIRvnmM3EFeWIYd5H6ZmNX9bENQAuD+ijo2TMEDRmRz2KW16giA+rmKiP7ex/f7Z5L1Bm8i+UF4KfrfX7H5/C8SEX979Co2TMEbjpx15YPpt5M1zWyYgq8cnMEXOnBV7oeSs42xkhjtGpfE6O0EsWibrOv2i3eDVfooyOZsPMaGKfg3Hs02+BEIfj1X9iB/Dz3IffPzd7Z2O9sQlADYEQrz1UNlD/LiqkZXXhMBUD9hkiHQL9+jbtb0EdE8m8//IhHxl1/8mA1TcG1zmysfTL9FIhH+2ug1bJiCd5+sVT2ctLBsZzkbpuBHZmxRPZRe9XaCKDolr8q/OnI1NoL45IVFOz2dbfAjELy59igbpuAXF+/25PXhYuFwhK8fLmcbDlRc3KUqKAGQmfnRmVvYMAV/UuhOD3IEQP1EyN8A6FQsAN4xMdeVD6Uqv3x/Oxum4HlbSlUPJS0MX1HEhil41MoDqofSq95OEG0dYe4/WF6Vn6huVjTC9PKdievYMAVvLj7X94OT4EcgyD1UxYYp+K7JeZ68PlysuKpztqFrAe4gBUC3e5AjAOonsAHwhUV6tvKy6/U1R9gwBb+0BFflfnhw+mY2TMErdp9SPZRe9XWCeHDaJjZMwav2VigYXXqpaWqLfS/qW9s9eQ8/AkF14wXP/x7QafmuU2yYgh9+e/MlXwtSAFy5R65Vf3D6pX+PZCAA6iewAfCdDcdc+VCqsu7QGTZMwXfjqtxz8XfOyqqbVA+nV32dIIYsRytBv2w4cpYNU/D3Xsvz7D38CgTfmiDvZG7x6E4mdBodvXM2fMWld86CFACPn2tiwxTcf4g766YRAPUT2AC4VdNWXnadi16V9xuIq3KvBWntXF8nCKsrxROztyoYXXqZnlvMhin4jx/u8uw9/AoE3XWlAG/0Vuc1SAEwHI7wgOhaxoOn6/t+Qh8QAPUT2ABY1xL80GRdleeXBDvM6u6j7XL37H/O0T809XWCOHi6XpZnGO5eeQbonhWaZm/wLjT5FQhmRlsJ/mEhWgl6KX4DSHehKUgBkJn58dkyzC5xoWkBAqB+AhsAbxufE/iCuL9bsIMNU/CcjcGeztZdkKZN+zpBdITCfNUQOZ197Kw75Rmge9YGEC+nTf0KBFtKzrFhCv7WhHWevQcwH4uWm7pqyKUbQJiDFwDH9DKdnSgEQP0ENgD2MwX3M4PdFWFqjizP8JePvJtigs4NICv36L9xws4J4uG3g7GhJcjqmttj3wcvZxv8CgT1rZ1/n3ONFzx7n3S3YrfcAPJQDxsnghYArb9PdxtaEoUAqJ8JRPQ/VQ8iARfVAexnyn7AoYBOhVnlGb4/Zb3qoaSs9lCY+0fvmB0/p/cGEGZ7J4gRn+1nwxQ8epXeJW2CbHOxvGPmdbkpPwPBXZPz2DAFrw9oAf0gsNp89lQ6JWgBML6Afnd3NBOBAAhOXRQArSOoa+jONnRuBAnCL4MgstbMXR+QNXN2ThCfFMqi1o/NzPd5dOnDWjP3/EJvy035GQj++OEuT4taQ9yauYLu18wFLQCGwxG+blgWG6bgw5UNjl4LARCc6jYABnkq7NZx6NPppY93yF2zP5sVjLBk5wRx9EwDG6bga4dlBfbut+6sDiBe75r1MxDM8inUpqv4XbNdO4BYghYAmZkfmylDrdOOIAiA4FRK3QFk7uzTOXcz+nR6IWjTpXZOEKFwhK+NXpUfPePsqhy6991JuWyYgjce9Xa61M9AsOmonNa+c1Kwuyjpyk7dvCAGwFEr5bT2iM/2O3odBEBwKqXWADIzT4l2BHn54z2qh5KSHpkh+1l+usudfpZes3uCsP5ey3cF9+63ruI3TJxv8rbfuJ+B4LwPnU3S2Wc2OmcEMQB+uksuOfmpwz7qCIDgVErtAmZmXr2/kg1T8L1vbFA9lJQTCkf4mqHyTllxVTDulNk9QQyL9jYeK4JxZzNI8kuqfSuZ4ncgsGqPBr2Qvo7GZxxkwxQ8+NN9PT4miAHQWnJyzVBnS04QAMGplKoDyMx8uq6FDVPw5YMyuLU9pHo4KaW4yp1fXH6ye4JYXCCLW//8Hf2LWwfNOxuOsWEKfm6B90WT/Q4Ev52P2qNe+fk7W9kwBX+0/USPjwliAIxfcuLkQhoBEJz6IhHxqh0lgTmh9yUSifDXR69hwxS852St6uGkFGvq4hGHUxd+snuCCFJ7u6D580f+7Zb1OxC8uVbWHn1p8W7P3yudRCIRvmGE3ABSdKqux8cFMQAyM//UhaU0CIDg1BeJiCvPpdaO2afe286GKXjhtjLVQ0kpVlN2p4uX/WT3BHGhI8RXDMpgwxRcfr7ZxxGmPqteXt7hKs/fy+9AkHPwDBum4B+8jtqjbiqrjm4AGZzJbR0918sLagC0NtONWpn8khMEQHAqJQPgxKxDbJiCBy7ree0IJO5nvTRl11UiJ4j73tzIhik4e3+lT6NLfY0XOrjfQP86ZvgdCM7Ut7JhCr5soOCWNiw5ccuqvXIDyAPTNvX6uKAGwKUu1B5FANTDLUS0joj2EdGnRDSciB4koq+oHJRNKRkAM/adtvXLA+zrqym7rhI5Qbz88R42TMFT1hzxaXSpb/vxGjai1QX84HcgiEQifPMYueRk14nznr9fupiQae8iPqgB8HClXE993bCspAvqIwDq4TARrSGiPxLRFJJhsIZkX+AaheOyIyUD4Mma5tj0QU/1oyAxVk2unpqy6yqRE8T7m4+zYQp+dl6BT6NLfe9ukv+mv5m/w5f3UxEIno4uOflgK5acuMXuMp6gBsCOUJivHipbapacbUzqNRAA9dBMRFd08+cGET3k81gSlZIBMH4B8f6KnhcQg30rbdTk0lEiJwi/71alg78ukXdV31jrz11VFYGgc8nJXl/eLx3cPGatrbuqQQ2AzMwPTd/Mhil41d6KpJ6PAKiHHCK6U/UgkpSSAZC5s4RATz0kITHjM/uuyaWjRE4QDXEFi2s8LlicLqx1lat9WlepIhBgyYm7qhrsr6sMcgAc9Ok+NkzBE7MOJfV8BEA9/JhkCPwX1QNJQsoGwHHRIqJDlxepHkpK+MW729gwBS/a1nNNLh0leoLwq2VZOmjrCPOVg/3dWa0iEMTvWMWSE+fWHznLhin4rsl5fT42yAHwg61lbJiCn35ve1LPRwDUQ4SIwkRUTUTvEdFviOhmIvoHlYOyKWUD4Irdp9gwnbfbAcla6L47YLUVEz1BPL9wJxum4JnrS3wYXWo7UFHPhin4hhHZvtVWVBEIIpEIDxgRvA1SupqRV8KGKfiFRTv7fGyQA+DOE+fZMAV/Y+zapJ6PAKiHy4noYSIaSUTLieg4yVDYRnJnsM5SNgBa7Xac7LICKZEpGd0keoKYnlvMhin4jx/u8mF0qe2TaKmLn81KvtRFolQFgiCWSNLVHz+UhcPfzuu7cHiQA2BzW2eJpKqG1oSfjwCory8S0R1E9ILqgfQhZQNgRyjMVw2Ru6xKzzWpHk6g5R2uYsMUfLeNKRndJHqCsP6udqafoHcqCoerCgRBLJKuq7sTKBwe5ADI3Fkkff2RxJecIACCUykbAJmZH5i2iQ1TcOa+4Pc4VimRKRndJHqCONtwgQ1TcL+BgpsuBO+EopPYRiwf74qpCgTLdsq7nY/OxJITJxK9Kxb0APjCIrnkZEZe4ktOEADBqZQOgOYne9kwBU9efVj1UAItkSkZ3SRzgrhlrCxBUViWmj8XfohEInzjqNVsmL33cnWbqkBwBEtOXLErui7u5jH21sUFPQC+nZf8khMEQHAqpQPg/PxSNkzBv56Lwr5OJDIlo5tkThDPvC+L0M7PL/V2cCnsdF0LG6bgKwZlcGu7f+tGVQWC+MK+x5Is7AvMi7adYMMU/JTNnbFBD4BOltcgAIJTKR0AC0plYd/bUdg3aS1tIb7MmpKpT3yhsmrJnCBeyz7Mhin4laUo7JusnINn2DAF/8frG3x9X5WB4MHokhOxF0tOkjVkuayNNz7zoK3HBz0AWhvs+g1MfPwIgHrJJ6Iq1YNIUEoHwPjCvudR2Dcpu0/WRqdk1vhWysNNyZwgMqOFfX88daPHo0td09YdZcMU/OLi3b6+r8pAYC05eS0bS06S9fDbsjvGit2nbD0+6AGQ2X7Xk64QAPXyFyIao3oQCUrpAMjMfMdEWdh3S/E51UMJJGtK5hfvblM9lKQkc4I4UY1e0k79YWEhG6bg2Rv8raeoMhBYS05+hSUnSQmFI3ztsCw2TMHFVQ22npMKAdBu3+OuEADBqZQPgM8tkCeiORuPqR5KIA1dXiSnZDLsTcnoJpkTRHxh3wMVKOybjO+9JteNbjrq74WXykBgLTlBL+nkHDvbyIYp+OqhmRyyuZEmFQLghEzZSzrRNpsIgOBUygfAt3LkVNRLS/ydikoVj8zYktCUjG6SPUFYhX2XFpZ7OLrU1HShs5RHdeMFX99bZSCIX3JS24wlJ4latbeCDVPwg9M3235OKgTAz/bIv/dP3rb/92ZGAATnUj4ArjkgF6Pf+4a/i9FTQTgc4euiUzJHz9ibktFNsieIkSv3s2EKHrXygIejS02FZbKUx63jkmtx5YTqQPCdievkkpMSLDlJ1KRseSds4DL7d8JUf7/dUFwl73xeMzTL9p1PZgRAXX1O9QASkPIB8FRtZzmKCx3BamOmWum5aJP7IZncEdC1cMmeID7ecZINU/Djs/1rY5YqFkSb3P/y/eSa3DuhOhD8bsEOLDlJklV+acFW+2vhVH+/3RAKR2IlhEoSKCGEAKindiK6VvUgbEr5ABiJRPirI2VB2v0V/hWkTQUZ0d2wD0zbpHooSUv2BLG/oo4NU/ANI7IDuftZpUGfylIeE7MO+f7eqgPBG2uPsGEK/uuSPb6/d9DdOi7xAuyqv99ueWi63P28ck+F7ecgAKr1eg9HmIjmx/1/naV8AGRmfnw2GrUnY/Lq4NfDS/YE0dYR5isHZ7BhCi4/3+zhCFNPMiczt6gOBNn7K9kwBf/wTZQQSsS5xs4WjI0JtGBU/f12i3XR9GoCF00IgGpFiGg3EeV1OSJEVBD971xlo7MnLQLgqJWyUfvIlWjUnohfzy1gwxQ8b0up6qEkzckJ4r43N7JhCl69v9Kj0aWeUDjC1wzNSng6yy2qA8HJms4SQm0dwVw2ocLGo2fZMAV/77W8hJ6n+vvtlg+iyyaettkBhRkBULWBRHSciO7u8ucdRHSd/8NJSloEwKWFslH7z2ZhPVcibh+fw4YpuKA0uJ8PJyeIvy7Zw4Yp+I21RzwaXepJppSHm1QHgvgSQgdPo4SQXbPWl7BhCn5+4c6Enqf6++2WndEeyN8Ya3/jFAKgercQ0REimkxEn4/+GQKgZrCeK3Hnm9piv1gbWttVDydpTk4Q7246zoYp+Lfzd3g0utRjlfJ4KIFSHm7SIRA8NlMuOVm2EyWE7PrLR7vYMAVPzy1O6Hk6fL/d0NzWWTqpqsFey00EQD38M8k1f3uJaADJTSAIgBrBeq7EbSk+x4Yp+I6JuaqH4oiTE8TWY9VsmIK//eo6j0aXepIp5eEmHQLB8BWyePpYgRJCdv3g9fVsmIJzD1Ul9Dwdvt9uuWuyLJ6+/shZW49HANTLE0R0huQmEARAzWA9V2LmbDzGhin4uQWFqofiiJMTRF1LZ2Hfuubg3gX1U6yUR36pkvfXIRAsLpDtE5+cE8z2iX5rbQ/x5YPkBfqZent3vyw6fL/d8sKinWyYgmfk2WufiACon38nooeI6J9UD8SmtAmALy3ZzYYp+M21R1UPJRBS5d/L6Qni26/Kwr75JdUejC71fHNcTsKlPNykQyDYW17Lhin4a6PXYMmJDU7+vXT4frtlem4xG6bgFxbZWweJAKgnFILWkHVH63cLsJ7Ljnvf2MCGKXjNgTOqh+KI0xPEb+fLwr7vbjruwehSS03cutFESnm4SYdA0Noe4sui67kSvaOVjj7anvwdUx2+327JPVzFhin47sl5th6PAKgnFILW0JYSuabtOxOxnqsv8WsmT9W2qB6OI05PECjsa9/m6LrR705St25Ul0Dw/SnRNW2HE1vTlo6GRddMjss4mPBzdfl+u6GqvpUNU/BlAwW3tPXdtQoBUC0Ugg6Q2ubOuxP1Ad7V6odU2jXt9ASxOlrY9z4U9u3TOxvkXfbff6Bu3agugeBPH8pdrW/nJbarNR09OnMLG6bg5btOJfxcXb7fbohEIvz10WvYMAXvPlnb5+MRANVCIeiAserabT+eHn/fZFl1E1OhD67TE0T5eVnY98rBGSjs24eXFst1o1Nz1K0b1SUQzMgrSWg9V7oKhyN8/XBZN/HImYaEn6/L99stv3h3Gxum4A+3n+jzsQiAaqEQdMA8O092tpi7Geu5epNKnVOcniAikQjfEC3si17SvbPWja5VuG5Ul0CQl+B6rnRVVt3Ehim4/5BM7gglfoGly/fbLeMyDrJhCh66vKjPxyIAqodC0AFi9bb921Ks5+pNKvVOduMEkUr/Hl650BHiK6KlPCoUrhvVJRDEr+dqbe97PVe6ytx3mg1T8APTNiX1fF2+325ZvusUG6bgR2Zs6fOxCIB6QCHogLB+2dw/NblfNukgEonwV0euTpk7Xm6cIEavSp07ol4pOiXXjX515Gql60Z1CQSRSIRvHiPXc+2xsZ4rXVkX5a8s3ZvU83X5frvlyJkGNkzB1w3L4nAfrRQRAPWCQtCaKz3nbLohHZyqbWHDFHzFoAy+0BH8OxdunCA+ia6JfAy9pHv08Y6TbJiCn5i9Vek4dAoEiaznSldOl+Xo9P12Q0cozP2HZLJhCi4919TrYxEA9YNC0BoLhyN87VD5wzVrfQnnl1QraVivs7UHzrBhCr73jQ2qh+IKN04QB0/Xs2EKHjA8+LuivTJy5X42TMGjVqptf6ZTILDWcw1b0fd6rnT1rQnrHG3M0+n77Zb7p25iwxScue90r49DAAQioheIqIyILhDRdiK6NYHnplUAzCo6HatvZx23jc/hrKLef9DSyVs5R9kwBb+0eLfqobjCjRNEW0eY+w+WFw4na9BLujvWOsmlheVKx6FTIPh0l7xz/OjMvtdzpSM3SnPp9P12yytL97JhCp68+nCvj0MAhMeJqI2IfkVy2vkdIqolov9l8/lpEwCzik5zv7jgZx39ogdCoPT7DwrZMAXP2XhM9VBc4dYJ4kdvyV7SWUXoJd2VTjuldQoEhyvleq7rh2f3uZ4rHeWXVLNhCv72q8kX59fp++2WuZuPs2EK/vXcgl4fhwCotxySZWK8tJ2Ipsf9/78jogqSJWrs+CIRccWJcg43N6fs0d7YxHeOyuCrXl7W7XH1y8v4zlEZ3N7YpHysXh2hpiZurK3nxtp6DjX1/Pe8Z1wWX/XyMt5cdFL5mN04GmvrY9/nxtr6pF9n4MJtfNXLy/jNVXuV/53c/H67cZSfruGrXl7G17/yKbfWN6bE99uN40JDIw94ZTlf9fIyLiuvTpnvt1vH3JyDfNXLy/j3cza58v1uupAaBf63H69hwxR8+/icXh+HAKi3F4hohIev/w9EFCKin3T58/lE9FkPz/kCyQ+LdXyJiLjgyv588OprcODAgQMHjkAejbX1PkU0b9W3tsfuap5vauv5cQiAae3/kvzm397lzyeRvDPYnZHR51x0IADiwIEDB44gH6kSAJmZvzNRbo7ZUnyux8cgAKr3r0T0ChEtJ6Kt0WM5Ef2NiP7N4/dOJgB2ewfw/OnTyqcDvDzy95f3OP0bf+TvT92pcDtTYwvzDvFVLy/j387aqHy8bh1uTY3Vnq+L/fvVVNcq/3u58f1263jh3c181cvL+L21B5T/vXWbCrWmOf/gYJpTt++3G4db0+Px3+9wOHVKe/1uwY4+12IjAKp1CxGdJ6JTRDSPiCZGj3lEVE5ENUT0DQ/fP5kp4K6+SERcX586V07dCYUjfNv4nG43gVgbQW4bn5PSJWHsLJYeuGwfG6bgiVmHfB5dMNwxMVdelZf0fFWuCz8Xx985KbfPuxXpyo2NDnYEbTMENsj07o21R2Q1hiU9V2NAAFRrGxHNJqLPdfO1z0W/ttXjMWwnomlx///vSAbShDaBpHoAZO7cBdw1BKbLLmA7J4iHpm9mwxS8ck+Fz6MLhucWBGeHtF+BoMHmeqV0Vdfc+e+TbKkTO4IWAK2WZz+10fIsHa3eX8mGKfi+Nzf2+BgEQLVaieiaXr5+TfQxXnqcZP2/XxLRtSRDZy0R/W+bz0+bAMgsQ+Bt43PSsg5gXyeIUDjC1wzNYsMUXFzVqGCE+gtSjUS/AsGO0prYzxF0z2mxYzuCFgDHo0h2r8rPN7NhCr5ycAa3dXQ/tY0AqFYpET3dy9efJlmg2Wt/JKITJOsBbieibybw3LQKgMwy6Fg9gfuZghtb9f9l6Ya+ThAlZxvZMAVfPTQzpafCnQhSlxS/AsH8/FI2TMG/6qNmWTp7dt4OR+3O7AhaAESbvN7Zqa2JAKjWCyTvvr1FRA+SDF7fjP73W0TUQkTPKxudPWkXAJnlD9fXR8tG7bvTpFF7XyeIVXsr2DAFPzh9s4LRBUNFXJ/k1na9+yT7FQgGLpNdCyZlY91oT6asPsyGKfhvS/d49h5BC4A3j0mv37/J+Nms3rvrIACq9zjJtYAdRBSJHh3RP/uZwnHZlZYBkDn9rkD7OkFMyj7Ehil44LK9CkYXDJFIhG8ctZoNU3DRKbUdL/riVyB4cJrsWyr2pv4yimRlFckZh/unbvLsPYIUAKsaWtkwBV82UHBLm94XUiqN+Kz3/toIgPr4PBH9n+jxecVjSUTaBkCrUfvQ5emxBqWvE8Qz729nwxQ8P7/U/8EFyM/f2cqGKXhJwUnVQ+mVH4EgFI7w1UNlj+RjZ7FutCcnquV6rv5DMrk95E2pkiAFwPVHzrJhCr5rcp7qoWhtyY6TbJiCn5i9tduvIwCCU2kbANNtF1pfJ4hvjpObY3aUpn5faCfGrDrAhil4xGf7VQ+lV34EguIqWcrj2mFZWDfai3A4wtcPl+u5Dlc2ePIeQQqAM/JK2DAFv7Bop+qhaK3oVB0bpuCvjlzNkcilP18IgOBU2gZAqw7VdcOy0qIOVW8niPNNbbGvNV7Q++Sh2rKd5WyYgh+bma96KL3yIxB8tkeuG334bawb7cujM7ewYQr+dFf367mcClIA/NOHu9gwBU/PLVY9FK1d6AjxFYMy2DAFn6ptueTrCIDgVNoGwPZQmPsPkdNXZdVNqofjud5OEFuKz7FhCr5jYq6i0QVHUArY+hEIJmTKdaNDlu/z5PVTyfAVRWyYgsdlHPTk9YMUAO+Zsp4NU3DuoSrVQ9HevW9sYMMUvPbAmUu+hgAITqVtAGRm/vHUjWyYgjP3pf4C9t5OEHM2HmPDFPy7BTsUjS44gnLh4EcgeOo9uW504bYyT14/lSwuOMGGKfjJOds8ef2gBMDW9hBfHr2rVVnXqno42ntp8W42TMFv5Ry95GsIgHrJJ6Iq1YNIUFoHwL8t3cOGKXjK6sOqh+K53k4QLy2Rv2TeXHvpLxm41P1TN2l/4eBHILh5zFo2TMG7Tpz35PVTyd7yWjZMwV8bvabb9VxOBSUA7iuv8/TfIdW8s0FenP/+g8JLvoYAqJe/ENEY1YNIUFoHwPc3H2fDFPzsvNS/89XbCeK+N+Wd0NX7KxWNLlheWSpr303W+MLB60CAUh6Jib/zdabe/TtfQQmA1p3Q/5zT/c5WuNjm6PKcOyddujwHARCcSusAuO2YbNT+rQneNmrXQU8niLaOMF85WJ6YTtY0KxxhcMzbIrtf/Frj7hdeBwKU8kjcD173bu1bUAKgVdtuzKrua9vBxWriNug1dOkljQAITqV1AKxr6WzUXtfsXaN2HfR0gjhQUc+GKXjAiGxMydhUEID+t14HApTySNyfP/Ju92tQAuBj0e4Wn/TQ3QIu1VOJLgRAcCqtAyAz87dflY3a80uqVQ/FUz2dID4pjJY1maV3WROdNLR2XjjUNLWpHk63vA4EVimPt/NQysOuWetlaH5+ofuhOQgBMBKJ8IBof9sDFel7zknUr+YWsGFeWqQfARCcSvsA+Jv5slH7e5u8a9Sug55OEEEpbKybOyflsmEK3lx8TvVQuuV1IPi+VcrjMEp52LXxaHTa/LU81187CAHwZI3siHLl4Axu6/CmI0oqstp0mp9c3KYTAVAPz1Ow2r/FS/sA+PqaI2yYgl/+2LtG7Tro6QRhtTZbXJAePZHd8vsPCtkwBb+z4ZjqoXTLy0DQ0hbiywbK167yYENDqjrXeIENU3C/gYKbXC64HoQAuHp/JRum4Pve3Kh6KIEi9spe0g9Ou7iXNAKgHsJE9DAR/Vs3X7vd57EkKu0DYFaR/KX0o7dS+5dSdyeISCTCN41azYYpeG95reIRBsu0dUfZMAW/uHi36qF0y8tAsPukLGly8xiU8kjULWNl6ZzCMndL5wQhAL65Vv7MvLREz58ZXR0/18SGKfiqIZncEddLGgFQDxEiCpEMgpVEtIaIJhPRH4moRuG47Ej7AGhNS/Qf7F2jdh10d4KorOss5dHajlIeiVh36AwbpuAfvL5e9VC65WUg+HC7LOXxi3e9KWqcyn75viyevWCru8WzgxAAn1sg75rP2ajnXXNdhcMRvnZYFhum4OKqzl7SCIB6iBDRV4joZiL6FRG9SUR5RHSSiDIUjsuOtA+AkUiEB0QbtR+qTN1/h+5OELmHqtgwBd8zRc8QozMrPF8+KEPL8OxlIBi6XLY1G+9RW7NUNjFLruca9Km77fOCEACtdbNbNF03q7OH397Mhil4xe5TsT9DANRDhIj+l+pBJCntlD2zKAAAIABJREFUAyAz82MzZWmCZTtTtzRBdyeI6bnFbJiC//ThLsWjC55IJMJfG71G2+lzLwPBIzO2XHIyAntW7qlgwxT80PTNrr6u7gEwfuf8eU13zutsyPJ98qIrs/OiCwFQDxEi+i4FcyMIAiB3NmofK1K3OGl3J4jnF+1kwxQ8I69E8eiC6ck529gwBX+0Xb8NNF4FgnA4wtdFp6OOnmno+wlwkZKzjWyYgq8emsmhsHvrJ3UPgDuitTO/OU7f2pk6W7itjA1T8FPvbY/9GQKgHiIk1/+1EVEREX1IRAOJ6EdE9O8Kx2UHAiCnR3ui7k4Qd03OY8MUnIdSHkkZl3GQDVPwsBVFqodyCa8CQWl0QXr/LgvSwZ5QOMLXDJUBuuRso2uvq3sAXJAvu+c88/72vh8Ml9h14nx049Xa2J8hAOrhIBFdS0R3EdGfiGgOEW0noiaSwVBnCIDsfaN2HXQ9QTS3dXA/q5RHA0p5JGP5rlNsmIJ/OmOL6qFcwqtAkLFPlqR4oEtJCrDvoelyPdfKPRWuvabuAXDgMjmFOTHrkOqhBFJ3v68RAPX2OSK6UvUg+oAAyBc3aq+sS80w1PUE0XlFuUb10ALryJkGNkzB1w3L4rCL03lu8CoQvJZ9uNuitGDfoE9lGHrVxTCkewB8MBp6V+11L/SmG2vGZv2Rs8yMAKiDfySi7xDRdd187b8R0dP+DidhCIBR90zxrlG7DrqeIBZtQykPpzpCYb5qSCYbpuDSc02qh3MRrwLBr6NtqeZtKXXtNdPNB1vleq6n33NvOlTnABgKR/jqoZmuT3unmxe6rNlGAFTrKiIqo841gBuI6P/Gff1/E6aAA8PLRu066HqCGBy9C4FSHs48OG0TG6bgjH2nVQ/lIl4FgtvGy8b0BV0a04N9O6N3328Zu7bvB9ukcwA8Gr1Tfq2Gd8qDpGvVBgRAtZYTkSCifyU51SuI6DjJmoBECICBMtNq1L7I/UbtOuh6grCmZD5zcR1SOhq4bC8bpuBJ2XqtbfIiEJxvaou9ZkNruyuvmY7i13Odbbjg2mvqGgCttbKPaLhWNkhyD8u6rd+P1m1FAFSriohuiPv/nyOimUR0goguJwTAQNlwxLtG7TqIP0HUt7TFpi4xJeOMrrsbvQgEW4rPsWEKvmNiriuvl87uek2u59oQXc/llM4BcKw4wIYpeLiGu+WDpKr+4s5NCIBqNZDc/dvVdCIqJ6I7CAEwMM42dDZq1+0XqBviTxB7orueddy8EDSFZbK+2a3j3JvOc4MXgWDOxmNsmIKfW1DoyuulM6sG56z17tTg1DkAPjF7Kxum4CUFJ1UPJdAikQh/PVp8fs/JWgRAxQqI6KkevjadiGoJATBQvhFt1L7zhLuN2nUQf4L4cHuZtuVLgqbxQud03rlGd6bz3OBFIHhp8W42TMFv5Rx15fXSmbWe688fudOFR9cAGIlE+IYRstVm0ak61cMJvF+8uy36O/wEAqBig4gos5evzyC5QURnCIBxnnpPNmpfuM3dRu06iD9BDIt2Phnx2X7Vw0oJ34tO52086s50nhu8CAT3vrGBDVPw2gNnXHm9dOZ2H25dA+DJmmY2TMFXDs7gtg4UDncqvvg8AiA4hQAYZ0KmbNQ+2OVG7TqIP0H8NNrLdckOTMm44fmF7k7nucHtQNDaHuIrorUyT9W2uDDC9Hamy3oup3QNgFlFsnD4j97aqHooKSG++DwCIDiFABhnxW75w/Xw2+42atdB/Ani+mgv1wMV+L67we3pPDe4HQjSoVuOnyKRCH8tup5rb3mt49fTNQBOXi0Lh7+yFIXD3RBffL62tg4BUJGv9P2Qi3zJk1E4hwAYp7iqs16Vm43adRB/gjBMwf0HZ3I7erm6wirP4NZ0nhvcDgRWM3oUDnfPk3Pkeq6Ptp9w/Fq6BsBn3pfLaubnl6oeSkroCIW5f7SCQ1HpaQRARaqIaDYR3dLLY/5fIvotEe0noj/7MagkIADGSeWK9V0D4P1T0cvVLV3LM+jA7UBg9XJ1s31ZurPWcw1d7rw8iq4B8JboxrrCMhQOd8v9U2Xx+U/yjyAAKvI/ieh1IqojojNElEFEc4hoGhEtJKJdRNRGRFuJ6EeKxmgHAmAXD78tCySv2H1K9VBc1TUAopereyKRCN88Rk7n7T7pfDrPDW4HggeiHU/EXr06ngSZteTkoenOl5zoGACrGlpTurSWKq8slcXnx31aiACo2D8S0aNE9CbJziDZJAPgy0Q0QOG47EIA7MLaITtm1QHVQ3FV1wC4YGvq7XRWySrPsGib8+k8N7gZCNpDYe4/WN4ZP1Hd7NII4djZRjZMwVcNyeQOh8sxdAyA1tKIuyfnqR5KSpm7+TgbpuCnZuYiAIIjCIBdLNlxkg1T8OOz81UPxVVdA2Aq1jpUaXymnM4bslyPHeRuBoIDFfVsmIIHjMjGBhAXhcMRvn64rJF3qNLZ72AdA6COm6NSwfbjsvj8LcM/QwDUwPtE9Ezc/zeI6Ick1wDqDgGwi4Onoye74dkp1SUj/gTRzxTc0qbHWrVUodsOcjcDwZICeVH0xOytLo0OLI/NymfDFPyxw5JMOgbA339QyIYpePYGfcojpYL61nY2TMFffvFjBEANnCGi26L//T+IqJrk+r8KIrpa1aBsQgDsoj1ul9Xxc02qh+OahugvDcMUfNv4tSm3y1k13XaQuxkIrGURY0VqLYvQwehVB1wpyq5jALxjYi4bpuDNxedUDyXl3DkpFwFQE61E9OXofz9LctfvF0huEvlU1aBsQgDsxoPT5UaQlXsqVA/FFVlFp/nWcWsvmgK+bXwOZxVhQb9b4neQH9NgB7mbgSBVN0bpwCrs+4jDtoy6BcC6ls4LztrmNtXDSTnPL9qJAKiJo0R0Z/S/s4nov6L/fRXJcjE6QwDsxpDlsuTF+IyDqofiWFbRae4XF/zip4H7mQIh0EXWhcOqveovHNwKBKlcGkkHxVVyI8g1Q53dOdYtAOaXVLNhCv7WhHWqh5KSZuSVIABqYjAR7SGiMUTUQURXRv/8GiJqVjUomxAAu7G44AQbpuCfvxPsNU+hcIRvG59zSfiLD4G3jc/RYsoyFQz6VF44TNSgVp5bgeBoXOeBVFoTq4tQOMLXRjvzHDnTkPTr6BYA52w8xoYp+HcLdqgeSkraePQsAqAmPkdEQ4hoA8nyL5aniOiQkhHZhwDYjaJTdWyYgm8I+K5H6yq8ryO/pFr1UFPCB1tlt4xfvr9d9VBcCwTLdpazYQp+dKazKUro2aMzZW/uZTvLk34N3QLgi4t3s2EKfivnqOqhpKTzTW0IgJr7GxENUz2IPiAAdqOtIzXqnlk7U/s6sLbLHTtPnGfDFPyNsWtVD8W1QDBqpTubFKBnI1fuZ8MUPHJl8v/GugXAH7y+ng1TcM7BM6qHkrJemLsZAVADf0/yDuBWkh1A5hPRD5SOyD4EwB6kQucD3AH0V3NbB/cbKP9NqxpalY/FjUBglSn5pDD5u1PQOzfusuoUAJvbOviy6M/BmXq1PweprL6+HgFQA5NJlnwZS0TDiWgxyTIwc0lOD+sMAbAHVu/TCZnq13Mly1oD2N0mEKwB9MZdk/PYMAWvP3JW6TjcCATxhYoPVya/Pg16Z62zdFJCSKcAWFAqCxXfOk79nfBUhgCoh9PUuQvYchkRHSA5DawzBMAeLNomN4L84t1tqofiCHYB++uFRTvZMAXPyFNb/NaNQHD8XBMbpjutyqBnoXCErxkqN4IUVyW301qnAGhtAPnNfGwA8RICoB7qiejybv78biIq9nksiUIA7MG+crkR5MZRqwO9EYSZ+eNoezvUAfTe23my/dUfP1Tb/sqNQPDZngo2TMEPTdeju0kqe2SG3AiyfFdy63F1CoB/+nAXG6bgqdgA4ikEQD1kENGobv78MkIZmMC60BHiKwdnsGEKPlkT3I0gzMx50abs3xyXwyt2n+L8kmpM+3rE+re+e3Ke0nG4EQjGCrkBZOjyIpdHB12N+ExuBBm9KrluKzoFwO+9pscyiFSHAKiHASTvAk4lov7RP/s8yU4gO1QNyiYEwF786K2NbKTANOlbOUfZMNGU3Q9VDa1yin2g4KYL6k7EbgSCx2bKDSBLsQHEc0sL5UaQx2blJ/V8XQJgfAeQ803oAOIlBEB9fI1k2IsQ0QWSBaHPEdG3VQ7KBgTAXpif7NWmsK8Tz87bwYYp+N1Nx1UPJS1Yxbe3HVO3u9ppIOgIhePWpWEDiNcOVdazYQq+fnh2UgW3dQmAm46eY8MU/J2J6ADiNQRA/VxNRI+QLAMThG8KAmAvrI0gT84J9kaQW8bKPsA7SmtUDyUtPLegkA1T8OwN6jaCOA0ETgMJJMZp4NYlAFprYJ9ftFPZGNIFAqAevkVyGjiIEAB7caBCngQHBPgkWFknpyQvG6h+bVC6mJFXIk+CC9WdBJ0GAqsd4hOzg90OMUicTLnrEgB1uPhJFwiAethNRM928+dXENF/9/B9hxBRPhG1EFFdkq+BANiLjlCYrx6a6ag8g2rZ+yvZMAXf+8YG1UNJG1tK5DTYtyaomwZzGghSoQ5m0FibboYs35fwc3UJgLdHlz+guLz3EAD10EIy7HX1HBEJD993FBG9RERTCAHQM1afzqAuhH8t+zAbpuC/Ld2jeihpo6G1PdYR5GzDBSVjcBoIrA1QmfuCvQEqSMTe02yYgu+fuinh5+oQAM82XIhtgGpUuAEqXSAA6uEMEX2jmz+/joiqfXj/ZwgB0DNBL4Xxi3e3sWEK/mBrmeqhpJV7psheqGsPqOmF6iQQtLaH+PJBsgRSRW2LRyOErsrPN7NhCr5iUAa3tocSeq4OAXDdoTNsmIK/P2W9kvdPNwiAephHsv1bV9cQUYMP7/8M2Q+AXyD5YbGOLxECYK9W7ZXFcB+YlvhVuWqRSIRvHLWaDVPw3vJa1cNJKy9/vIcNU/Dk1YeVvL+TQFBYJlt5fWPs2sAXQQ+SSCTCN4+RG7YKy84n9FwdAuDra46wYQp+afFuJe+fbhAA9fBlIqokomVEdEP0z/4byV7Am314/2fIfgAcSfIDc9GBANizkzXyqvzKwYlflatWVi1befUfnMltHWjl5acFW8uUthJ0Egje23ScDVPws/MKPBod9OTZeQVJlWzSIQD+aq4c+9zNKDflBwRAfRhElEmyDmAryTqA1UR0e4Kv8yp1E9C6HNd0ec4zhDuAnpFX5WvYMAXvPJHYVblqViuvBwN49zLoik7JVoI3jMhWchfNSSD480do5aXKtHWyaPufEmwlqDoAxv+eTPTuJSQHAVA/XyGiB4noh0T0L0k8/99IBrzejn/o8pxnCGsAPfXr6JXtewErpDxqpVy/OGxFMNcvBll7KMz9h8gd5MfPNfn+/k4CgdXKawNaeflu49GzbJiC75iYm9DzVAfAE9XBnSkJKgRAIEIA9FxQW6k9NH2zowbz4MzDb6v79082ENQ2t8WeV9uMVl5+i2+lVpNAKzXVAXDF7lNsmIIfmr7Z9/dOVwiA6e0rRHQTEQ0nosbof99ERP+cwGsgANqw4Yi8Kv/upMSuylVqbQ/xlYPlTs4T1c2qh5OWRq7cz4YpeMRn+31/72QDQRA/66nmrsnyDmzuoSrbz1EdAIevKGLDFDxypf+f9XSFAJje5lH3awS/l8BrIADaUNccvAbnhWXn2TAFf330GuzkVMS6K/KTt/2/K5JsIHhzbTDvdqeSlxbvZsMU/PqaI7afozoAPjBtExum4JV7Knx/73SFAAhOIQDadFd0XVTeYftX5SrN2XgsupNzh+qhpK3Sc9Fd2EMy+UKHv+uikg0ET723nQ1T8Pz8Uu8GB72an1/Khin46fe2236OygDY2h7iK6J1I8vPY7bBLwiA4BQCoE0vJnFVrtLzC3eyYQp+O69Y9VDSViQS4a+NVrODPJlAEA5HeMDwbDZMwUWn6jweIfRkz8laNkzBN45abfvuvcoAWFAq60begrqRvkIAVO9fiegVIlpORFujx3Ii+hvJHb26QwC0aUH0qlxVXbdE3YaenFp4dt4ONkzB72w45uv7JhMIDlc2sGEKvnZYFneEUDdSlbaOMF81JLEe5CoD4Kz1JWyYgp9bUOjr+6Y7BEC1biGi80R0iuR6vInRYx4RlRNRDXXfIk4nCIA2HaioZ8MUfP3wbA6F9b7KPV3XwoYp+PJBGUobwwPzTEUnx2QCwaJtJ9gwBf/8na0ejw768tjMfDZMwYsLTth6vMoA+NyCQjZMwbPWl/j6vukOAVCtbUQ0m4g+183XPhf92lZfR5Q4BECbQnHTY/sr9J4ey9gnm8r/6K2NqoeS9qzpsZvH+Ds9lkwg+OsSte3roNOrWYfYMAX/18d7bD1eVQCMRCJ8y1jZvq6gtMa39wUEQNVa6dKuHPGuiT5GZwiACfjFu9sCsUB+zCpZAHrI8n2qh5L24svxlFX7VxA6mUBgFYDODchGp1SWc/AMG6bgu17Ls/V4VQHwVK2cbbhiEApA+w0BUK1SInq6l68/TURl/gwlaQiACbBKZCTapslvVgHiZTvLVQ8FmPknCr4fiQaC6sYLscfXNbf7MELoTXxB7urGC30+XlUAXBltN/kA2k36DgFQrReI6AIRvUWy/ds3o8eD0T9rIaLnlY3OHgTABGwuPseGKfhbE9apHkqPWttD3H9wpu93nKBnY4W8IzvoU//uyCYaCNYckHec7pmy3ofRgR33TFnPhil49f7KPh+rKgAOQwFoZRAA1Xuc5FrADiKKRI+O6J/9TOG47EIATEDThQ6+PFrv6nRdi+rhdGvrsWqUZNBMVpFck3nvGxt8e89EA8GETLnmzPxkrw+jAzsGLtvLhil4fMbBPh+rKgDe+8YGNkzBmftO+/aeICEA6uPzRPR/osfnFY8lEQiACfrx1I1aV7y3+ha/sGin6qFAVFVDKxum4H4DBde1+DO9mmggsHadLtlx0ofRgR1LC8vZMAU/MmNLn49VEQBrm9u430D5nudsTFODuxAAwSkEwASN+Exdf1c7rI0qCzTfqJJu7piYy4YpeP2Rs768XyKBoLU9xP2jdedKztqrOwfei3WSGZzZ5wYLFQFwbXTZwF2T83x5P7gYAqB6PRWCfoVQCDolWYuefzxVvxIr7aEwXzssiw1T8KFKfE91YvV3fS3bnxIriQQCa9mA36VqoHeRSIRvHrPGVokVFQFwfMZBNkzBA5dh2YAKCIBqoRB0GrKKLF82UHBDq167JXdHW0h9deRqDmterDrdLC6QRZYfndn3dJ4bEgkE1u52LBvQj1Vkua+WjioC4EPTUW1AJQRAtVAIOk3dOUlO5+Ue0qte2jsbjrFhCn52XoHqoUAXZdVyOu/KwRnc0uZ9vbREAsHP39kqlw1sLfN8XJCY9zYdZ8MU/NR723t9nN8BsLmtg6+Ibog7WdPs+fvBpRAA1UIh6DRlfiJ3542zsTvPT1bf2dkb0JJJN5FIJNafeXPxOc/fz24guNARius72+D5uCAxB0/Xx/ozt/fSn9nvAGiVxLp9fA6WDSiCAKgWCkGnqeW7TrFhCr5/qj7FT8PhCH915Go2TMG7T9aqHg5040Uf1wHaDQSdrerW4ESuoXA4wjeNkj/XhWU9rwP0OwBOWXOEDVPwnz/Suyh+KkMAVAuFoNPUmfrW2DpAv8p69OVQpbxTcM3Q3u8UgDpLCk6yYQr+qY2yHk7ZDQTT1sn1f39YWOj5mCA5v/9ArgOctu5oj4/xOwA+MVsuG/gAywaUQQBUD4Wg09Rd0b6paw6cUT0UZmaeu1muFXpyzjbVQ4EenKhujq0D9PokbTcQPDknGP2t09n8/FI2TMH/OWdrj4/xMwDGlw3CsgF1EAD1gULQaWbQp/vYMAWPWnlA9VCYmfk38+X6v+m5ve8WBHUikQjfHl0HuOmot+sA7QSC9v+/vTsPk6Ou8zj+EXdRn1XX3ZXVB1w7XJFT8UEgBEE8d3FdFl0P1hWRdT0Q5FnWdTsJSUgktxzKFVEgyH2IhFA5J5MEcpNAEiZ3JpP7vmeSzNXdv/3j19XpTObqqaur6/16nnqS6Zmu/laqM/2pX/2OTNacM9BOG7R6Bx/k5WrtznqTSjum9x2TTFNr+wOIwgyAbv8/VhuKFgEQXhEAe8idD/Ca30Q/H2BrJmsuGDzFpNKOWUr/v7Lmzgc4ZsqqQF+nO4Fg8cb9JpV2zKd/NY1pg8qYnQ+wyqTSjlmwfm+7PxNmABw92S4bePvzSwJ9HXSOAAivCIA9tLu+qbC814EjzZHW8vYm+0F+4Z1TTIYP8rL2wqLN3V7ey4vuBIL788sG/vQp+v+Vu1ueecuk0o65r2pNu98PMwBe+8Bsk0o75qXFzP8XJQJgeZsuqS7qIrpAAPTgi/fMMqm0YybX7Ii0Drcj/4+fXBRpHeja5n22H+CZ/ScGOpF4dwKBu/7vMws2BVYH/PH0go0mlXbMt383r93vhxUADx5pMafn1//dfvBoYK+DrhEAy9stku6MuoguEAA9GDS+xqTSjhn4Sk2kdbgj8lj/Nx7cicSnLg/uwqGrQFDf2MJEvjGyfndDYV3g9s5nWAFwcs0Ok0o75gus/xs5AiC8IgB6MH2lXQz9s6OrI+sMfbQ5Y84eYEfkrd/dEEkNKI174XDHK+8E9hpdBYJpK+x79+pfzwysBvgnl8uZK0ZVm1TaMdWrTpx5IKwA6L53B42P9qIXBMBy8D5Jn5V0Xjvfe686nyi6HBAAPTjc1FoIX3V7DkdSw+trdptU2jF9mJE/Nqry4evK0TMCe42uAgEf5PEzID/zwOB2zllYAdCd/irqbi8gAEatt+xKHzlJWUmvy04D4/pI/vFyRgD06Lt/sLdfx82pi+T1h05YYVJpx/zypaWRvD5Kd7ip1Zw1wN5+3RDQhUNXgeDqMpvHEl2butzefr1qzIkXDmEEwA17Dhf6rx4KsP8quocAGK1XJDmSPizprPzf6yR9PP99AmACPPJ6rUmlHXPj450v1h6UqwtX5NsjeX30zHcemRfoBMydBQJ3IMoZAQ9Egb8amloL/TbbXjiEEQAfz082f/0jHU9IjfAQAKO1S9KFRV+/S9JYSZsknSECYCKs3mEnaf3EwEmmsaX9SVqDUpe/Ij9rwETT0BT88k/wz8Mz7YXDf457M5D9dxYInpxvR5R+c2zwS9LBX+6FwxNzNxz3eBgB8IbHFppU2jGPvF4byP5RGgJgtOolndvO4w9K2iLpShEAK14ulzOXDberO7y+Zneor/3o7Loul4hCeVq+7WBh7eYgLhw6CwTfz3+Qj53FB3ncuBcON7W5cAg6AB5pbi0s/7Z2J6vGlAMCYLTelHRDB997UNIBEQAT4f9eWtZh5+wgueu4/uGN9aG+LrzL5XKmT35ZuPZGdXrVUSBoKBq4xDqu8bNi26HCHYejzccuHIIOgO7ApStGRTfjAY5HAIxWf0mTOvn+w7IDRMoZAdAH7i/Hy0MciVs8kKCW6V9iyR2J2+/lZb7vu6NAMOmd7SaVdsznxszggzyGcrmc6TvSTgczpWgeyaADoLv2edRznuIYAiC8IgD6oLElY84dNNmk0o55Z8vBUF5zcs32wohAPsjj6Y21dgqfi++q8n0t3o4Cwf+8sNSk0o6567UVvr4ewjNkwnK7Fu8Lx9biDTIAZrPHurnMWLXL132j5wiA8IoA6JOfPrXYpNKOuXvq6lBe77bn3uaDPOaaW7PmgjunmFTaMYs37vd13+0Fgkw2Zy4aOtWk0o6Zv36vr6+H8Mxfv9ek0o755JCppiWTNcYEGwAXb7RrjZ8/eEroA93QMQIgvCIA+uSVt7eaVNoxX753VuCv1diSMecPtsHhrU3+BgeE6+fP2iA/YtJKX/fbXiBYWLevEBxa88EB8ZPJ5synfzXNpNKOmbtujzEm2AB412t2rtHbnnvb1/3CGwIgvCIA+uTgkWNrqwa9Ksi0CPocIhivLdtmUmnHfP7XM309l+0FArfPYfGtQ8TTL19aetzAs6ACYHGfQ1b/KC8EQHhFAPTR9x61o3Ifmrku0Nf57+eXmFTaMUMncPs37hqaWk3v/PQaNVv96z/aNhC0ZrLm4rtsq9GM1fTjijt3HfLLhk832WwusAC4dPMBk0o75txBwUxXhJ4jAMIrAqCPnlu4qXAbOKiWuabWjLlgsNtvbF8gr4Fw/ezpt0wq7Zhhjn+Bvm0gcAecXDT0WL8xxFdjS6bQf3Re7d7AAuCISStNKu2YW555y7d9wh8EQHhFAPTRwaMthclSl28LZjSwe/vXvfJH/LlrvF46vMpkfDqnbQOBe8twwJ/f8WX/iF6/l5cV1gEPIgBmszlzxSh7+9dZxlKT5YYACK8IgD67+enFvrfmFPvJk4sZ/Vthmloz5sJ8a47bqd+r4kCw/0hTobWI0b+VY0F+NPAFg6eYfYebfA+A82qP7Z/bv+WHAAivCIA+c1tzLhnmX2uOa//h5sLkzyu3c84qSXFrjh+KA+D4JVsLLYy0GleObPbYAI0/vbXZ9wD4ixdtq3H6T/5PVA7vCIDwigDos+bWrPlUfq61N9b6uzbwE3M3mFTaMV/97Ru+7hfRm1/UmuPHB3hxAHQHJ42ctMqHSlFOxkxZZVJpx9yYX9/ZrwB4pLnVnJef3P7NDfQ1LkcEQHhFAAzAHa/YZZNufnqxb/vM5XLmq799w6TSjnl8Tp1v+0V5yGZz5qoxM0wq7ZjnFm7yvL/6xpZCIHC3DQFPT4TwrdvVYFJpx/QqOs8zVu3yfPfhhTc3s9JQmSMAwisCYABW7bALtp/Rf6LZcbDRl30u3mgn8e19xySz/3CzL/tEefndrFqTSjvma/fP9rSfyTXbzaXDq44Lf2cPmGQm19CRvxJ96Z5ZJ4T9PiOm9/h8F19sjp1V63O18AsBEF4RAAMjqmkQAAANZ0lEQVTyrbHzTCrtmHunrfFlf7fmV4zwq48Yys/ehiZz9gA7inzp5gM92sfkmu3HtQYVb73SDiGwwrhrgrd3rnt6vt2l37jYLG8EQHhFAAzIq0vtCg+fGVbleQTdrkONhVVG/JwsGOXHneT71mdLX3Yrk82ZPiOmtxsI3FDQZ8R03wcnIRpBnW93ecJfvMjFZjkjAMIrAmBAmluz5vL8L+cn52/0tK9hjl2L85tj5/pUHcrVim22+8Dp/Urvs+dO29HVNq+WqWAqQRDne8Oew+YMLjZjgQAIrwiAARo3p86k0o7pO7K6x6sv7GloMp8YaG8LzmQJr0S48XE7orPfy6VN2uxO99LVNn7J1oAqR5iCON/uhOE3Pr4wwMrhBwIgvCIABqixJVNYf/XZHo7sHDHRLsV07QOzGY2XEAvr7ICfswZMLKkVkBbAZPH7fG/ed6TQ1WTxxv0BVw+vCIDwigAYsD+8sd6k0o65+K5ppr6xpaTnbtx7uLC0XPWqnQFViHL0/fy8bj95svtTCdEHMFnc893ZoJ9Szre7ytD3Hl0QcOXwAwEQXhEAA9bcmjWf//VMk0o7ZsTElSU994dPvFn4hUzrX7Ks2VlvTu9nP8jn1nZ/ebiXFm3uMAwwCrjyuKO+2wuBpZzv2Wv3mFTaTl21ekd9wFXDDwRAeEUADEH1qp2FX67dvbUyIT+K+Mz+E826XQ0BV4hy5E4o3ndkdbdbj2/PjyJ2O/K7m5d54VDeJtdsb7fl99u/m9et59c3tpgrR9tJyO98dXnA1cIvBMDk6iXpMUkbJDVKWi9pqKSTS9wPATAktz1np1b47Ohqc6iLD/MNew6b8wdPMam0Y+6eujqkClFu6htbzBWj7Fqvtz+/pMtWYHfqodP7OWbRhn1mXu1eM37JVjOvdi+3fStcJpsrnO9xc+oKLYJ/fntLp8/L5XKFOUb7jqw2B4+W1k0F0SEAJtc/SRon6SuSzpB0raRdku4ucT8EwJAcKvow//ffz+9wbsC9DU3mi/mZ/b81dp5p7eHoYVSGhXX7CreC75++tsOfW7B+b2G0+JgprPmbdPdVrTGptJ3MeWFdx2v53j99bcl3J1AeCIAo9ktJdSU+hwAYopqtBwsLrP/bw3PNtgNHj/v+mp315vN3zyzcstt+8GgHe0KSuNMJpdKOGTJh+XEXD7lczry6dJs5Z6B9X9007k1a+2BaM1lz0zjbh/icgZPNq0u3HdeC3NiSMUMnrCi8r8axvnjsEABRbJikxSU+hwAYsgXr95oL7rS3d88dNNn84sWl5oHqteZnz7xV6LfVZ8R0U7ubfn845qGZ6wof1n1HVpvhE1eae6etMV9/aE7h8RseW+h51RlUjqPNmcJo8lTaMd94eK65r2qNGeasMH1HVhcef2jmuqhLRQ8QAOE6S9IhST/q4ufeI/tmcbfTRAAM3bpdDeYbD89td7Tmf/1xkdld3xR1iShDU5fvMJ8ZVnXCe+bsOyaZe6auprsATtCayZp7pq0prDFdvF06vMpMWb4j6hLRQwTAyjNK9oR2tp3T5jmnSaqV9Gg39j+kvX0SAMOXy9lO26MmrzL/++JSc8/U1eadLSy9hM41tmTMK29vNYPG15h+Ly8zj82uMzsONkZdFsrczkON5tHZdSb9p2Vm8PgaM37JVnOkuTXqsuABAbDynCIb8Drbikf6nippraQnJZ3Ujf3TAggAQMwRAJPtNNnw95ykd/dwH/QBBAAgZgiAyXWapHWSpuf//tGirRQEQAAAYoYAmFw/UMd9BEtBAAQAIGYIgPCKAAgAQMwQAOEVARAAgJghAMIrAiAAADFDAIRXBEAAAGKGAAivCIAAAMQMARBeEQABAIgZAiC8IgACABAzBEB4RQAEACBmCIDwigAIAEDMEADhFQEQAICYIQDCKwIgAAAxQwCEVwRAAABihgAIrwiAAADEDAEQXhEAAQCIGQIgvCIAAgAQMwRAeEUABAAgZgiA8IoACABAzBAA4RUBEACAmCEAwisCIAAAMUMAhFcEQAAAYoYACK8IgAAAxAwBEF4RAAEAiBkCILwiAAIAEDMEQHhFAAQAIGYIgPCKAAgAQMwQAOEVARAAgJghAMIrAiAAADFDAIRXBEAAAGKGAAivCIAAAMQMARBeEQABAIgZAiC8IgACABAzBEB4RQAEACBmCIDwigAIAEDMEADhFQEQAICYIQDCKwIgAAAxQwCEVwRAAABihgAIrwiAAADEDAEQXhEAAQCIGQIgvCIAAgAQMwRAeEUABAAgZgiA8IoACABAzBAA4RUBEACAmCEAwisCIAAAMUMAhFcEQAAAYoYACK8IgAAAxAwBEF4RAAEAiBkCILwiAAIAEDMEQHhFAAQAIGYIgPCKAAgAQMwQAOEVARAAgJghAMIrAiAAADFDAIRXBEAAAGKGAJhsEyRtltQkaYekpySdWuI+CIAAAMQMATDZbpfUR1JKUl9J8/JbKQiAAADEDAEQxa6VlJP0lyU8hwAIAEDMEADh+ltJL0ia08XPvUf2zeJup0kyW7ZsMYcOHWJjY2NjY2OLwbZlyxYCYMKNlnRE9k0wX9LfdfHzQ/I/y8bGxsbGxhb/rZdQEUap65N9TtHPf1hSb0lflm39myjpXZ3sv90WwPyfH0zQxnFHXwvHzXFz3Bw3x+39uD8oVIRTZANeZ9vJHTz3Y7JvhstLeL0PKplvII47WTjuZOG4k4XjRuJ9XPbNcHUJz0nqG4jjThaOO1k47mThuJEol0m6VdJFstPAfEHSXEm1srd5uyupbyCOO1k47mThuJOF40aiXChphqR9shNBb5A0VrZPQCneIzswpJTQWAk47mThuJOF404WjhsAAAAAAAAAAAAAAAAAAAAAAABA5blF0kbZUcQLJV0aaTXhuErSa5K2yw6fvy7ackLTX9IiSQ2SdksaL+kTkVYUjpslvSOpPr/Nl3RNpBWFr5/se/03URcSgiE6ceWk1VEWFKLTJD0tOzNEo6QaSZ+JtKLgbVT7q2U9FGFNYXi3pLtkZ/9olLRe0iB1vgoYUPAdSc2SbpJ0nqTfSzog6e+jLCoE10gaJunrSlYAnCLpB5LOl/Qp2SUDN0n6qwhrCsO/SPqqpLNll0wcLqlF9t8hCS6R/ZBYpuQEwOWSPlq0fTjKgkLyN7JhaJzshfzpkr4i6cwIawrDKTr+XH9JpS+GEEcDJO2V9M+y6wB/U/bi/rYIa0KMLJT0YNHXJ0naJttakBRJCoBtnSJ7/FdFXUgE9kv6YdRFhOD9ktbKfijOUnIC4NKoi4jAKEmzoy6iDPxGdjGESm8JcyQ91uaxl2VbgIFOnSwpoxPDzx8lvRp+OZFJcgA8S/b4L4i6kBC9W9L1si3f50VcSxj+KOm+/N9nKTkB8IhsF486Sc/ILpFZ6VbKnuuXZLt4LJH0o0grCt/Jsq1iA6IuJAQDZFt8e+e//pSkXZL+I6qCEB+nyn74X97m8TGyLYNJkdQAeJLsFeScqAsJyYWSDste9ByUvSVc6a6X7QP23vzXs5SMAHiNpG9J+qSkf5Q0T7arwweiLCoETflthKRPS/qxbN+wG6MsKmTflv0/fmrUhYTgJNlW35yk1vyf/SOtCLFBALSSGgDHyl49fiziOsJysmyL58WSRkrao8puAfwH2daATxY9NkvJCIBtfUjSIVX+Lf8W2bBb7H7ZQU9JMVV2gF8SXC9pS/7PCyXdIDv4J0mBHz3ELWAriQHwQdlfHKdHXUiEpkt6JOoiAnSd7Hs7U7QZ2VaCjOyt8CRZJBv8K9kmSY+2eexm2X7dSZCSlJX0r1EXEpItsrN4FBuo5Ix4h0cLJT1Q9PVJkraKQSCV6l2y4W+b7IjYJJsh6YmoiwjQB2T7dhZviyQ9pWT1+ZTsQJj9qvzRkc/qxEEg9+nEVsFKNUTSDkl/EXEdYdknG/CL9Zcd9AV06TuyfUZulHSubIvIAUkfibKoELxf0kX5zUi6Pf/3Su8o/rBs/7fP6fhpE94XZVEhGCk70rmX7K2SkbItYV+OsKYozFIybgHfLfse7yWpr6Qq2Vv+p0RYUxguke0LNkC2u8N3ZQfDJGFQwEmyLaCjoi4kRE/INti408B8XfZ9Pjq6khA3t8r+x2mWbRG8LNpyQnG12p849InoSgpFe8dsZOcGrGSPyfZ3bJYdHTldyQt/UnIC4POyI4CbZT8gn1flz4Xn+prswJ8mSauUnFHAX5H9Xda7qx+sIB+Q/f+8Sccmgh4m270LAAAAAAAAAAAAAAAAAAAAAAAAAAAAAAAAAAAAAAAAAAAAAAAAAAAAAAAAQPedKbs+6tckVUs6KmmNkrHeNwAAQCJ9Q1JO0gxJV0s6W1KVpJkR1gQAAIAADZW0X9IpRY/9XNLyaMoBAABA0MZLGtfmsXvzjwMAAKACbZD04zaPzZA0JPxSAAAAELS/lh0Ackmbx/dLui78cgAAABC0KyW1Snpv0WMp2VDYK4qCAAAAEKxbdeJgj+skHYigFgAAAAAAAAAAAAAAAAAAAAAAAAAAAAAAAAAAAAAAAAAAAAAAAAAAAAAAAAAAAAAAAABAGP4fQgDOvogDhrkAAAAASUVORK5CYII=\" width=\"640\">"
      ],
      "text/plain": [
       "<IPython.core.display.HTML object>"
      ]
     },
     "metadata": {},
     "output_type": "display_data"
    },
    {
     "data": {
      "application/vnd.jupyter.widget-view+json": {
       "model_id": "b8cb73c02f6b4882bc8a8c72030897a0",
       "version_major": 2,
       "version_minor": 0
      },
      "text/plain": [
       "interactive(children=(FloatSlider(value=1.0, description='A', max=3.0), FloatSlider(value=0.125, description='…"
      ]
     },
     "metadata": {},
     "output_type": "display_data"
    }
   ],
   "source": [
    "N = 8 # number of samples to plot\n",
    "\n",
    "# set the plot\n",
    "fig, ax = plt.subplots(1)\n",
    "ax.set_xlim([0,8])\n",
    "ax.set_ylim([-3,3])\n",
    "\n",
    "# plot some initial cosine\n",
    "# just to get the handles to the plots\n",
    "x, cos_x = get_cont_cos(1, 1/8.0, 0, N)\n",
    "n, cos_n = get_disc_cos(1, 1/8.0, 0, N)\n",
    "cont_cos_plot, = ax.plot(x, cos_x)\n",
    "ml, sl, bl = ax.stem(n, cos_n)\n",
    "\n",
    "# wrapper for interactive mode\n",
    "def plot_cos(A = 1, f = 1/8.0, phi = 0):\n",
    "    x, cos_x = get_cont_cos(A, f, phi, N)\n",
    "    n, cos_n = get_disc_cos(A, f, phi, N)\n",
    "    \n",
    "    # plot the continuous cosine\n",
    "    cont_cos_plot.set_data(x, cos_x)\n",
    "    \n",
    "    # plot the discrete cosine\n",
    "    # (clumsy but fast way to do so by\n",
    "    # setting the position of markerline\n",
    "    # and stemlines in the stem plot)\n",
    "    ml.set_data(n, cos_n)\n",
    "    for i_l, l in enumerate(sl):\n",
    "        l.set_data(np.stack((n,n)).T[i_l], \n",
    "                   np.stack((np.zeros((N,)), cos_n)).T[i_l])\n",
    "    \n",
    "    ax.set_xlabel('$n$')\n",
    "    ax.set_ylabel('${0:.2f}\\ cos(2\\pi\\cdot{1:.2f}\\cdot n\\ {2:+.2f})$'.format(A,f,phi))\n",
    "    \n",
    "    plt.draw()\n",
    "\n",
    "interact(plot_cos, \n",
    "                 A = (0,3,0.1), \n",
    "                 f = (0,8/8,1/32), \n",
    "                 phi = (-pi, pi, pi/8))\n",
    "\n",
    "plt.show()"
   ]
  },
  {
   "cell_type": "code",
   "execution_count": null,
   "metadata": {},
   "outputs": [],
   "source": []
  }
 ],
 "metadata": {
  "kernelspec": {
   "display_name": "Python 3",
   "language": "python",
   "name": "python3"
  },
  "language_info": {
   "codemirror_mode": {
    "name": "ipython",
    "version": 3
   },
   "file_extension": ".py",
   "mimetype": "text/x-python",
   "name": "python",
   "nbconvert_exporter": "python",
   "pygments_lexer": "ipython3",
   "version": "3.6.6"
  },
  "widgets": {
   "application/vnd.jupyter.widget-state+json": {
    "state": {
     "08131c29fb174210b93e1d84a741ce7a": {
      "model_module": "@jupyter-widgets/base",
      "model_module_version": "1.1.0",
      "model_name": "LayoutModel",
      "state": {}
     },
     "0c279f25d8294f3bb1db4037a7fc61ce": {
      "model_module": "@jupyter-widgets/controls",
      "model_module_version": "1.4.0",
      "model_name": "SliderStyleModel",
      "state": {
       "description_width": ""
      }
     },
     "0d25acc5c7154151ac13a06104ec9e02": {
      "model_module": "@jupyter-widgets/controls",
      "model_module_version": "1.4.0",
      "model_name": "FloatSliderModel",
      "state": {
       "description": "A",
       "layout": "IPY_MODEL_b6bffa87bc0d46608082b9fb78169f9f",
       "max": 3,
       "step": 0.1,
       "style": "IPY_MODEL_7d9311fb40234ab4accae51108133123",
       "value": 1.7
      }
     },
     "10ad46cb646c489b8a4742ad849c0414": {
      "model_module": "@jupyter-widgets/base",
      "model_module_version": "1.1.0",
      "model_name": "LayoutModel",
      "state": {}
     },
     "11465aeca17f4759b4ec98ab59dd3051": {
      "model_module": "@jupyter-widgets/controls",
      "model_module_version": "1.4.0",
      "model_name": "VBoxModel",
      "state": {
       "_dom_classes": [
        "widget-interact"
       ],
       "children": [
        "IPY_MODEL_0d25acc5c7154151ac13a06104ec9e02",
        "IPY_MODEL_a72f7cc35e4e412c8891190a7b3246a2",
        "IPY_MODEL_b92c8c37309943c5ab1d635d79ef2b70",
        "IPY_MODEL_bf85ad92b9584f5ea2ad6f4f7cb10f31"
       ],
       "layout": "IPY_MODEL_e582f68f177344beae34c9b047df0458"
      }
     },
     "133e4e7677844cb9bdf29ea70936b828": {
      "model_module": "@jupyter-widgets/base",
      "model_module_version": "1.1.0",
      "model_name": "LayoutModel",
      "state": {}
     },
     "17d5efd7d2b549ca8a6a7f0765c4691e": {
      "model_module": "@jupyter-widgets/controls",
      "model_module_version": "1.4.0",
      "model_name": "SliderStyleModel",
      "state": {
       "description_width": ""
      }
     },
     "1b02812f84a246d38ab1c924476563cc": {
      "model_module": "@jupyter-widgets/base",
      "model_module_version": "1.1.0",
      "model_name": "LayoutModel",
      "state": {}
     },
     "1ee55294102644eb861ac390197a5bef": {
      "model_module": "@jupyter-widgets/base",
      "model_module_version": "1.1.0",
      "model_name": "LayoutModel",
      "state": {}
     },
     "259c93af4ae145e7ac4e7a794bcf608b": {
      "model_module": "@jupyter-widgets/controls",
      "model_module_version": "1.4.0",
      "model_name": "SliderStyleModel",
      "state": {
       "description_width": ""
      }
     },
     "25a57e310a944d62ae8f429ec0b56db9": {
      "model_module": "@jupyter-widgets/output",
      "model_module_version": "1.0.0",
      "model_name": "OutputModel",
      "state": {
       "layout": "IPY_MODEL_3ad3b23a09d14e0da0bcec770f5f1e08"
      }
     },
     "28e8c2f896cd4f2cbfcfbed405569371": {
      "model_module": "@jupyter-widgets/controls",
      "model_module_version": "1.4.0",
      "model_name": "FloatSliderModel",
      "state": {
       "description": "phi",
       "layout": "IPY_MODEL_787352d549e447ffb4f84ee7f733660c",
       "max": 3.141592653589793,
       "min": -3.141592653589793,
       "step": 0.39269908169872414,
       "style": "IPY_MODEL_0c279f25d8294f3bb1db4037a7fc61ce"
      }
     },
     "2bfdba4e98a44ae6a6e13a3b3c995960": {
      "model_module": "@jupyter-widgets/controls",
      "model_module_version": "1.4.0",
      "model_name": "FloatSliderModel",
      "state": {
       "description": "f",
       "layout": "IPY_MODEL_d9c1cfcc60414472a01e418e4c31ee9f",
       "max": 1,
       "step": 0.03125,
       "style": "IPY_MODEL_556a6f0286274a118f86024ad3f60922",
       "value": 0.4375
      }
     },
     "2ec636253e934e12b7ce94af1fd5b3cf": {
      "model_module": "@jupyter-widgets/controls",
      "model_module_version": "1.4.0",
      "model_name": "FloatSliderModel",
      "state": {
       "description": "A",
       "layout": "IPY_MODEL_894c4923f48f40158557abf1225becdd",
       "max": 3,
       "step": 0.1,
       "style": "IPY_MODEL_f28c1e87cfce42d39a0f4cb47745c5a5",
       "value": 2
      }
     },
     "30d71c215ef4476b8fa33896c989b164": {
      "model_module": "@jupyter-widgets/controls",
      "model_module_version": "1.4.0",
      "model_name": "SliderStyleModel",
      "state": {
       "description_width": ""
      }
     },
     "34675860a85e4a7c8c260793ca7f9848": {
      "model_module": "@jupyter-widgets/base",
      "model_module_version": "1.1.0",
      "model_name": "LayoutModel",
      "state": {}
     },
     "378d2691cc3041628883dfb74382a97e": {
      "model_module": "@jupyter-widgets/controls",
      "model_module_version": "1.4.0",
      "model_name": "FloatSliderModel",
      "state": {
       "description": "phi",
       "layout": "IPY_MODEL_1b02812f84a246d38ab1c924476563cc",
       "max": 3.141592653589793,
       "min": -3.141592653589793,
       "step": 0.39269908169872414,
       "style": "IPY_MODEL_50ddbf77148d45c389f842060863aee0"
      }
     },
     "388aa9a91a254f6aa3790ed747120c9a": {
      "model_module": "@jupyter-widgets/base",
      "model_module_version": "1.1.0",
      "model_name": "LayoutModel",
      "state": {}
     },
     "3ad3b23a09d14e0da0bcec770f5f1e08": {
      "model_module": "@jupyter-widgets/base",
      "model_module_version": "1.1.0",
      "model_name": "LayoutModel",
      "state": {}
     },
     "441adb58a88b4c58bef73e8da3e8a5e2": {
      "model_module": "@jupyter-widgets/base",
      "model_module_version": "1.1.0",
      "model_name": "LayoutModel",
      "state": {}
     },
     "466d140b9be14cd5b91b57406cba6d6b": {
      "model_module": "@jupyter-widgets/controls",
      "model_module_version": "1.4.0",
      "model_name": "FloatSliderModel",
      "state": {
       "description": "f",
       "layout": "IPY_MODEL_08131c29fb174210b93e1d84a741ce7a",
       "max": 1,
       "step": 0.03125,
       "style": "IPY_MODEL_7b44684d01464d2cbfcf28fce2f7759b",
       "value": 0.125
      }
     },
     "47eb4307a63a4e739572076151410e46": {
      "model_module": "@jupyter-widgets/output",
      "model_module_version": "1.0.0",
      "model_name": "OutputModel",
      "state": {
       "layout": "IPY_MODEL_7676a6c137e048d1980a919122b54571"
      }
     },
     "481c98fce62548b7a3718bb4fd66dd3b": {
      "model_module": "@jupyter-widgets/controls",
      "model_module_version": "1.4.0",
      "model_name": "FloatSliderModel",
      "state": {
       "description": "phi",
       "layout": "IPY_MODEL_9b5cbb354e9540dcba2ab8c069caab03",
       "max": 3.141592653589793,
       "min": -3.141592653589793,
       "step": 0.39269908169872414,
       "style": "IPY_MODEL_9f4e24bbfdd940a8b9e0274c6d42a13d"
      }
     },
     "49969bb4a399455297757e2aa0c0555d": {
      "model_module": "@jupyter-widgets/output",
      "model_module_version": "1.0.0",
      "model_name": "OutputModel",
      "state": {
       "layout": "IPY_MODEL_b142f2a27c474433b1fbc50579d7168d"
      }
     },
     "4ba726c7c06c43639af72f1771e25ca7": {
      "model_module": "@jupyter-widgets/controls",
      "model_module_version": "1.4.0",
      "model_name": "VBoxModel",
      "state": {
       "_dom_classes": [
        "widget-interact"
       ],
       "children": [
        "IPY_MODEL_2ec636253e934e12b7ce94af1fd5b3cf",
        "IPY_MODEL_466d140b9be14cd5b91b57406cba6d6b",
        "IPY_MODEL_378d2691cc3041628883dfb74382a97e",
        "IPY_MODEL_49969bb4a399455297757e2aa0c0555d"
       ],
       "layout": "IPY_MODEL_79a0d6e6e2294bbcb7c8a29e0e92fa1a"
      }
     },
     "50441b9cb7b749eea75ef32bdaad81fa": {
      "model_module": "@jupyter-widgets/controls",
      "model_module_version": "1.4.0",
      "model_name": "SliderStyleModel",
      "state": {
       "description_width": ""
      }
     },
     "50ddbf77148d45c389f842060863aee0": {
      "model_module": "@jupyter-widgets/controls",
      "model_module_version": "1.4.0",
      "model_name": "SliderStyleModel",
      "state": {
       "description_width": ""
      }
     },
     "556a6f0286274a118f86024ad3f60922": {
      "model_module": "@jupyter-widgets/controls",
      "model_module_version": "1.4.0",
      "model_name": "SliderStyleModel",
      "state": {
       "description_width": ""
      }
     },
     "68d7d3d26ef045d8bdf7521d2e056573": {
      "model_module": "@jupyter-widgets/controls",
      "model_module_version": "1.4.0",
      "model_name": "FloatSliderModel",
      "state": {
       "description": "f",
       "layout": "IPY_MODEL_ae9b0a791d2b48908148e18b1ae44c9d",
       "max": 1,
       "step": 0.03125,
       "style": "IPY_MODEL_c13cf906d163481996ca7923f5c4138c",
       "value": 0.125
      }
     },
     "691e427090b14d3791048593f0cdcf46": {
      "model_module": "@jupyter-widgets/controls",
      "model_module_version": "1.4.0",
      "model_name": "SliderStyleModel",
      "state": {
       "description_width": ""
      }
     },
     "6bb9c2846a414120a020e61e3e8adced": {
      "model_module": "@jupyter-widgets/base",
      "model_module_version": "1.1.0",
      "model_name": "LayoutModel",
      "state": {}
     },
     "7284a9285a1049669507957293f5f95b": {
      "model_module": "@jupyter-widgets/controls",
      "model_module_version": "1.4.0",
      "model_name": "SliderStyleModel",
      "state": {
       "description_width": ""
      }
     },
     "75f6bb0c621f4e778b46667f12dcd4ef": {
      "model_module": "@jupyter-widgets/controls",
      "model_module_version": "1.4.0",
      "model_name": "FloatSliderModel",
      "state": {
       "description": "phi",
       "layout": "IPY_MODEL_441adb58a88b4c58bef73e8da3e8a5e2",
       "max": 3.141592653589793,
       "min": -3.141592653589793,
       "step": 0.39269908169872414,
       "style": "IPY_MODEL_da8a2f3b871948c987e77b46706645f7",
       "value": -1.1781
      }
     },
     "7676a6c137e048d1980a919122b54571": {
      "model_module": "@jupyter-widgets/base",
      "model_module_version": "1.1.0",
      "model_name": "LayoutModel",
      "state": {}
     },
     "787352d549e447ffb4f84ee7f733660c": {
      "model_module": "@jupyter-widgets/base",
      "model_module_version": "1.1.0",
      "model_name": "LayoutModel",
      "state": {}
     },
     "79a0d6e6e2294bbcb7c8a29e0e92fa1a": {
      "model_module": "@jupyter-widgets/base",
      "model_module_version": "1.1.0",
      "model_name": "LayoutModel",
      "state": {}
     },
     "7b44684d01464d2cbfcf28fce2f7759b": {
      "model_module": "@jupyter-widgets/controls",
      "model_module_version": "1.4.0",
      "model_name": "SliderStyleModel",
      "state": {
       "description_width": ""
      }
     },
     "7c6664ed5028481a8e9747bc4b346aeb": {
      "model_module": "@jupyter-widgets/output",
      "model_module_version": "1.0.0",
      "model_name": "OutputModel",
      "state": {
       "layout": "IPY_MODEL_10ad46cb646c489b8a4742ad849c0414",
       "outputs": [
        {
         "data": {
          "text/plain": "<matplotlib.figure.Figure at 0x7fef217bebe0>"
         },
         "metadata": {},
         "output_type": "display_data"
        }
       ]
      }
     },
     "7d9311fb40234ab4accae51108133123": {
      "model_module": "@jupyter-widgets/controls",
      "model_module_version": "1.4.0",
      "model_name": "SliderStyleModel",
      "state": {
       "description_width": ""
      }
     },
     "852af83db270458eba77fece88a675ef": {
      "model_module": "@jupyter-widgets/base",
      "model_module_version": "1.1.0",
      "model_name": "LayoutModel",
      "state": {}
     },
     "894c4923f48f40158557abf1225becdd": {
      "model_module": "@jupyter-widgets/base",
      "model_module_version": "1.1.0",
      "model_name": "LayoutModel",
      "state": {}
     },
     "8ca212dc05b440ce817cf3c30a0c66bd": {
      "model_module": "@jupyter-widgets/base",
      "model_module_version": "1.1.0",
      "model_name": "LayoutModel",
      "state": {}
     },
     "929695e29b00472f943ea3fed44f4b7e": {
      "model_module": "@jupyter-widgets/controls",
      "model_module_version": "1.4.0",
      "model_name": "FloatSliderModel",
      "state": {
       "description": "A",
       "layout": "IPY_MODEL_994ab115110e4e1aa360dad81dcb3aea",
       "max": 3,
       "step": 0.1,
       "style": "IPY_MODEL_691e427090b14d3791048593f0cdcf46",
       "value": 2
      }
     },
     "994ab115110e4e1aa360dad81dcb3aea": {
      "model_module": "@jupyter-widgets/base",
      "model_module_version": "1.1.0",
      "model_name": "LayoutModel",
      "state": {}
     },
     "9b066c5c92724dbebf6758a271693a7b": {
      "model_module": "@jupyter-widgets/controls",
      "model_module_version": "1.4.0",
      "model_name": "VBoxModel",
      "state": {
       "_dom_classes": [
        "widget-interact"
       ],
       "children": [
        "IPY_MODEL_ecb13b5310c54f4486d07872d4e169f8",
        "IPY_MODEL_68d7d3d26ef045d8bdf7521d2e056573",
        "IPY_MODEL_481c98fce62548b7a3718bb4fd66dd3b",
        "IPY_MODEL_7c6664ed5028481a8e9747bc4b346aeb"
       ],
       "layout": "IPY_MODEL_ddbbbb61e7524587b7d0c9c52c249a69"
      }
     },
     "9b5cbb354e9540dcba2ab8c069caab03": {
      "model_module": "@jupyter-widgets/base",
      "model_module_version": "1.1.0",
      "model_name": "LayoutModel",
      "state": {}
     },
     "9c2e169838a64e8298956df30ba69dcd": {
      "model_module": "@jupyter-widgets/base",
      "model_module_version": "1.1.0",
      "model_name": "LayoutModel",
      "state": {}
     },
     "9f4e24bbfdd940a8b9e0274c6d42a13d": {
      "model_module": "@jupyter-widgets/controls",
      "model_module_version": "1.4.0",
      "model_name": "SliderStyleModel",
      "state": {
       "description_width": ""
      }
     },
     "a64b56cba7d04c279d85bfee728f7deb": {
      "model_module": "@jupyter-widgets/controls",
      "model_module_version": "1.4.0",
      "model_name": "SliderStyleModel",
      "state": {
       "description_width": ""
      }
     },
     "a72f7cc35e4e412c8891190a7b3246a2": {
      "model_module": "@jupyter-widgets/controls",
      "model_module_version": "1.4.0",
      "model_name": "FloatSliderModel",
      "state": {
       "description": "f",
       "layout": "IPY_MODEL_e5a8c4f22e9b4c5eaa00c06e9d20d0f9",
       "max": 1,
       "step": 0.03125,
       "style": "IPY_MODEL_30d71c215ef4476b8fa33896c989b164",
       "value": 0.125
      }
     },
     "ae9b0a791d2b48908148e18b1ae44c9d": {
      "model_module": "@jupyter-widgets/base",
      "model_module_version": "1.1.0",
      "model_name": "LayoutModel",
      "state": {}
     },
     "b142f2a27c474433b1fbc50579d7168d": {
      "model_module": "@jupyter-widgets/base",
      "model_module_version": "1.1.0",
      "model_name": "LayoutModel",
      "state": {}
     },
     "b2295f3aea5e4394b10c7fc09acb62f8": {
      "model_module": "@jupyter-widgets/base",
      "model_module_version": "1.1.0",
      "model_name": "LayoutModel",
      "state": {}
     },
     "b6a83403e7f648d09cea5aee75e215aa": {
      "model_module": "@jupyter-widgets/controls",
      "model_module_version": "1.4.0",
      "model_name": "FloatSliderModel",
      "state": {
       "description": "phi",
       "layout": "IPY_MODEL_8ca212dc05b440ce817cf3c30a0c66bd",
       "max": 3.141592653589793,
       "min": -3.141592653589793,
       "step": 0.39269908169872414,
       "style": "IPY_MODEL_17d5efd7d2b549ca8a6a7f0765c4691e",
       "value": 0.7854
      }
     },
     "b6bffa87bc0d46608082b9fb78169f9f": {
      "model_module": "@jupyter-widgets/base",
      "model_module_version": "1.1.0",
      "model_name": "LayoutModel",
      "state": {}
     },
     "b7c65b56283440f093f95f32d682a353": {
      "model_module": "@jupyter-widgets/controls",
      "model_module_version": "1.4.0",
      "model_name": "FloatSliderModel",
      "state": {
       "description": "f",
       "layout": "IPY_MODEL_9c2e169838a64e8298956df30ba69dcd",
       "max": 1,
       "step": 0.03125,
       "style": "IPY_MODEL_259c93af4ae145e7ac4e7a794bcf608b",
       "value": 0.1875
      }
     },
     "b8cb73c02f6b4882bc8a8c72030897a0": {
      "model_module": "@jupyter-widgets/controls",
      "model_module_version": "1.4.0",
      "model_name": "VBoxModel",
      "state": {
       "_dom_classes": [
        "widget-interact"
       ],
       "children": [
        "IPY_MODEL_929695e29b00472f943ea3fed44f4b7e",
        "IPY_MODEL_2bfdba4e98a44ae6a6e13a3b3c995960",
        "IPY_MODEL_75f6bb0c621f4e778b46667f12dcd4ef",
        "IPY_MODEL_f42c4083a8754144b0eb2d30f6db5d20"
       ],
       "layout": "IPY_MODEL_34675860a85e4a7c8c260793ca7f9848"
      }
     },
     "b92c8c37309943c5ab1d635d79ef2b70": {
      "model_module": "@jupyter-widgets/controls",
      "model_module_version": "1.4.0",
      "model_name": "FloatSliderModel",
      "state": {
       "description": "phi",
       "layout": "IPY_MODEL_1ee55294102644eb861ac390197a5bef",
       "max": 3.141592653589793,
       "min": -3.141592653589793,
       "step": 0.39269908169872414,
       "style": "IPY_MODEL_50441b9cb7b749eea75ef32bdaad81fa"
      }
     },
     "bf85ad92b9584f5ea2ad6f4f7cb10f31": {
      "model_module": "@jupyter-widgets/output",
      "model_module_version": "1.0.0",
      "model_name": "OutputModel",
      "state": {
       "layout": "IPY_MODEL_852af83db270458eba77fece88a675ef",
       "outputs": [
        {
         "data": {
          "text/plain": "<matplotlib.figure.Figure at 0x7f77d4d7ccc0>"
         },
         "metadata": {},
         "output_type": "display_data"
        }
       ]
      }
     },
     "c0b9106dd21142e0957e37a52730f93b": {
      "model_module": "@jupyter-widgets/controls",
      "model_module_version": "1.4.0",
      "model_name": "FloatSliderModel",
      "state": {
       "description": "f",
       "layout": "IPY_MODEL_b2295f3aea5e4394b10c7fc09acb62f8",
       "max": 1,
       "step": 0.03125,
       "style": "IPY_MODEL_c61869484ae046519a78d1b5eb80fa20",
       "value": 0.125
      }
     },
     "c13cf906d163481996ca7923f5c4138c": {
      "model_module": "@jupyter-widgets/controls",
      "model_module_version": "1.4.0",
      "model_name": "SliderStyleModel",
      "state": {
       "description_width": ""
      }
     },
     "c61869484ae046519a78d1b5eb80fa20": {
      "model_module": "@jupyter-widgets/controls",
      "model_module_version": "1.4.0",
      "model_name": "SliderStyleModel",
      "state": {
       "description_width": ""
      }
     },
     "d4d2969d768f448482cd3a0a14d3801f": {
      "model_module": "@jupyter-widgets/controls",
      "model_module_version": "1.4.0",
      "model_name": "FloatSliderModel",
      "state": {
       "description": "A",
       "layout": "IPY_MODEL_e60bdd1848944712b0d0553d0efbf148",
       "max": 3,
       "step": 0.1,
       "style": "IPY_MODEL_e61041dda071445ebe6bc243d0c10117",
       "value": 1.4
      }
     },
     "d9c1cfcc60414472a01e418e4c31ee9f": {
      "model_module": "@jupyter-widgets/base",
      "model_module_version": "1.1.0",
      "model_name": "LayoutModel",
      "state": {}
     },
     "da8a2f3b871948c987e77b46706645f7": {
      "model_module": "@jupyter-widgets/controls",
      "model_module_version": "1.4.0",
      "model_name": "SliderStyleModel",
      "state": {
       "description_width": ""
      }
     },
     "ddbbbb61e7524587b7d0c9c52c249a69": {
      "model_module": "@jupyter-widgets/base",
      "model_module_version": "1.1.0",
      "model_name": "LayoutModel",
      "state": {}
     },
     "e123064c72b644fe89438d218442fd6a": {
      "model_module": "@jupyter-widgets/controls",
      "model_module_version": "1.4.0",
      "model_name": "VBoxModel",
      "state": {
       "_dom_classes": [
        "widget-interact"
       ],
       "children": [
        "IPY_MODEL_f5590954bfda49da835d08fdf7f4c413",
        "IPY_MODEL_c0b9106dd21142e0957e37a52730f93b",
        "IPY_MODEL_28e8c2f896cd4f2cbfcfbed405569371",
        "IPY_MODEL_47eb4307a63a4e739572076151410e46"
       ],
       "layout": "IPY_MODEL_fc8576f1fa4443b59d87bc150dc5d91f"
      }
     },
     "e582f68f177344beae34c9b047df0458": {
      "model_module": "@jupyter-widgets/base",
      "model_module_version": "1.1.0",
      "model_name": "LayoutModel",
      "state": {}
     },
     "e5a8c4f22e9b4c5eaa00c06e9d20d0f9": {
      "model_module": "@jupyter-widgets/base",
      "model_module_version": "1.1.0",
      "model_name": "LayoutModel",
      "state": {}
     },
     "e60bdd1848944712b0d0553d0efbf148": {
      "model_module": "@jupyter-widgets/base",
      "model_module_version": "1.1.0",
      "model_name": "LayoutModel",
      "state": {}
     },
     "e61041dda071445ebe6bc243d0c10117": {
      "model_module": "@jupyter-widgets/controls",
      "model_module_version": "1.4.0",
      "model_name": "SliderStyleModel",
      "state": {
       "description_width": ""
      }
     },
     "e6bc9659d95c4a81a8ec4458773acff6": {
      "model_module": "@jupyter-widgets/controls",
      "model_module_version": "1.4.0",
      "model_name": "VBoxModel",
      "state": {
       "_dom_classes": [
        "widget-interact"
       ],
       "children": [
        "IPY_MODEL_d4d2969d768f448482cd3a0a14d3801f",
        "IPY_MODEL_b7c65b56283440f093f95f32d682a353",
        "IPY_MODEL_b6a83403e7f648d09cea5aee75e215aa",
        "IPY_MODEL_25a57e310a944d62ae8f429ec0b56db9"
       ],
       "layout": "IPY_MODEL_388aa9a91a254f6aa3790ed747120c9a"
      }
     },
     "ecb13b5310c54f4486d07872d4e169f8": {
      "model_module": "@jupyter-widgets/controls",
      "model_module_version": "1.4.0",
      "model_name": "FloatSliderModel",
      "state": {
       "description": "A",
       "layout": "IPY_MODEL_6bb9c2846a414120a020e61e3e8adced",
       "max": 3,
       "step": 0.1,
       "style": "IPY_MODEL_7284a9285a1049669507957293f5f95b",
       "value": 1.8
      }
     },
     "f28c1e87cfce42d39a0f4cb47745c5a5": {
      "model_module": "@jupyter-widgets/controls",
      "model_module_version": "1.4.0",
      "model_name": "SliderStyleModel",
      "state": {
       "description_width": ""
      }
     },
     "f42c4083a8754144b0eb2d30f6db5d20": {
      "model_module": "@jupyter-widgets/output",
      "model_module_version": "1.0.0",
      "model_name": "OutputModel",
      "state": {
       "layout": "IPY_MODEL_133e4e7677844cb9bdf29ea70936b828"
      }
     },
     "f5590954bfda49da835d08fdf7f4c413": {
      "model_module": "@jupyter-widgets/controls",
      "model_module_version": "1.4.0",
      "model_name": "FloatSliderModel",
      "state": {
       "description": "A",
       "layout": "IPY_MODEL_fc45d13d39df4ad0b08b0e9c68b92013",
       "max": 3,
       "step": 0.1,
       "style": "IPY_MODEL_a64b56cba7d04c279d85bfee728f7deb",
       "value": 1
      }
     },
     "fc45d13d39df4ad0b08b0e9c68b92013": {
      "model_module": "@jupyter-widgets/base",
      "model_module_version": "1.1.0",
      "model_name": "LayoutModel",
      "state": {}
     },
     "fc8576f1fa4443b59d87bc150dc5d91f": {
      "model_module": "@jupyter-widgets/base",
      "model_module_version": "1.1.0",
      "model_name": "LayoutModel",
      "state": {}
     }
    },
    "version_major": 2,
    "version_minor": 0
   }
  }
 },
 "nbformat": 4,
 "nbformat_minor": 2
}
