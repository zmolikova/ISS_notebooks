{
 "cells": [
  {
   "cell_type": "markdown",
   "metadata": {},
   "source": [
    "Do `Kernel -> Restart & Run All` in top menu to run the notebook and enable the interactive widgets"
   ]
  },
  {
   "cell_type": "code",
   "execution_count": 1,
   "metadata": {},
   "outputs": [],
   "source": [
    "%matplotlib notebook"
   ]
  },
  {
   "cell_type": "code",
   "execution_count": 2,
   "metadata": {},
   "outputs": [],
   "source": [
    "import numpy as np\n",
    "import matplotlib.pyplot as plt\n",
    "from numpy import pi as pi\n",
    "\n",
    "from IPython.display import display\n",
    "from ipywidgets import interact"
   ]
  },
  {
   "cell_type": "code",
   "execution_count": 3,
   "metadata": {},
   "outputs": [],
   "source": [
    "def get_disc_cos(A, f, phi, N):\n",
    "    \"\"\"Create N samples of discrete cosine function.\n",
    "\n",
    "    A: amplitude\n",
    "    f: frequency\n",
    "    phi: initial phase\n",
    "    N: number of samples to compute\n",
    "    \"\"\"\n",
    "    n = np.arange(N)\n",
    "    cos_n = A * np.cos(2 * np.pi * f * n + phi)\n",
    "    return n, cos_n\n",
    "\n",
    "def get_cont_cos(A, f, phi, N, n_points = 1000):\n",
    "    \"\"\"Create a continuous cosine function \n",
    "    corresponding to a discrete cosine of N samples\n",
    "    (just to make the visualisation of the discrete\n",
    "    cosine nicer)\n",
    "\n",
    "    A: amplitude\n",
    "    f: frequency\n",
    "    phi: initial phase\n",
    "    N: number of samples of the corresponding discrete cosine\n",
    "    n_points: number of points for interpolation \n",
    "              of the continuous function\n",
    "    \"\"\"\n",
    "    t = np.linspace(0, N, n_points)\n",
    "    cos_t = A * np.cos(2 * np.pi * f * t + phi)\n",
    "    return t, cos_t\n",
    "    \n"
   ]
  },
  {
   "cell_type": "code",
   "execution_count": 4,
   "metadata": {},
   "outputs": [
    {
     "data": {
      "application/javascript": [
       "/* Put everything inside the global mpl namespace */\n",
       "window.mpl = {};\n",
       "\n",
       "\n",
       "mpl.get_websocket_type = function() {\n",
       "    if (typeof(WebSocket) !== 'undefined') {\n",
       "        return WebSocket;\n",
       "    } else if (typeof(MozWebSocket) !== 'undefined') {\n",
       "        return MozWebSocket;\n",
       "    } else {\n",
       "        alert('Your browser does not have WebSocket support.' +\n",
       "              'Please try Chrome, Safari or Firefox ≥ 6. ' +\n",
       "              'Firefox 4 and 5 are also supported but you ' +\n",
       "              'have to enable WebSockets in about:config.');\n",
       "    };\n",
       "}\n",
       "\n",
       "mpl.figure = function(figure_id, websocket, ondownload, parent_element) {\n",
       "    this.id = figure_id;\n",
       "\n",
       "    this.ws = websocket;\n",
       "\n",
       "    this.supports_binary = (this.ws.binaryType != undefined);\n",
       "\n",
       "    if (!this.supports_binary) {\n",
       "        var warnings = document.getElementById(\"mpl-warnings\");\n",
       "        if (warnings) {\n",
       "            warnings.style.display = 'block';\n",
       "            warnings.textContent = (\n",
       "                \"This browser does not support binary websocket messages. \" +\n",
       "                    \"Performance may be slow.\");\n",
       "        }\n",
       "    }\n",
       "\n",
       "    this.imageObj = new Image();\n",
       "\n",
       "    this.context = undefined;\n",
       "    this.message = undefined;\n",
       "    this.canvas = undefined;\n",
       "    this.rubberband_canvas = undefined;\n",
       "    this.rubberband_context = undefined;\n",
       "    this.format_dropdown = undefined;\n",
       "\n",
       "    this.image_mode = 'full';\n",
       "\n",
       "    this.root = $('<div/>');\n",
       "    this._root_extra_style(this.root)\n",
       "    this.root.attr('style', 'display: inline-block');\n",
       "\n",
       "    $(parent_element).append(this.root);\n",
       "\n",
       "    this._init_header(this);\n",
       "    this._init_canvas(this);\n",
       "    this._init_toolbar(this);\n",
       "\n",
       "    var fig = this;\n",
       "\n",
       "    this.waiting = false;\n",
       "\n",
       "    this.ws.onopen =  function () {\n",
       "            fig.send_message(\"supports_binary\", {value: fig.supports_binary});\n",
       "            fig.send_message(\"send_image_mode\", {});\n",
       "            if (mpl.ratio != 1) {\n",
       "                fig.send_message(\"set_dpi_ratio\", {'dpi_ratio': mpl.ratio});\n",
       "            }\n",
       "            fig.send_message(\"refresh\", {});\n",
       "        }\n",
       "\n",
       "    this.imageObj.onload = function() {\n",
       "            if (fig.image_mode == 'full') {\n",
       "                // Full images could contain transparency (where diff images\n",
       "                // almost always do), so we need to clear the canvas so that\n",
       "                // there is no ghosting.\n",
       "                fig.context.clearRect(0, 0, fig.canvas.width, fig.canvas.height);\n",
       "            }\n",
       "            fig.context.drawImage(fig.imageObj, 0, 0);\n",
       "        };\n",
       "\n",
       "    this.imageObj.onunload = function() {\n",
       "        fig.ws.close();\n",
       "    }\n",
       "\n",
       "    this.ws.onmessage = this._make_on_message_function(this);\n",
       "\n",
       "    this.ondownload = ondownload;\n",
       "}\n",
       "\n",
       "mpl.figure.prototype._init_header = function() {\n",
       "    var titlebar = $(\n",
       "        '<div class=\"ui-dialog-titlebar ui-widget-header ui-corner-all ' +\n",
       "        'ui-helper-clearfix\"/>');\n",
       "    var titletext = $(\n",
       "        '<div class=\"ui-dialog-title\" style=\"width: 100%; ' +\n",
       "        'text-align: center; padding: 3px;\"/>');\n",
       "    titlebar.append(titletext)\n",
       "    this.root.append(titlebar);\n",
       "    this.header = titletext[0];\n",
       "}\n",
       "\n",
       "\n",
       "\n",
       "mpl.figure.prototype._canvas_extra_style = function(canvas_div) {\n",
       "\n",
       "}\n",
       "\n",
       "\n",
       "mpl.figure.prototype._root_extra_style = function(canvas_div) {\n",
       "\n",
       "}\n",
       "\n",
       "mpl.figure.prototype._init_canvas = function() {\n",
       "    var fig = this;\n",
       "\n",
       "    var canvas_div = $('<div/>');\n",
       "\n",
       "    canvas_div.attr('style', 'position: relative; clear: both; outline: 0');\n",
       "\n",
       "    function canvas_keyboard_event(event) {\n",
       "        return fig.key_event(event, event['data']);\n",
       "    }\n",
       "\n",
       "    canvas_div.keydown('key_press', canvas_keyboard_event);\n",
       "    canvas_div.keyup('key_release', canvas_keyboard_event);\n",
       "    this.canvas_div = canvas_div\n",
       "    this._canvas_extra_style(canvas_div)\n",
       "    this.root.append(canvas_div);\n",
       "\n",
       "    var canvas = $('<canvas/>');\n",
       "    canvas.addClass('mpl-canvas');\n",
       "    canvas.attr('style', \"left: 0; top: 0; z-index: 0; outline: 0\")\n",
       "\n",
       "    this.canvas = canvas[0];\n",
       "    this.context = canvas[0].getContext(\"2d\");\n",
       "\n",
       "    var backingStore = this.context.backingStorePixelRatio ||\n",
       "\tthis.context.webkitBackingStorePixelRatio ||\n",
       "\tthis.context.mozBackingStorePixelRatio ||\n",
       "\tthis.context.msBackingStorePixelRatio ||\n",
       "\tthis.context.oBackingStorePixelRatio ||\n",
       "\tthis.context.backingStorePixelRatio || 1;\n",
       "\n",
       "    mpl.ratio = (window.devicePixelRatio || 1) / backingStore;\n",
       "\n",
       "    var rubberband = $('<canvas/>');\n",
       "    rubberband.attr('style', \"position: absolute; left: 0; top: 0; z-index: 1;\")\n",
       "\n",
       "    var pass_mouse_events = true;\n",
       "\n",
       "    canvas_div.resizable({\n",
       "        start: function(event, ui) {\n",
       "            pass_mouse_events = false;\n",
       "        },\n",
       "        resize: function(event, ui) {\n",
       "            fig.request_resize(ui.size.width, ui.size.height);\n",
       "        },\n",
       "        stop: function(event, ui) {\n",
       "            pass_mouse_events = true;\n",
       "            fig.request_resize(ui.size.width, ui.size.height);\n",
       "        },\n",
       "    });\n",
       "\n",
       "    function mouse_event_fn(event) {\n",
       "        if (pass_mouse_events)\n",
       "            return fig.mouse_event(event, event['data']);\n",
       "    }\n",
       "\n",
       "    rubberband.mousedown('button_press', mouse_event_fn);\n",
       "    rubberband.mouseup('button_release', mouse_event_fn);\n",
       "    // Throttle sequential mouse events to 1 every 20ms.\n",
       "    rubberband.mousemove('motion_notify', mouse_event_fn);\n",
       "\n",
       "    rubberband.mouseenter('figure_enter', mouse_event_fn);\n",
       "    rubberband.mouseleave('figure_leave', mouse_event_fn);\n",
       "\n",
       "    canvas_div.on(\"wheel\", function (event) {\n",
       "        event = event.originalEvent;\n",
       "        event['data'] = 'scroll'\n",
       "        if (event.deltaY < 0) {\n",
       "            event.step = 1;\n",
       "        } else {\n",
       "            event.step = -1;\n",
       "        }\n",
       "        mouse_event_fn(event);\n",
       "    });\n",
       "\n",
       "    canvas_div.append(canvas);\n",
       "    canvas_div.append(rubberband);\n",
       "\n",
       "    this.rubberband = rubberband;\n",
       "    this.rubberband_canvas = rubberband[0];\n",
       "    this.rubberband_context = rubberband[0].getContext(\"2d\");\n",
       "    this.rubberband_context.strokeStyle = \"#000000\";\n",
       "\n",
       "    this._resize_canvas = function(width, height) {\n",
       "        // Keep the size of the canvas, canvas container, and rubber band\n",
       "        // canvas in synch.\n",
       "        canvas_div.css('width', width)\n",
       "        canvas_div.css('height', height)\n",
       "\n",
       "        canvas.attr('width', width * mpl.ratio);\n",
       "        canvas.attr('height', height * mpl.ratio);\n",
       "        canvas.attr('style', 'width: ' + width + 'px; height: ' + height + 'px;');\n",
       "\n",
       "        rubberband.attr('width', width);\n",
       "        rubberband.attr('height', height);\n",
       "    }\n",
       "\n",
       "    // Set the figure to an initial 600x600px, this will subsequently be updated\n",
       "    // upon first draw.\n",
       "    this._resize_canvas(600, 600);\n",
       "\n",
       "    // Disable right mouse context menu.\n",
       "    $(this.rubberband_canvas).bind(\"contextmenu\",function(e){\n",
       "        return false;\n",
       "    });\n",
       "\n",
       "    function set_focus () {\n",
       "        canvas.focus();\n",
       "        canvas_div.focus();\n",
       "    }\n",
       "\n",
       "    window.setTimeout(set_focus, 100);\n",
       "}\n",
       "\n",
       "mpl.figure.prototype._init_toolbar = function() {\n",
       "    var fig = this;\n",
       "\n",
       "    var nav_element = $('<div/>')\n",
       "    nav_element.attr('style', 'width: 100%');\n",
       "    this.root.append(nav_element);\n",
       "\n",
       "    // Define a callback function for later on.\n",
       "    function toolbar_event(event) {\n",
       "        return fig.toolbar_button_onclick(event['data']);\n",
       "    }\n",
       "    function toolbar_mouse_event(event) {\n",
       "        return fig.toolbar_button_onmouseover(event['data']);\n",
       "    }\n",
       "\n",
       "    for(var toolbar_ind in mpl.toolbar_items) {\n",
       "        var name = mpl.toolbar_items[toolbar_ind][0];\n",
       "        var tooltip = mpl.toolbar_items[toolbar_ind][1];\n",
       "        var image = mpl.toolbar_items[toolbar_ind][2];\n",
       "        var method_name = mpl.toolbar_items[toolbar_ind][3];\n",
       "\n",
       "        if (!name) {\n",
       "            // put a spacer in here.\n",
       "            continue;\n",
       "        }\n",
       "        var button = $('<button/>');\n",
       "        button.addClass('ui-button ui-widget ui-state-default ui-corner-all ' +\n",
       "                        'ui-button-icon-only');\n",
       "        button.attr('role', 'button');\n",
       "        button.attr('aria-disabled', 'false');\n",
       "        button.click(method_name, toolbar_event);\n",
       "        button.mouseover(tooltip, toolbar_mouse_event);\n",
       "\n",
       "        var icon_img = $('<span/>');\n",
       "        icon_img.addClass('ui-button-icon-primary ui-icon');\n",
       "        icon_img.addClass(image);\n",
       "        icon_img.addClass('ui-corner-all');\n",
       "\n",
       "        var tooltip_span = $('<span/>');\n",
       "        tooltip_span.addClass('ui-button-text');\n",
       "        tooltip_span.html(tooltip);\n",
       "\n",
       "        button.append(icon_img);\n",
       "        button.append(tooltip_span);\n",
       "\n",
       "        nav_element.append(button);\n",
       "    }\n",
       "\n",
       "    var fmt_picker_span = $('<span/>');\n",
       "\n",
       "    var fmt_picker = $('<select/>');\n",
       "    fmt_picker.addClass('mpl-toolbar-option ui-widget ui-widget-content');\n",
       "    fmt_picker_span.append(fmt_picker);\n",
       "    nav_element.append(fmt_picker_span);\n",
       "    this.format_dropdown = fmt_picker[0];\n",
       "\n",
       "    for (var ind in mpl.extensions) {\n",
       "        var fmt = mpl.extensions[ind];\n",
       "        var option = $(\n",
       "            '<option/>', {selected: fmt === mpl.default_extension}).html(fmt);\n",
       "        fmt_picker.append(option)\n",
       "    }\n",
       "\n",
       "    // Add hover states to the ui-buttons\n",
       "    $( \".ui-button\" ).hover(\n",
       "        function() { $(this).addClass(\"ui-state-hover\");},\n",
       "        function() { $(this).removeClass(\"ui-state-hover\");}\n",
       "    );\n",
       "\n",
       "    var status_bar = $('<span class=\"mpl-message\"/>');\n",
       "    nav_element.append(status_bar);\n",
       "    this.message = status_bar[0];\n",
       "}\n",
       "\n",
       "mpl.figure.prototype.request_resize = function(x_pixels, y_pixels) {\n",
       "    // Request matplotlib to resize the figure. Matplotlib will then trigger a resize in the client,\n",
       "    // which will in turn request a refresh of the image.\n",
       "    this.send_message('resize', {'width': x_pixels, 'height': y_pixels});\n",
       "}\n",
       "\n",
       "mpl.figure.prototype.send_message = function(type, properties) {\n",
       "    properties['type'] = type;\n",
       "    properties['figure_id'] = this.id;\n",
       "    this.ws.send(JSON.stringify(properties));\n",
       "}\n",
       "\n",
       "mpl.figure.prototype.send_draw_message = function() {\n",
       "    if (!this.waiting) {\n",
       "        this.waiting = true;\n",
       "        this.ws.send(JSON.stringify({type: \"draw\", figure_id: this.id}));\n",
       "    }\n",
       "}\n",
       "\n",
       "\n",
       "mpl.figure.prototype.handle_save = function(fig, msg) {\n",
       "    var format_dropdown = fig.format_dropdown;\n",
       "    var format = format_dropdown.options[format_dropdown.selectedIndex].value;\n",
       "    fig.ondownload(fig, format);\n",
       "}\n",
       "\n",
       "\n",
       "mpl.figure.prototype.handle_resize = function(fig, msg) {\n",
       "    var size = msg['size'];\n",
       "    if (size[0] != fig.canvas.width || size[1] != fig.canvas.height) {\n",
       "        fig._resize_canvas(size[0], size[1]);\n",
       "        fig.send_message(\"refresh\", {});\n",
       "    };\n",
       "}\n",
       "\n",
       "mpl.figure.prototype.handle_rubberband = function(fig, msg) {\n",
       "    var x0 = msg['x0'] / mpl.ratio;\n",
       "    var y0 = (fig.canvas.height - msg['y0']) / mpl.ratio;\n",
       "    var x1 = msg['x1'] / mpl.ratio;\n",
       "    var y1 = (fig.canvas.height - msg['y1']) / mpl.ratio;\n",
       "    x0 = Math.floor(x0) + 0.5;\n",
       "    y0 = Math.floor(y0) + 0.5;\n",
       "    x1 = Math.floor(x1) + 0.5;\n",
       "    y1 = Math.floor(y1) + 0.5;\n",
       "    var min_x = Math.min(x0, x1);\n",
       "    var min_y = Math.min(y0, y1);\n",
       "    var width = Math.abs(x1 - x0);\n",
       "    var height = Math.abs(y1 - y0);\n",
       "\n",
       "    fig.rubberband_context.clearRect(\n",
       "        0, 0, fig.canvas.width, fig.canvas.height);\n",
       "\n",
       "    fig.rubberband_context.strokeRect(min_x, min_y, width, height);\n",
       "}\n",
       "\n",
       "mpl.figure.prototype.handle_figure_label = function(fig, msg) {\n",
       "    // Updates the figure title.\n",
       "    fig.header.textContent = msg['label'];\n",
       "}\n",
       "\n",
       "mpl.figure.prototype.handle_cursor = function(fig, msg) {\n",
       "    var cursor = msg['cursor'];\n",
       "    switch(cursor)\n",
       "    {\n",
       "    case 0:\n",
       "        cursor = 'pointer';\n",
       "        break;\n",
       "    case 1:\n",
       "        cursor = 'default';\n",
       "        break;\n",
       "    case 2:\n",
       "        cursor = 'crosshair';\n",
       "        break;\n",
       "    case 3:\n",
       "        cursor = 'move';\n",
       "        break;\n",
       "    }\n",
       "    fig.rubberband_canvas.style.cursor = cursor;\n",
       "}\n",
       "\n",
       "mpl.figure.prototype.handle_message = function(fig, msg) {\n",
       "    fig.message.textContent = msg['message'];\n",
       "}\n",
       "\n",
       "mpl.figure.prototype.handle_draw = function(fig, msg) {\n",
       "    // Request the server to send over a new figure.\n",
       "    fig.send_draw_message();\n",
       "}\n",
       "\n",
       "mpl.figure.prototype.handle_image_mode = function(fig, msg) {\n",
       "    fig.image_mode = msg['mode'];\n",
       "}\n",
       "\n",
       "mpl.figure.prototype.updated_canvas_event = function() {\n",
       "    // Called whenever the canvas gets updated.\n",
       "    this.send_message(\"ack\", {});\n",
       "}\n",
       "\n",
       "// A function to construct a web socket function for onmessage handling.\n",
       "// Called in the figure constructor.\n",
       "mpl.figure.prototype._make_on_message_function = function(fig) {\n",
       "    return function socket_on_message(evt) {\n",
       "        if (evt.data instanceof Blob) {\n",
       "            /* FIXME: We get \"Resource interpreted as Image but\n",
       "             * transferred with MIME type text/plain:\" errors on\n",
       "             * Chrome.  But how to set the MIME type?  It doesn't seem\n",
       "             * to be part of the websocket stream */\n",
       "            evt.data.type = \"image/png\";\n",
       "\n",
       "            /* Free the memory for the previous frames */\n",
       "            if (fig.imageObj.src) {\n",
       "                (window.URL || window.webkitURL).revokeObjectURL(\n",
       "                    fig.imageObj.src);\n",
       "            }\n",
       "\n",
       "            fig.imageObj.src = (window.URL || window.webkitURL).createObjectURL(\n",
       "                evt.data);\n",
       "            fig.updated_canvas_event();\n",
       "            fig.waiting = false;\n",
       "            return;\n",
       "        }\n",
       "        else if (typeof evt.data === 'string' && evt.data.slice(0, 21) == \"data:image/png;base64\") {\n",
       "            fig.imageObj.src = evt.data;\n",
       "            fig.updated_canvas_event();\n",
       "            fig.waiting = false;\n",
       "            return;\n",
       "        }\n",
       "\n",
       "        var msg = JSON.parse(evt.data);\n",
       "        var msg_type = msg['type'];\n",
       "\n",
       "        // Call the  \"handle_{type}\" callback, which takes\n",
       "        // the figure and JSON message as its only arguments.\n",
       "        try {\n",
       "            var callback = fig[\"handle_\" + msg_type];\n",
       "        } catch (e) {\n",
       "            console.log(\"No handler for the '\" + msg_type + \"' message type: \", msg);\n",
       "            return;\n",
       "        }\n",
       "\n",
       "        if (callback) {\n",
       "            try {\n",
       "                // console.log(\"Handling '\" + msg_type + \"' message: \", msg);\n",
       "                callback(fig, msg);\n",
       "            } catch (e) {\n",
       "                console.log(\"Exception inside the 'handler_\" + msg_type + \"' callback:\", e, e.stack, msg);\n",
       "            }\n",
       "        }\n",
       "    };\n",
       "}\n",
       "\n",
       "// from http://stackoverflow.com/questions/1114465/getting-mouse-location-in-canvas\n",
       "mpl.findpos = function(e) {\n",
       "    //this section is from http://www.quirksmode.org/js/events_properties.html\n",
       "    var targ;\n",
       "    if (!e)\n",
       "        e = window.event;\n",
       "    if (e.target)\n",
       "        targ = e.target;\n",
       "    else if (e.srcElement)\n",
       "        targ = e.srcElement;\n",
       "    if (targ.nodeType == 3) // defeat Safari bug\n",
       "        targ = targ.parentNode;\n",
       "\n",
       "    // jQuery normalizes the pageX and pageY\n",
       "    // pageX,Y are the mouse positions relative to the document\n",
       "    // offset() returns the position of the element relative to the document\n",
       "    var x = e.pageX - $(targ).offset().left;\n",
       "    var y = e.pageY - $(targ).offset().top;\n",
       "\n",
       "    return {\"x\": x, \"y\": y};\n",
       "};\n",
       "\n",
       "/*\n",
       " * return a copy of an object with only non-object keys\n",
       " * we need this to avoid circular references\n",
       " * http://stackoverflow.com/a/24161582/3208463\n",
       " */\n",
       "function simpleKeys (original) {\n",
       "  return Object.keys(original).reduce(function (obj, key) {\n",
       "    if (typeof original[key] !== 'object')\n",
       "        obj[key] = original[key]\n",
       "    return obj;\n",
       "  }, {});\n",
       "}\n",
       "\n",
       "mpl.figure.prototype.mouse_event = function(event, name) {\n",
       "    var canvas_pos = mpl.findpos(event)\n",
       "\n",
       "    if (name === 'button_press')\n",
       "    {\n",
       "        this.canvas.focus();\n",
       "        this.canvas_div.focus();\n",
       "    }\n",
       "\n",
       "    var x = canvas_pos.x * mpl.ratio;\n",
       "    var y = canvas_pos.y * mpl.ratio;\n",
       "\n",
       "    this.send_message(name, {x: x, y: y, button: event.button,\n",
       "                             step: event.step,\n",
       "                             guiEvent: simpleKeys(event)});\n",
       "\n",
       "    /* This prevents the web browser from automatically changing to\n",
       "     * the text insertion cursor when the button is pressed.  We want\n",
       "     * to control all of the cursor setting manually through the\n",
       "     * 'cursor' event from matplotlib */\n",
       "    event.preventDefault();\n",
       "    return false;\n",
       "}\n",
       "\n",
       "mpl.figure.prototype._key_event_extra = function(event, name) {\n",
       "    // Handle any extra behaviour associated with a key event\n",
       "}\n",
       "\n",
       "mpl.figure.prototype.key_event = function(event, name) {\n",
       "\n",
       "    // Prevent repeat events\n",
       "    if (name == 'key_press')\n",
       "    {\n",
       "        if (event.which === this._key)\n",
       "            return;\n",
       "        else\n",
       "            this._key = event.which;\n",
       "    }\n",
       "    if (name == 'key_release')\n",
       "        this._key = null;\n",
       "\n",
       "    var value = '';\n",
       "    if (event.ctrlKey && event.which != 17)\n",
       "        value += \"ctrl+\";\n",
       "    if (event.altKey && event.which != 18)\n",
       "        value += \"alt+\";\n",
       "    if (event.shiftKey && event.which != 16)\n",
       "        value += \"shift+\";\n",
       "\n",
       "    value += 'k';\n",
       "    value += event.which.toString();\n",
       "\n",
       "    this._key_event_extra(event, name);\n",
       "\n",
       "    this.send_message(name, {key: value,\n",
       "                             guiEvent: simpleKeys(event)});\n",
       "    return false;\n",
       "}\n",
       "\n",
       "mpl.figure.prototype.toolbar_button_onclick = function(name) {\n",
       "    if (name == 'download') {\n",
       "        this.handle_save(this, null);\n",
       "    } else {\n",
       "        this.send_message(\"toolbar_button\", {name: name});\n",
       "    }\n",
       "};\n",
       "\n",
       "mpl.figure.prototype.toolbar_button_onmouseover = function(tooltip) {\n",
       "    this.message.textContent = tooltip;\n",
       "};\n",
       "mpl.toolbar_items = [[\"Home\", \"Reset original view\", \"fa fa-home icon-home\", \"home\"], [\"Back\", \"Back to  previous view\", \"fa fa-arrow-left icon-arrow-left\", \"back\"], [\"Forward\", \"Forward to next view\", \"fa fa-arrow-right icon-arrow-right\", \"forward\"], [\"\", \"\", \"\", \"\"], [\"Pan\", \"Pan axes with left mouse, zoom with right\", \"fa fa-arrows icon-move\", \"pan\"], [\"Zoom\", \"Zoom to rectangle\", \"fa fa-square-o icon-check-empty\", \"zoom\"], [\"\", \"\", \"\", \"\"], [\"Download\", \"Download plot\", \"fa fa-floppy-o icon-save\", \"download\"]];\n",
       "\n",
       "mpl.extensions = [\"eps\", \"jpeg\", \"pdf\", \"png\", \"ps\", \"raw\", \"svg\", \"tif\"];\n",
       "\n",
       "mpl.default_extension = \"png\";var comm_websocket_adapter = function(comm) {\n",
       "    // Create a \"websocket\"-like object which calls the given IPython comm\n",
       "    // object with the appropriate methods. Currently this is a non binary\n",
       "    // socket, so there is still some room for performance tuning.\n",
       "    var ws = {};\n",
       "\n",
       "    ws.close = function() {\n",
       "        comm.close()\n",
       "    };\n",
       "    ws.send = function(m) {\n",
       "        //console.log('sending', m);\n",
       "        comm.send(m);\n",
       "    };\n",
       "    // Register the callback with on_msg.\n",
       "    comm.on_msg(function(msg) {\n",
       "        //console.log('receiving', msg['content']['data'], msg);\n",
       "        // Pass the mpl event to the overriden (by mpl) onmessage function.\n",
       "        ws.onmessage(msg['content']['data'])\n",
       "    });\n",
       "    return ws;\n",
       "}\n",
       "\n",
       "mpl.mpl_figure_comm = function(comm, msg) {\n",
       "    // This is the function which gets called when the mpl process\n",
       "    // starts-up an IPython Comm through the \"matplotlib\" channel.\n",
       "\n",
       "    var id = msg.content.data.id;\n",
       "    // Get hold of the div created by the display call when the Comm\n",
       "    // socket was opened in Python.\n",
       "    var element = $(\"#\" + id);\n",
       "    var ws_proxy = comm_websocket_adapter(comm)\n",
       "\n",
       "    function ondownload(figure, format) {\n",
       "        window.open(figure.imageObj.src);\n",
       "    }\n",
       "\n",
       "    var fig = new mpl.figure(id, ws_proxy,\n",
       "                           ondownload,\n",
       "                           element.get(0));\n",
       "\n",
       "    // Call onopen now - mpl needs it, as it is assuming we've passed it a real\n",
       "    // web socket which is closed, not our websocket->open comm proxy.\n",
       "    ws_proxy.onopen();\n",
       "\n",
       "    fig.parent_element = element.get(0);\n",
       "    fig.cell_info = mpl.find_output_cell(\"<div id='\" + id + \"'></div>\");\n",
       "    if (!fig.cell_info) {\n",
       "        console.error(\"Failed to find cell for figure\", id, fig);\n",
       "        return;\n",
       "    }\n",
       "\n",
       "    var output_index = fig.cell_info[2]\n",
       "    var cell = fig.cell_info[0];\n",
       "\n",
       "};\n",
       "\n",
       "mpl.figure.prototype.handle_close = function(fig, msg) {\n",
       "    var width = fig.canvas.width/mpl.ratio\n",
       "    fig.root.unbind('remove')\n",
       "\n",
       "    // Update the output cell to use the data from the current canvas.\n",
       "    fig.push_to_output();\n",
       "    var dataURL = fig.canvas.toDataURL();\n",
       "    // Re-enable the keyboard manager in IPython - without this line, in FF,\n",
       "    // the notebook keyboard shortcuts fail.\n",
       "    IPython.keyboard_manager.enable()\n",
       "    $(fig.parent_element).html('<img src=\"' + dataURL + '\" width=\"' + width + '\">');\n",
       "    fig.close_ws(fig, msg);\n",
       "}\n",
       "\n",
       "mpl.figure.prototype.close_ws = function(fig, msg){\n",
       "    fig.send_message('closing', msg);\n",
       "    // fig.ws.close()\n",
       "}\n",
       "\n",
       "mpl.figure.prototype.push_to_output = function(remove_interactive) {\n",
       "    // Turn the data on the canvas into data in the output cell.\n",
       "    var width = this.canvas.width/mpl.ratio\n",
       "    var dataURL = this.canvas.toDataURL();\n",
       "    this.cell_info[1]['text/html'] = '<img src=\"' + dataURL + '\" width=\"' + width + '\">';\n",
       "}\n",
       "\n",
       "mpl.figure.prototype.updated_canvas_event = function() {\n",
       "    // Tell IPython that the notebook contents must change.\n",
       "    IPython.notebook.set_dirty(true);\n",
       "    this.send_message(\"ack\", {});\n",
       "    var fig = this;\n",
       "    // Wait a second, then push the new image to the DOM so\n",
       "    // that it is saved nicely (might be nice to debounce this).\n",
       "    setTimeout(function () { fig.push_to_output() }, 1000);\n",
       "}\n",
       "\n",
       "mpl.figure.prototype._init_toolbar = function() {\n",
       "    var fig = this;\n",
       "\n",
       "    var nav_element = $('<div/>')\n",
       "    nav_element.attr('style', 'width: 100%');\n",
       "    this.root.append(nav_element);\n",
       "\n",
       "    // Define a callback function for later on.\n",
       "    function toolbar_event(event) {\n",
       "        return fig.toolbar_button_onclick(event['data']);\n",
       "    }\n",
       "    function toolbar_mouse_event(event) {\n",
       "        return fig.toolbar_button_onmouseover(event['data']);\n",
       "    }\n",
       "\n",
       "    for(var toolbar_ind in mpl.toolbar_items){\n",
       "        var name = mpl.toolbar_items[toolbar_ind][0];\n",
       "        var tooltip = mpl.toolbar_items[toolbar_ind][1];\n",
       "        var image = mpl.toolbar_items[toolbar_ind][2];\n",
       "        var method_name = mpl.toolbar_items[toolbar_ind][3];\n",
       "\n",
       "        if (!name) { continue; };\n",
       "\n",
       "        var button = $('<button class=\"btn btn-default\" href=\"#\" title=\"' + name + '\"><i class=\"fa ' + image + ' fa-lg\"></i></button>');\n",
       "        button.click(method_name, toolbar_event);\n",
       "        button.mouseover(tooltip, toolbar_mouse_event);\n",
       "        nav_element.append(button);\n",
       "    }\n",
       "\n",
       "    // Add the status bar.\n",
       "    var status_bar = $('<span class=\"mpl-message\" style=\"text-align:right; float: right;\"/>');\n",
       "    nav_element.append(status_bar);\n",
       "    this.message = status_bar[0];\n",
       "\n",
       "    // Add the close button to the window.\n",
       "    var buttongrp = $('<div class=\"btn-group inline pull-right\"></div>');\n",
       "    var button = $('<button class=\"btn btn-mini btn-primary\" href=\"#\" title=\"Stop Interaction\"><i class=\"fa fa-power-off icon-remove icon-large\"></i></button>');\n",
       "    button.click(function (evt) { fig.handle_close(fig, {}); } );\n",
       "    button.mouseover('Stop Interaction', toolbar_mouse_event);\n",
       "    buttongrp.append(button);\n",
       "    var titlebar = this.root.find($('.ui-dialog-titlebar'));\n",
       "    titlebar.prepend(buttongrp);\n",
       "}\n",
       "\n",
       "mpl.figure.prototype._root_extra_style = function(el){\n",
       "    var fig = this\n",
       "    el.on(\"remove\", function(){\n",
       "\tfig.close_ws(fig, {});\n",
       "    });\n",
       "}\n",
       "\n",
       "mpl.figure.prototype._canvas_extra_style = function(el){\n",
       "    // this is important to make the div 'focusable\n",
       "    el.attr('tabindex', 0)\n",
       "    // reach out to IPython and tell the keyboard manager to turn it's self\n",
       "    // off when our div gets focus\n",
       "\n",
       "    // location in version 3\n",
       "    if (IPython.notebook.keyboard_manager) {\n",
       "        IPython.notebook.keyboard_manager.register_events(el);\n",
       "    }\n",
       "    else {\n",
       "        // location in version 2\n",
       "        IPython.keyboard_manager.register_events(el);\n",
       "    }\n",
       "\n",
       "}\n",
       "\n",
       "mpl.figure.prototype._key_event_extra = function(event, name) {\n",
       "    var manager = IPython.notebook.keyboard_manager;\n",
       "    if (!manager)\n",
       "        manager = IPython.keyboard_manager;\n",
       "\n",
       "    // Check for shift+enter\n",
       "    if (event.shiftKey && event.which == 13) {\n",
       "        this.canvas_div.blur();\n",
       "        event.shiftKey = false;\n",
       "        // Send a \"J\" for go to next cell\n",
       "        event.which = 74;\n",
       "        event.keyCode = 74;\n",
       "        manager.command_mode();\n",
       "        manager.handle_keydown(event);\n",
       "    }\n",
       "}\n",
       "\n",
       "mpl.figure.prototype.handle_save = function(fig, msg) {\n",
       "    fig.ondownload(fig, null);\n",
       "}\n",
       "\n",
       "\n",
       "mpl.find_output_cell = function(html_output) {\n",
       "    // Return the cell and output element which can be found *uniquely* in the notebook.\n",
       "    // Note - this is a bit hacky, but it is done because the \"notebook_saving.Notebook\"\n",
       "    // IPython event is triggered only after the cells have been serialised, which for\n",
       "    // our purposes (turning an active figure into a static one), is too late.\n",
       "    var cells = IPython.notebook.get_cells();\n",
       "    var ncells = cells.length;\n",
       "    for (var i=0; i<ncells; i++) {\n",
       "        var cell = cells[i];\n",
       "        if (cell.cell_type === 'code'){\n",
       "            for (var j=0; j<cell.output_area.outputs.length; j++) {\n",
       "                var data = cell.output_area.outputs[j];\n",
       "                if (data.data) {\n",
       "                    // IPython >= 3 moved mimebundle to data attribute of output\n",
       "                    data = data.data;\n",
       "                }\n",
       "                if (data['text/html'] == html_output) {\n",
       "                    return [cell, data, j];\n",
       "                }\n",
       "            }\n",
       "        }\n",
       "    }\n",
       "}\n",
       "\n",
       "// Register the function which deals with the matplotlib target/channel.\n",
       "// The kernel may be null if the page has been refreshed.\n",
       "if (IPython.notebook.kernel != null) {\n",
       "    IPython.notebook.kernel.comm_manager.register_target('matplotlib', mpl.mpl_figure_comm);\n",
       "}\n"
      ],
      "text/plain": [
       "<IPython.core.display.Javascript object>"
      ]
     },
     "metadata": {},
     "output_type": "display_data"
    },
    {
     "data": {
      "text/html": [
       "<img src=\"data:image/png;base64,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\" width=\"640\">"
      ],
      "text/plain": [
       "<IPython.core.display.HTML object>"
      ]
     },
     "metadata": {},
     "output_type": "display_data"
    },
    {
     "data": {
      "application/vnd.jupyter.widget-view+json": {
       "model_id": "c31f27aaefab424b97319e990c957bd9",
       "version_major": 2,
       "version_minor": 0
      },
      "text/plain": [
       "interactive(children=(FloatSlider(value=1.0, description='A', max=3.0), FloatSlider(value=0.125, description='…"
      ]
     },
     "metadata": {},
     "output_type": "display_data"
    }
   ],
   "source": [
    "N = 8 # number of samples to plot\n",
    "\n",
    "# set the plot\n",
    "fig, ax = plt.subplots(1)\n",
    "ax.set_xlim([0,8])\n",
    "ax.set_ylim([-3,3])\n",
    "\n",
    "# plot some initial cosine\n",
    "# just to get the handles to the plots\n",
    "x, cos_x = get_cont_cos(1, 1/8.0, 0, N)\n",
    "n, cos_n = get_disc_cos(1, 1/8.0, 0, N)\n",
    "cont_cos_plot, = ax.plot(x, cos_x)\n",
    "ml, sl, bl = ax.stem(n, cos_n)\n",
    "\n",
    "# wrapper for interactive mode\n",
    "def plot_cos(A = 1, f = 1/8.0, phi = 0):\n",
    "    x, cos_x = get_cont_cos(A, f, phi, N)\n",
    "    n, cos_n = get_disc_cos(A, f, phi, N)\n",
    "    \n",
    "    # plot the continuous cosine\n",
    "    cont_cos_plot.set_data(x, cos_x)\n",
    "    \n",
    "    # plot the discrete cosine\n",
    "    # (clumsy but fast way to do so by\n",
    "    # setting the position of markerline\n",
    "    # and stemlines in the stem plot)\n",
    "    ml.set_data(n, cos_n)\n",
    "    for i_l, l in enumerate(sl):\n",
    "        l.set_data(np.stack((n,n)).T[i_l], \n",
    "                   np.stack((np.zeros((N,)), cos_n)).T[i_l])\n",
    "    \n",
    "    ax.set_xlabel('$n$')\n",
    "    ax.set_ylabel('${0:.2f}\\ cos(2\\pi\\cdot{1:.2f}\\cdot n\\ {2:+.2f})$'.format(A,f,phi))\n",
    "    \n",
    "    plt.draw()\n",
    "\n",
    "interact(plot_cos, \n",
    "                 A = (0,3,0.1), \n",
    "                 f = (0,8/8,1/32), \n",
    "                 phi = (-pi, pi, pi/8))\n",
    "\n",
    "plt.show()"
   ]
  },
  {
   "cell_type": "code",
   "execution_count": null,
   "metadata": {},
   "outputs": [],
   "source": []
  }
 ],
 "metadata": {
  "kernelspec": {
   "display_name": "Python 3",
   "language": "python",
   "name": "python3"
  },
  "language_info": {
   "codemirror_mode": {
    "name": "ipython",
    "version": 3
   },
   "file_extension": ".py",
   "mimetype": "text/x-python",
   "name": "python",
   "nbconvert_exporter": "python",
   "pygments_lexer": "ipython3",
   "version": "3.6.6"
  },
  "widgets": {
   "application/vnd.jupyter.widget-state+json": {
    "state": {
     "08131c29fb174210b93e1d84a741ce7a": {
      "model_module": "@jupyter-widgets/base",
      "model_module_version": "1.1.0",
      "model_name": "LayoutModel",
      "state": {}
     },
     "0c279f25d8294f3bb1db4037a7fc61ce": {
      "model_module": "@jupyter-widgets/controls",
      "model_module_version": "1.4.0",
      "model_name": "SliderStyleModel",
      "state": {
       "description_width": ""
      }
     },
     "0d25acc5c7154151ac13a06104ec9e02": {
      "model_module": "@jupyter-widgets/controls",
      "model_module_version": "1.4.0",
      "model_name": "FloatSliderModel",
      "state": {
       "description": "A",
       "layout": "IPY_MODEL_b6bffa87bc0d46608082b9fb78169f9f",
       "max": 3,
       "step": 0.1,
       "style": "IPY_MODEL_7d9311fb40234ab4accae51108133123",
       "value": 1.7
      }
     },
     "10ad46cb646c489b8a4742ad849c0414": {
      "model_module": "@jupyter-widgets/base",
      "model_module_version": "1.1.0",
      "model_name": "LayoutModel",
      "state": {}
     },
     "11465aeca17f4759b4ec98ab59dd3051": {
      "model_module": "@jupyter-widgets/controls",
      "model_module_version": "1.4.0",
      "model_name": "VBoxModel",
      "state": {
       "_dom_classes": [
        "widget-interact"
       ],
       "children": [
        "IPY_MODEL_0d25acc5c7154151ac13a06104ec9e02",
        "IPY_MODEL_a72f7cc35e4e412c8891190a7b3246a2",
        "IPY_MODEL_b92c8c37309943c5ab1d635d79ef2b70",
        "IPY_MODEL_bf85ad92b9584f5ea2ad6f4f7cb10f31"
       ],
       "layout": "IPY_MODEL_e582f68f177344beae34c9b047df0458"
      }
     },
     "133e4e7677844cb9bdf29ea70936b828": {
      "model_module": "@jupyter-widgets/base",
      "model_module_version": "1.1.0",
      "model_name": "LayoutModel",
      "state": {}
     },
     "17d5efd7d2b549ca8a6a7f0765c4691e": {
      "model_module": "@jupyter-widgets/controls",
      "model_module_version": "1.4.0",
      "model_name": "SliderStyleModel",
      "state": {
       "description_width": ""
      }
     },
     "1b02812f84a246d38ab1c924476563cc": {
      "model_module": "@jupyter-widgets/base",
      "model_module_version": "1.1.0",
      "model_name": "LayoutModel",
      "state": {}
     },
     "1ee55294102644eb861ac390197a5bef": {
      "model_module": "@jupyter-widgets/base",
      "model_module_version": "1.1.0",
      "model_name": "LayoutModel",
      "state": {}
     },
     "259c93af4ae145e7ac4e7a794bcf608b": {
      "model_module": "@jupyter-widgets/controls",
      "model_module_version": "1.4.0",
      "model_name": "SliderStyleModel",
      "state": {
       "description_width": ""
      }
     },
     "25a57e310a944d62ae8f429ec0b56db9": {
      "model_module": "@jupyter-widgets/output",
      "model_module_version": "1.0.0",
      "model_name": "OutputModel",
      "state": {
       "layout": "IPY_MODEL_3ad3b23a09d14e0da0bcec770f5f1e08"
      }
     },
     "26bc183c35964d02b5e80422eca6db58": {
      "model_module": "@jupyter-widgets/base",
      "model_module_version": "1.1.0",
      "model_name": "LayoutModel",
      "state": {}
     },
     "28e8c2f896cd4f2cbfcfbed405569371": {
      "model_module": "@jupyter-widgets/controls",
      "model_module_version": "1.4.0",
      "model_name": "FloatSliderModel",
      "state": {
       "description": "phi",
       "layout": "IPY_MODEL_787352d549e447ffb4f84ee7f733660c",
       "max": 3.141592653589793,
       "min": -3.141592653589793,
       "step": 0.39269908169872414,
       "style": "IPY_MODEL_0c279f25d8294f3bb1db4037a7fc61ce"
      }
     },
     "2bfdba4e98a44ae6a6e13a3b3c995960": {
      "model_module": "@jupyter-widgets/controls",
      "model_module_version": "1.4.0",
      "model_name": "FloatSliderModel",
      "state": {
       "description": "f",
       "layout": "IPY_MODEL_d9c1cfcc60414472a01e418e4c31ee9f",
       "max": 1,
       "step": 0.03125,
       "style": "IPY_MODEL_556a6f0286274a118f86024ad3f60922",
       "value": 0.4375
      }
     },
     "2ec636253e934e12b7ce94af1fd5b3cf": {
      "model_module": "@jupyter-widgets/controls",
      "model_module_version": "1.4.0",
      "model_name": "FloatSliderModel",
      "state": {
       "description": "A",
       "layout": "IPY_MODEL_894c4923f48f40158557abf1225becdd",
       "max": 3,
       "step": 0.1,
       "style": "IPY_MODEL_f28c1e87cfce42d39a0f4cb47745c5a5",
       "value": 2
      }
     },
     "30d71c215ef4476b8fa33896c989b164": {
      "model_module": "@jupyter-widgets/controls",
      "model_module_version": "1.4.0",
      "model_name": "SliderStyleModel",
      "state": {
       "description_width": ""
      }
     },
     "34675860a85e4a7c8c260793ca7f9848": {
      "model_module": "@jupyter-widgets/base",
      "model_module_version": "1.1.0",
      "model_name": "LayoutModel",
      "state": {}
     },
     "378d2691cc3041628883dfb74382a97e": {
      "model_module": "@jupyter-widgets/controls",
      "model_module_version": "1.4.0",
      "model_name": "FloatSliderModel",
      "state": {
       "description": "phi",
       "layout": "IPY_MODEL_1b02812f84a246d38ab1c924476563cc",
       "max": 3.141592653589793,
       "min": -3.141592653589793,
       "step": 0.39269908169872414,
       "style": "IPY_MODEL_50ddbf77148d45c389f842060863aee0"
      }
     },
     "388aa9a91a254f6aa3790ed747120c9a": {
      "model_module": "@jupyter-widgets/base",
      "model_module_version": "1.1.0",
      "model_name": "LayoutModel",
      "state": {}
     },
     "389782d7252a486391cabcfeb772c71b": {
      "model_module": "@jupyter-widgets/controls",
      "model_module_version": "1.4.0",
      "model_name": "FloatSliderModel",
      "state": {
       "description": "phi",
       "layout": "IPY_MODEL_f2b7ba592e2b4bcd8a1a3fc4d543a8a7",
       "max": 3.141592653589793,
       "min": -3.141592653589793,
       "step": 0.39269908169872414,
       "style": "IPY_MODEL_e153aad1f5944aba85a0113ae8cc13d6"
      }
     },
     "39b61d7f70eb42c79019ac4144e15ea6": {
      "model_module": "@jupyter-widgets/controls",
      "model_module_version": "1.4.0",
      "model_name": "SliderStyleModel",
      "state": {
       "description_width": ""
      }
     },
     "3ad3b23a09d14e0da0bcec770f5f1e08": {
      "model_module": "@jupyter-widgets/base",
      "model_module_version": "1.1.0",
      "model_name": "LayoutModel",
      "state": {}
     },
     "3d88a2cdfbb9432f89346848720c955f": {
      "model_module": "@jupyter-widgets/base",
      "model_module_version": "1.1.0",
      "model_name": "LayoutModel",
      "state": {}
     },
     "441adb58a88b4c58bef73e8da3e8a5e2": {
      "model_module": "@jupyter-widgets/base",
      "model_module_version": "1.1.0",
      "model_name": "LayoutModel",
      "state": {}
     },
     "466d140b9be14cd5b91b57406cba6d6b": {
      "model_module": "@jupyter-widgets/controls",
      "model_module_version": "1.4.0",
      "model_name": "FloatSliderModel",
      "state": {
       "description": "f",
       "layout": "IPY_MODEL_08131c29fb174210b93e1d84a741ce7a",
       "max": 1,
       "step": 0.03125,
       "style": "IPY_MODEL_7b44684d01464d2cbfcf28fce2f7759b",
       "value": 0.125
      }
     },
     "47eb4307a63a4e739572076151410e46": {
      "model_module": "@jupyter-widgets/output",
      "model_module_version": "1.0.0",
      "model_name": "OutputModel",
      "state": {
       "layout": "IPY_MODEL_7676a6c137e048d1980a919122b54571"
      }
     },
     "481c98fce62548b7a3718bb4fd66dd3b": {
      "model_module": "@jupyter-widgets/controls",
      "model_module_version": "1.4.0",
      "model_name": "FloatSliderModel",
      "state": {
       "description": "phi",
       "layout": "IPY_MODEL_9b5cbb354e9540dcba2ab8c069caab03",
       "max": 3.141592653589793,
       "min": -3.141592653589793,
       "step": 0.39269908169872414,
       "style": "IPY_MODEL_9f4e24bbfdd940a8b9e0274c6d42a13d"
      }
     },
     "49969bb4a399455297757e2aa0c0555d": {
      "model_module": "@jupyter-widgets/output",
      "model_module_version": "1.0.0",
      "model_name": "OutputModel",
      "state": {
       "layout": "IPY_MODEL_b142f2a27c474433b1fbc50579d7168d"
      }
     },
     "4ba726c7c06c43639af72f1771e25ca7": {
      "model_module": "@jupyter-widgets/controls",
      "model_module_version": "1.4.0",
      "model_name": "VBoxModel",
      "state": {
       "_dom_classes": [
        "widget-interact"
       ],
       "children": [
        "IPY_MODEL_2ec636253e934e12b7ce94af1fd5b3cf",
        "IPY_MODEL_466d140b9be14cd5b91b57406cba6d6b",
        "IPY_MODEL_378d2691cc3041628883dfb74382a97e",
        "IPY_MODEL_49969bb4a399455297757e2aa0c0555d"
       ],
       "layout": "IPY_MODEL_79a0d6e6e2294bbcb7c8a29e0e92fa1a"
      }
     },
     "50441b9cb7b749eea75ef32bdaad81fa": {
      "model_module": "@jupyter-widgets/controls",
      "model_module_version": "1.4.0",
      "model_name": "SliderStyleModel",
      "state": {
       "description_width": ""
      }
     },
     "50ddbf77148d45c389f842060863aee0": {
      "model_module": "@jupyter-widgets/controls",
      "model_module_version": "1.4.0",
      "model_name": "SliderStyleModel",
      "state": {
       "description_width": ""
      }
     },
     "556a6f0286274a118f86024ad3f60922": {
      "model_module": "@jupyter-widgets/controls",
      "model_module_version": "1.4.0",
      "model_name": "SliderStyleModel",
      "state": {
       "description_width": ""
      }
     },
     "68d7d3d26ef045d8bdf7521d2e056573": {
      "model_module": "@jupyter-widgets/controls",
      "model_module_version": "1.4.0",
      "model_name": "FloatSliderModel",
      "state": {
       "description": "f",
       "layout": "IPY_MODEL_ae9b0a791d2b48908148e18b1ae44c9d",
       "max": 1,
       "step": 0.03125,
       "style": "IPY_MODEL_c13cf906d163481996ca7923f5c4138c",
       "value": 0.125
      }
     },
     "691e427090b14d3791048593f0cdcf46": {
      "model_module": "@jupyter-widgets/controls",
      "model_module_version": "1.4.0",
      "model_name": "SliderStyleModel",
      "state": {
       "description_width": ""
      }
     },
     "6bb9c2846a414120a020e61e3e8adced": {
      "model_module": "@jupyter-widgets/base",
      "model_module_version": "1.1.0",
      "model_name": "LayoutModel",
      "state": {}
     },
     "705ece5f15aa41b1a954e65770fc6886": {
      "model_module": "@jupyter-widgets/output",
      "model_module_version": "1.0.0",
      "model_name": "OutputModel",
      "state": {
       "layout": "IPY_MODEL_f52a4a697fda4423af41305b3d4e3ca3"
      }
     },
     "7284a9285a1049669507957293f5f95b": {
      "model_module": "@jupyter-widgets/controls",
      "model_module_version": "1.4.0",
      "model_name": "SliderStyleModel",
      "state": {
       "description_width": ""
      }
     },
     "75f6bb0c621f4e778b46667f12dcd4ef": {
      "model_module": "@jupyter-widgets/controls",
      "model_module_version": "1.4.0",
      "model_name": "FloatSliderModel",
      "state": {
       "description": "phi",
       "layout": "IPY_MODEL_441adb58a88b4c58bef73e8da3e8a5e2",
       "max": 3.141592653589793,
       "min": -3.141592653589793,
       "step": 0.39269908169872414,
       "style": "IPY_MODEL_da8a2f3b871948c987e77b46706645f7",
       "value": -1.1781
      }
     },
     "7676a6c137e048d1980a919122b54571": {
      "model_module": "@jupyter-widgets/base",
      "model_module_version": "1.1.0",
      "model_name": "LayoutModel",
      "state": {}
     },
     "787352d549e447ffb4f84ee7f733660c": {
      "model_module": "@jupyter-widgets/base",
      "model_module_version": "1.1.0",
      "model_name": "LayoutModel",
      "state": {}
     },
     "79a0d6e6e2294bbcb7c8a29e0e92fa1a": {
      "model_module": "@jupyter-widgets/base",
      "model_module_version": "1.1.0",
      "model_name": "LayoutModel",
      "state": {}
     },
     "7b44684d01464d2cbfcf28fce2f7759b": {
      "model_module": "@jupyter-widgets/controls",
      "model_module_version": "1.4.0",
      "model_name": "SliderStyleModel",
      "state": {
       "description_width": ""
      }
     },
     "7c6664ed5028481a8e9747bc4b346aeb": {
      "model_module": "@jupyter-widgets/output",
      "model_module_version": "1.0.0",
      "model_name": "OutputModel",
      "state": {
       "layout": "IPY_MODEL_10ad46cb646c489b8a4742ad849c0414",
       "outputs": [
        {
         "data": {
          "text/plain": "<matplotlib.figure.Figure at 0x7fef217bebe0>"
         },
         "metadata": {},
         "output_type": "display_data"
        }
       ]
      }
     },
     "7d9311fb40234ab4accae51108133123": {
      "model_module": "@jupyter-widgets/controls",
      "model_module_version": "1.4.0",
      "model_name": "SliderStyleModel",
      "state": {
       "description_width": ""
      }
     },
     "852af83db270458eba77fece88a675ef": {
      "model_module": "@jupyter-widgets/base",
      "model_module_version": "1.1.0",
      "model_name": "LayoutModel",
      "state": {}
     },
     "894c4923f48f40158557abf1225becdd": {
      "model_module": "@jupyter-widgets/base",
      "model_module_version": "1.1.0",
      "model_name": "LayoutModel",
      "state": {}
     },
     "8a6386f8a7c54c9984dc33c1fe434287": {
      "model_module": "@jupyter-widgets/base",
      "model_module_version": "1.1.0",
      "model_name": "LayoutModel",
      "state": {}
     },
     "8ca212dc05b440ce817cf3c30a0c66bd": {
      "model_module": "@jupyter-widgets/base",
      "model_module_version": "1.1.0",
      "model_name": "LayoutModel",
      "state": {}
     },
     "8d41d2e52fdf47549ef28b974aeee62e": {
      "model_module": "@jupyter-widgets/controls",
      "model_module_version": "1.4.0",
      "model_name": "SliderStyleModel",
      "state": {
       "description_width": ""
      }
     },
     "929695e29b00472f943ea3fed44f4b7e": {
      "model_module": "@jupyter-widgets/controls",
      "model_module_version": "1.4.0",
      "model_name": "FloatSliderModel",
      "state": {
       "description": "A",
       "layout": "IPY_MODEL_994ab115110e4e1aa360dad81dcb3aea",
       "max": 3,
       "step": 0.1,
       "style": "IPY_MODEL_691e427090b14d3791048593f0cdcf46",
       "value": 2
      }
     },
     "994ab115110e4e1aa360dad81dcb3aea": {
      "model_module": "@jupyter-widgets/base",
      "model_module_version": "1.1.0",
      "model_name": "LayoutModel",
      "state": {}
     },
     "9b066c5c92724dbebf6758a271693a7b": {
      "model_module": "@jupyter-widgets/controls",
      "model_module_version": "1.4.0",
      "model_name": "VBoxModel",
      "state": {
       "_dom_classes": [
        "widget-interact"
       ],
       "children": [
        "IPY_MODEL_ecb13b5310c54f4486d07872d4e169f8",
        "IPY_MODEL_68d7d3d26ef045d8bdf7521d2e056573",
        "IPY_MODEL_481c98fce62548b7a3718bb4fd66dd3b",
        "IPY_MODEL_7c6664ed5028481a8e9747bc4b346aeb"
       ],
       "layout": "IPY_MODEL_ddbbbb61e7524587b7d0c9c52c249a69"
      }
     },
     "9b5cbb354e9540dcba2ab8c069caab03": {
      "model_module": "@jupyter-widgets/base",
      "model_module_version": "1.1.0",
      "model_name": "LayoutModel",
      "state": {}
     },
     "9c2e169838a64e8298956df30ba69dcd": {
      "model_module": "@jupyter-widgets/base",
      "model_module_version": "1.1.0",
      "model_name": "LayoutModel",
      "state": {}
     },
     "9f4e24bbfdd940a8b9e0274c6d42a13d": {
      "model_module": "@jupyter-widgets/controls",
      "model_module_version": "1.4.0",
      "model_name": "SliderStyleModel",
      "state": {
       "description_width": ""
      }
     },
     "a64b56cba7d04c279d85bfee728f7deb": {
      "model_module": "@jupyter-widgets/controls",
      "model_module_version": "1.4.0",
      "model_name": "SliderStyleModel",
      "state": {
       "description_width": ""
      }
     },
     "a72f7cc35e4e412c8891190a7b3246a2": {
      "model_module": "@jupyter-widgets/controls",
      "model_module_version": "1.4.0",
      "model_name": "FloatSliderModel",
      "state": {
       "description": "f",
       "layout": "IPY_MODEL_e5a8c4f22e9b4c5eaa00c06e9d20d0f9",
       "max": 1,
       "step": 0.03125,
       "style": "IPY_MODEL_30d71c215ef4476b8fa33896c989b164",
       "value": 0.125
      }
     },
     "ae9b0a791d2b48908148e18b1ae44c9d": {
      "model_module": "@jupyter-widgets/base",
      "model_module_version": "1.1.0",
      "model_name": "LayoutModel",
      "state": {}
     },
     "b142f2a27c474433b1fbc50579d7168d": {
      "model_module": "@jupyter-widgets/base",
      "model_module_version": "1.1.0",
      "model_name": "LayoutModel",
      "state": {}
     },
     "b2295f3aea5e4394b10c7fc09acb62f8": {
      "model_module": "@jupyter-widgets/base",
      "model_module_version": "1.1.0",
      "model_name": "LayoutModel",
      "state": {}
     },
     "b6a83403e7f648d09cea5aee75e215aa": {
      "model_module": "@jupyter-widgets/controls",
      "model_module_version": "1.4.0",
      "model_name": "FloatSliderModel",
      "state": {
       "description": "phi",
       "layout": "IPY_MODEL_8ca212dc05b440ce817cf3c30a0c66bd",
       "max": 3.141592653589793,
       "min": -3.141592653589793,
       "step": 0.39269908169872414,
       "style": "IPY_MODEL_17d5efd7d2b549ca8a6a7f0765c4691e",
       "value": 0.7854
      }
     },
     "b6bffa87bc0d46608082b9fb78169f9f": {
      "model_module": "@jupyter-widgets/base",
      "model_module_version": "1.1.0",
      "model_name": "LayoutModel",
      "state": {}
     },
     "b7c65b56283440f093f95f32d682a353": {
      "model_module": "@jupyter-widgets/controls",
      "model_module_version": "1.4.0",
      "model_name": "FloatSliderModel",
      "state": {
       "description": "f",
       "layout": "IPY_MODEL_9c2e169838a64e8298956df30ba69dcd",
       "max": 1,
       "step": 0.03125,
       "style": "IPY_MODEL_259c93af4ae145e7ac4e7a794bcf608b",
       "value": 0.1875
      }
     },
     "b8cb73c02f6b4882bc8a8c72030897a0": {
      "model_module": "@jupyter-widgets/controls",
      "model_module_version": "1.4.0",
      "model_name": "VBoxModel",
      "state": {
       "_dom_classes": [
        "widget-interact"
       ],
       "children": [
        "IPY_MODEL_929695e29b00472f943ea3fed44f4b7e",
        "IPY_MODEL_2bfdba4e98a44ae6a6e13a3b3c995960",
        "IPY_MODEL_75f6bb0c621f4e778b46667f12dcd4ef",
        "IPY_MODEL_f42c4083a8754144b0eb2d30f6db5d20"
       ],
       "layout": "IPY_MODEL_34675860a85e4a7c8c260793ca7f9848"
      }
     },
     "b92c8c37309943c5ab1d635d79ef2b70": {
      "model_module": "@jupyter-widgets/controls",
      "model_module_version": "1.4.0",
      "model_name": "FloatSliderModel",
      "state": {
       "description": "phi",
       "layout": "IPY_MODEL_1ee55294102644eb861ac390197a5bef",
       "max": 3.141592653589793,
       "min": -3.141592653589793,
       "step": 0.39269908169872414,
       "style": "IPY_MODEL_50441b9cb7b749eea75ef32bdaad81fa"
      }
     },
     "bf85ad92b9584f5ea2ad6f4f7cb10f31": {
      "model_module": "@jupyter-widgets/output",
      "model_module_version": "1.0.0",
      "model_name": "OutputModel",
      "state": {
       "layout": "IPY_MODEL_852af83db270458eba77fece88a675ef",
       "outputs": [
        {
         "data": {
          "text/plain": "<matplotlib.figure.Figure at 0x7f77d4d7ccc0>"
         },
         "metadata": {},
         "output_type": "display_data"
        }
       ]
      }
     },
     "c0b9106dd21142e0957e37a52730f93b": {
      "model_module": "@jupyter-widgets/controls",
      "model_module_version": "1.4.0",
      "model_name": "FloatSliderModel",
      "state": {
       "description": "f",
       "layout": "IPY_MODEL_b2295f3aea5e4394b10c7fc09acb62f8",
       "max": 1,
       "step": 0.03125,
       "style": "IPY_MODEL_c61869484ae046519a78d1b5eb80fa20",
       "value": 0.125
      }
     },
     "c13cf906d163481996ca7923f5c4138c": {
      "model_module": "@jupyter-widgets/controls",
      "model_module_version": "1.4.0",
      "model_name": "SliderStyleModel",
      "state": {
       "description_width": ""
      }
     },
     "c31f27aaefab424b97319e990c957bd9": {
      "model_module": "@jupyter-widgets/controls",
      "model_module_version": "1.4.0",
      "model_name": "VBoxModel",
      "state": {
       "_dom_classes": [
        "widget-interact"
       ],
       "children": [
        "IPY_MODEL_f3a0324abb2d44d7836ff11ba735466f",
        "IPY_MODEL_ef41f6a60c084a73aa0273fb5b9d9c9f",
        "IPY_MODEL_389782d7252a486391cabcfeb772c71b",
        "IPY_MODEL_705ece5f15aa41b1a954e65770fc6886"
       ],
       "layout": "IPY_MODEL_8a6386f8a7c54c9984dc33c1fe434287"
      }
     },
     "c61869484ae046519a78d1b5eb80fa20": {
      "model_module": "@jupyter-widgets/controls",
      "model_module_version": "1.4.0",
      "model_name": "SliderStyleModel",
      "state": {
       "description_width": ""
      }
     },
     "d4d2969d768f448482cd3a0a14d3801f": {
      "model_module": "@jupyter-widgets/controls",
      "model_module_version": "1.4.0",
      "model_name": "FloatSliderModel",
      "state": {
       "description": "A",
       "layout": "IPY_MODEL_e60bdd1848944712b0d0553d0efbf148",
       "max": 3,
       "step": 0.1,
       "style": "IPY_MODEL_e61041dda071445ebe6bc243d0c10117",
       "value": 1.4
      }
     },
     "d9c1cfcc60414472a01e418e4c31ee9f": {
      "model_module": "@jupyter-widgets/base",
      "model_module_version": "1.1.0",
      "model_name": "LayoutModel",
      "state": {}
     },
     "da8a2f3b871948c987e77b46706645f7": {
      "model_module": "@jupyter-widgets/controls",
      "model_module_version": "1.4.0",
      "model_name": "SliderStyleModel",
      "state": {
       "description_width": ""
      }
     },
     "ddbbbb61e7524587b7d0c9c52c249a69": {
      "model_module": "@jupyter-widgets/base",
      "model_module_version": "1.1.0",
      "model_name": "LayoutModel",
      "state": {}
     },
     "e123064c72b644fe89438d218442fd6a": {
      "model_module": "@jupyter-widgets/controls",
      "model_module_version": "1.4.0",
      "model_name": "VBoxModel",
      "state": {
       "_dom_classes": [
        "widget-interact"
       ],
       "children": [
        "IPY_MODEL_f5590954bfda49da835d08fdf7f4c413",
        "IPY_MODEL_c0b9106dd21142e0957e37a52730f93b",
        "IPY_MODEL_28e8c2f896cd4f2cbfcfbed405569371",
        "IPY_MODEL_47eb4307a63a4e739572076151410e46"
       ],
       "layout": "IPY_MODEL_fc8576f1fa4443b59d87bc150dc5d91f"
      }
     },
     "e153aad1f5944aba85a0113ae8cc13d6": {
      "model_module": "@jupyter-widgets/controls",
      "model_module_version": "1.4.0",
      "model_name": "SliderStyleModel",
      "state": {
       "description_width": ""
      }
     },
     "e582f68f177344beae34c9b047df0458": {
      "model_module": "@jupyter-widgets/base",
      "model_module_version": "1.1.0",
      "model_name": "LayoutModel",
      "state": {}
     },
     "e5a8c4f22e9b4c5eaa00c06e9d20d0f9": {
      "model_module": "@jupyter-widgets/base",
      "model_module_version": "1.1.0",
      "model_name": "LayoutModel",
      "state": {}
     },
     "e60bdd1848944712b0d0553d0efbf148": {
      "model_module": "@jupyter-widgets/base",
      "model_module_version": "1.1.0",
      "model_name": "LayoutModel",
      "state": {}
     },
     "e61041dda071445ebe6bc243d0c10117": {
      "model_module": "@jupyter-widgets/controls",
      "model_module_version": "1.4.0",
      "model_name": "SliderStyleModel",
      "state": {
       "description_width": ""
      }
     },
     "e6bc9659d95c4a81a8ec4458773acff6": {
      "model_module": "@jupyter-widgets/controls",
      "model_module_version": "1.4.0",
      "model_name": "VBoxModel",
      "state": {
       "_dom_classes": [
        "widget-interact"
       ],
       "children": [
        "IPY_MODEL_d4d2969d768f448482cd3a0a14d3801f",
        "IPY_MODEL_b7c65b56283440f093f95f32d682a353",
        "IPY_MODEL_b6a83403e7f648d09cea5aee75e215aa",
        "IPY_MODEL_25a57e310a944d62ae8f429ec0b56db9"
       ],
       "layout": "IPY_MODEL_388aa9a91a254f6aa3790ed747120c9a"
      }
     },
     "ecb13b5310c54f4486d07872d4e169f8": {
      "model_module": "@jupyter-widgets/controls",
      "model_module_version": "1.4.0",
      "model_name": "FloatSliderModel",
      "state": {
       "description": "A",
       "layout": "IPY_MODEL_6bb9c2846a414120a020e61e3e8adced",
       "max": 3,
       "step": 0.1,
       "style": "IPY_MODEL_7284a9285a1049669507957293f5f95b",
       "value": 1.8
      }
     },
     "ef41f6a60c084a73aa0273fb5b9d9c9f": {
      "model_module": "@jupyter-widgets/controls",
      "model_module_version": "1.4.0",
      "model_name": "FloatSliderModel",
      "state": {
       "description": "f",
       "layout": "IPY_MODEL_26bc183c35964d02b5e80422eca6db58",
       "max": 1,
       "step": 0.03125,
       "style": "IPY_MODEL_39b61d7f70eb42c79019ac4144e15ea6",
       "value": 0.125
      }
     },
     "f28c1e87cfce42d39a0f4cb47745c5a5": {
      "model_module": "@jupyter-widgets/controls",
      "model_module_version": "1.4.0",
      "model_name": "SliderStyleModel",
      "state": {
       "description_width": ""
      }
     },
     "f2b7ba592e2b4bcd8a1a3fc4d543a8a7": {
      "model_module": "@jupyter-widgets/base",
      "model_module_version": "1.1.0",
      "model_name": "LayoutModel",
      "state": {}
     },
     "f3a0324abb2d44d7836ff11ba735466f": {
      "model_module": "@jupyter-widgets/controls",
      "model_module_version": "1.4.0",
      "model_name": "FloatSliderModel",
      "state": {
       "description": "A",
       "layout": "IPY_MODEL_3d88a2cdfbb9432f89346848720c955f",
       "max": 3,
       "step": 0.1,
       "style": "IPY_MODEL_8d41d2e52fdf47549ef28b974aeee62e",
       "value": 1
      }
     },
     "f42c4083a8754144b0eb2d30f6db5d20": {
      "model_module": "@jupyter-widgets/output",
      "model_module_version": "1.0.0",
      "model_name": "OutputModel",
      "state": {
       "layout": "IPY_MODEL_133e4e7677844cb9bdf29ea70936b828"
      }
     },
     "f52a4a697fda4423af41305b3d4e3ca3": {
      "model_module": "@jupyter-widgets/base",
      "model_module_version": "1.1.0",
      "model_name": "LayoutModel",
      "state": {}
     },
     "f5590954bfda49da835d08fdf7f4c413": {
      "model_module": "@jupyter-widgets/controls",
      "model_module_version": "1.4.0",
      "model_name": "FloatSliderModel",
      "state": {
       "description": "A",
       "layout": "IPY_MODEL_fc45d13d39df4ad0b08b0e9c68b92013",
       "max": 3,
       "step": 0.1,
       "style": "IPY_MODEL_a64b56cba7d04c279d85bfee728f7deb",
       "value": 1
      }
     },
     "fc45d13d39df4ad0b08b0e9c68b92013": {
      "model_module": "@jupyter-widgets/base",
      "model_module_version": "1.1.0",
      "model_name": "LayoutModel",
      "state": {}
     },
     "fc8576f1fa4443b59d87bc150dc5d91f": {
      "model_module": "@jupyter-widgets/base",
      "model_module_version": "1.1.0",
      "model_name": "LayoutModel",
      "state": {}
     }
    },
    "version_major": 2,
    "version_minor": 0
   }
  }
 },
 "nbformat": 4,
 "nbformat_minor": 2
}
