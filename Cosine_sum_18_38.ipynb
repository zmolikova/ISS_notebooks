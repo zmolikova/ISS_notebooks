{
 "cells": [
  {
   "cell_type": "markdown",
   "metadata": {},
   "source": [
    "Do `Kernel -> Restart & Run All` in top menu to run the notebook"
   ]
  },
  {
   "cell_type": "code",
   "execution_count": 1,
   "metadata": {
    "collapsed": true
   },
   "outputs": [],
   "source": [
    "import numpy as np\n",
    "from scipy.fftpack import fft\n",
    "import matplotlib.pyplot as plt\n",
    "from numpy import pi"
   ]
  },
  {
   "cell_type": "markdown",
   "metadata": {},
   "source": [
    "# Signál v čase"
   ]
  },
  {
   "cell_type": "markdown",
   "metadata": {},
   "source": [
    "$x[n] = 10\\cos(2\\pi \\frac{1}{8} n) +  2\\cos(2\\pi \\frac{3}{8} n) $ pro $n=0\\dots 7$"
   ]
  },
  {
   "cell_type": "code",
   "execution_count": 2,
   "metadata": {},
   "outputs": [
    {
     "data": {
      "text/plain": [
       "array([  1.20000000e+01,   5.65685425e+00,   2.44929360e-16,\n",
       "        -5.65685425e+00,  -1.20000000e+01,  -5.65685425e+00,\n",
       "        -7.34788079e-16,   5.65685425e+00])"
      ]
     },
     "execution_count": 2,
     "metadata": {},
     "output_type": "execute_result"
    }
   ],
   "source": [
    "N = 8\n",
    "n_axis = np.arange(N)\n",
    "cos_n1 = 10*np.cos(2*pi*1/8*n_axis)\n",
    "cos_n2 = 2*np.cos(2*pi*3/8*n_axis)\n",
    "x = cos_n1 + cos_n2\n",
    "x"
   ]
  },
  {
   "cell_type": "code",
   "execution_count": 3,
   "metadata": {},
   "outputs": [
    {
     "data": {
      "image/png": "[encoded data removed]",
      "text/plain": [
       "<matplotlib.figure.Figure at 0x7fd6958386d8>"
      ]
     },
     "metadata": {},
     "output_type": "display_data"
    }
   ],
   "source": [
    "plt.stem(x)\n",
    "plt.xlabel('n')\n",
    "plt.ylabel('x[n]')\n",
    "plt.show()"
   ]
  },
  {
   "cell_type": "markdown",
   "metadata": {},
   "source": [
    "# Spektrum"
   ]
  },
  {
   "cell_type": "code",
   "execution_count": 4,
   "metadata": {},
   "outputs": [
    {
     "data": {
      "image/png": "[encoded data removed]",
      "text/plain": [
       "<matplotlib.figure.Figure at 0x7fd6930f9c50>"
      ]
     },
     "metadata": {},
     "output_type": "display_data"
    }
   ],
   "source": [
    "X = fft(x) / N\n",
    "plt.stem(np.abs(X))\n",
    "plt.xlabel('k')\n",
    "plt.ylabel('X[k]/N')\n",
    "plt.show()"
   ]
  },
  {
   "cell_type": "markdown",
   "metadata": {
    "collapsed": true
   },
   "source": [
    "Ze spektra můžeme zpět dostat původní signál sumou cosinusovek na frekvencích $\\frac{0}{8}, \\frac{1}{8}, \\dots, \\frac{7}{8}$\n",
    "\n",
    "\\begin{align}\n",
    "x[n] &= \\sum_{k=0}^7 X[k] \\cos(2\\pi \\frac{k}{N} n) = \\\\\n",
    "&= X[0] cos(2\\pi \\frac{0}{8} n) + X[1] cos(2\\pi \\frac{1}{8} n) + \\dots + X[7] cos(2\\pi \\frac{7}{8} n)\n",
    "\\end{align}"
   ]
  },
  {
   "cell_type": "code",
   "execution_count": 5,
   "metadata": {},
   "outputs": [
    {
     "data": {
      "image/png": "[encoded data removed]",
      "text/plain": [
       "<matplotlib.figure.Figure at 0x7fd6930d4f98>"
      ]
     },
     "metadata": {},
     "output_type": "display_data"
    },
    {
     "data": {
      "text/plain": [
       "array([  1.20000000e+01,   5.65685425e+00,  -1.95943488e-15,\n",
       "        -5.65685425e+00,  -1.20000000e+01,  -5.65685425e+00,\n",
       "        -5.75955384e-15,   5.65685425e+00])"
      ]
     },
     "execution_count": 5,
     "metadata": {},
     "output_type": "execute_result"
    }
   ],
   "source": [
    "summed = np.zeros(N)\n",
    "n = np.arange(N)\n",
    "for k in range(N):\n",
    "    summed += X[k].real * np.cos(2*pi*(k/N)*n)\n",
    "plt.stem(summed)\n",
    "plt.xlabel('n')\n",
    "plt.ylabel('x[n]')\n",
    "plt.show()\n",
    "summed"
   ]
  },
  {
   "cell_type": "code",
   "execution_count": null,
   "metadata": {
    "collapsed": true
   },
   "outputs": [],
   "source": []
  }
 ],
 "metadata": {
  "kernelspec": {
   "display_name": "Python 3",
   "language": "python",
   "name": "python3"
  },
  "language_info": {
   "codemirror_mode": {
    "name": "ipython",
    "version": 3
   },
   "file_extension": ".py",
   "mimetype": "text/x-python",
   "name": "python",
   "nbconvert_exporter": "python",
   "pygments_lexer": "ipython3",
   "version": "3.6.1"
  }
 },
 "nbformat": 4,
 "nbformat_minor": 2
}
